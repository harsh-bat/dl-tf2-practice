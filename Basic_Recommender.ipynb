{
  "nbformat": 4,
  "nbformat_minor": 0,
  "metadata": {
    "colab": {
      "name": "Basic Recommender.ipynb",
      "provenance": [],
      "collapsed_sections": [],
      "authorship_tag": "ABX9TyP157bteF7S5BmaYK/hkzqh",
      "include_colab_link": true
    },
    "kernelspec": {
      "name": "python3",
      "display_name": "Python 3"
    },
    "accelerator": "GPU"
  },
  "cells": [
    {
      "cell_type": "markdown",
      "metadata": {
        "id": "view-in-github",
        "colab_type": "text"
      },
      "source": [
        "<a href=\"https://colab.research.google.com/github/harsh-bat/tensorFlow2Learn/blob/master/Basic_Recommender.ipynb\" target=\"_parent\"><img src=\"https://colab.research.google.com/assets/colab-badge.svg\" alt=\"Open In Colab\"/></a>"
      ]
    },
    {
      "cell_type": "code",
      "metadata": {
        "id": "CBHqtLo7zkBh",
        "colab_type": "code",
        "colab": {}
      },
      "source": [
        "import tensorflow as tf\n",
        "from tensorflow.keras.layers import Input, Dense, Embedding, Flatten, Concatenate\n",
        "from tensorflow.keras.models import Model\n",
        "from tensorflow.keras.optimizers import SGD, Adam\n",
        "from sklearn.utils import shuffle\n",
        "\n",
        "import numpy as np\n",
        "import pandas as pd\n",
        "import matplotlib.pyplot as plt"
      ],
      "execution_count": 6,
      "outputs": []
    },
    {
      "cell_type": "code",
      "metadata": {
        "id": "OweRhlS60c11",
        "colab_type": "code",
        "colab": {
          "base_uri": "https://localhost:8080/",
          "height": 202
        },
        "outputId": "13414a0a-8312-43a5-edaa-0d8b88742f5f"
      },
      "source": [
        "!wget -nc http://files.grouplens.org/datasets/movielens/ml-20m.zip"
      ],
      "execution_count": 2,
      "outputs": [
        {
          "output_type": "stream",
          "text": [
            "--2020-09-15 08:12:12--  http://files.grouplens.org/datasets/movielens/ml-20m.zip\n",
            "Resolving files.grouplens.org (files.grouplens.org)... 128.101.65.152\n",
            "Connecting to files.grouplens.org (files.grouplens.org)|128.101.65.152|:80... connected.\n",
            "HTTP request sent, awaiting response... 200 OK\n",
            "Length: 198702078 (189M) [application/zip]\n",
            "Saving to: ‘ml-20m.zip’\n",
            "\n",
            "ml-20m.zip          100%[===================>] 189.50M  27.3MB/s    in 8.3s    \n",
            "\n",
            "2020-09-15 08:12:25 (22.8 MB/s) - ‘ml-20m.zip’ saved [198702078/198702078]\n",
            "\n"
          ],
          "name": "stdout"
        }
      ]
    },
    {
      "cell_type": "code",
      "metadata": {
        "id": "INZPfnHo0f1F",
        "colab_type": "code",
        "colab": {
          "base_uri": "https://localhost:8080/",
          "height": 168
        },
        "outputId": "2e1e017f-b437-4011-82ad-836596fecfd6"
      },
      "source": [
        "!unzip -n ml-20m.zip"
      ],
      "execution_count": 3,
      "outputs": [
        {
          "output_type": "stream",
          "text": [
            "Archive:  ml-20m.zip\n",
            "   creating: ml-20m/\n",
            "  inflating: ml-20m/genome-scores.csv  \n",
            "  inflating: ml-20m/genome-tags.csv  \n",
            "  inflating: ml-20m/links.csv        \n",
            "  inflating: ml-20m/movies.csv       \n",
            "  inflating: ml-20m/ratings.csv      \n",
            "  inflating: ml-20m/README.txt       \n",
            "  inflating: ml-20m/tags.csv         \n"
          ],
          "name": "stdout"
        }
      ]
    },
    {
      "cell_type": "code",
      "metadata": {
        "id": "ZLddscIM0h_7",
        "colab_type": "code",
        "colab": {
          "base_uri": "https://localhost:8080/",
          "height": 34
        },
        "outputId": "4dd14894-e1e6-4192-b6bb-8eaefeb8a856"
      },
      "source": [
        "!ls"
      ],
      "execution_count": 4,
      "outputs": [
        {
          "output_type": "stream",
          "text": [
            "ml-20m\tml-20m.zip  sample_data\n"
          ],
          "name": "stdout"
        }
      ]
    },
    {
      "cell_type": "code",
      "metadata": {
        "id": "VbURf8Fm0lEX",
        "colab_type": "code",
        "colab": {
          "base_uri": "https://localhost:8080/",
          "height": 195
        },
        "outputId": "527f2beb-65b8-493f-d30d-307f535f9b92"
      },
      "source": [
        "df = pd.read_csv('ml-20m/ratings.csv')\n",
        "df.head()"
      ],
      "execution_count": 7,
      "outputs": [
        {
          "output_type": "execute_result",
          "data": {
            "text/html": [
              "<div>\n",
              "<style scoped>\n",
              "    .dataframe tbody tr th:only-of-type {\n",
              "        vertical-align: middle;\n",
              "    }\n",
              "\n",
              "    .dataframe tbody tr th {\n",
              "        vertical-align: top;\n",
              "    }\n",
              "\n",
              "    .dataframe thead th {\n",
              "        text-align: right;\n",
              "    }\n",
              "</style>\n",
              "<table border=\"1\" class=\"dataframe\">\n",
              "  <thead>\n",
              "    <tr style=\"text-align: right;\">\n",
              "      <th></th>\n",
              "      <th>userId</th>\n",
              "      <th>movieId</th>\n",
              "      <th>rating</th>\n",
              "      <th>timestamp</th>\n",
              "    </tr>\n",
              "  </thead>\n",
              "  <tbody>\n",
              "    <tr>\n",
              "      <th>0</th>\n",
              "      <td>1</td>\n",
              "      <td>2</td>\n",
              "      <td>3.5</td>\n",
              "      <td>1112486027</td>\n",
              "    </tr>\n",
              "    <tr>\n",
              "      <th>1</th>\n",
              "      <td>1</td>\n",
              "      <td>29</td>\n",
              "      <td>3.5</td>\n",
              "      <td>1112484676</td>\n",
              "    </tr>\n",
              "    <tr>\n",
              "      <th>2</th>\n",
              "      <td>1</td>\n",
              "      <td>32</td>\n",
              "      <td>3.5</td>\n",
              "      <td>1112484819</td>\n",
              "    </tr>\n",
              "    <tr>\n",
              "      <th>3</th>\n",
              "      <td>1</td>\n",
              "      <td>47</td>\n",
              "      <td>3.5</td>\n",
              "      <td>1112484727</td>\n",
              "    </tr>\n",
              "    <tr>\n",
              "      <th>4</th>\n",
              "      <td>1</td>\n",
              "      <td>50</td>\n",
              "      <td>3.5</td>\n",
              "      <td>1112484580</td>\n",
              "    </tr>\n",
              "  </tbody>\n",
              "</table>\n",
              "</div>"
            ],
            "text/plain": [
              "   userId  movieId  rating   timestamp\n",
              "0       1        2     3.5  1112486027\n",
              "1       1       29     3.5  1112484676\n",
              "2       1       32     3.5  1112484819\n",
              "3       1       47     3.5  1112484727\n",
              "4       1       50     3.5  1112484580"
            ]
          },
          "metadata": {
            "tags": []
          },
          "execution_count": 7
        }
      ]
    },
    {
      "cell_type": "code",
      "metadata": {
        "id": "x-szdU5U0nOV",
        "colab_type": "code",
        "colab": {
          "base_uri": "https://localhost:8080/",
          "height": 34
        },
        "outputId": "49e5b595-a7e4-4c92-d7c5-caf454d78309"
      },
      "source": [
        "len(np.unique(pd.Categorical(df['userId']).codes))"
      ],
      "execution_count": 13,
      "outputs": [
        {
          "output_type": "execute_result",
          "data": {
            "text/plain": [
              "138493"
            ]
          },
          "metadata": {
            "tags": []
          },
          "execution_count": 13
        }
      ]
    },
    {
      "cell_type": "code",
      "metadata": {
        "id": "BZH6n84x0x9g",
        "colab_type": "code",
        "colab": {
          "base_uri": "https://localhost:8080/",
          "height": 34
        },
        "outputId": "d6427fe7-4610-4b4a-f6d8-30f6b0414d90"
      },
      "source": [
        "len(pd.Categorical(df['userId']).codes)"
      ],
      "execution_count": 14,
      "outputs": [
        {
          "output_type": "execute_result",
          "data": {
            "text/plain": [
              "20000263"
            ]
          },
          "metadata": {
            "tags": []
          },
          "execution_count": 14
        }
      ]
    },
    {
      "cell_type": "code",
      "metadata": {
        "id": "9zVym-401HO7",
        "colab_type": "code",
        "colab": {}
      },
      "source": [
        "df['new_user_id'] = pd.Categorical(df['userId']).codes"
      ],
      "execution_count": 15,
      "outputs": []
    },
    {
      "cell_type": "code",
      "metadata": {
        "id": "KzPjcffH1NSu",
        "colab_type": "code",
        "colab": {
          "base_uri": "https://localhost:8080/",
          "height": 34
        },
        "outputId": "19b8a280-2103-40a4-da38-68155dda07e8"
      },
      "source": [
        "len(np.unique(pd.Categorical(df['movieId']).codes))"
      ],
      "execution_count": 19,
      "outputs": [
        {
          "output_type": "execute_result",
          "data": {
            "text/plain": [
              "26744"
            ]
          },
          "metadata": {
            "tags": []
          },
          "execution_count": 19
        }
      ]
    },
    {
      "cell_type": "code",
      "metadata": {
        "id": "vb--ruqT1Otx",
        "colab_type": "code",
        "colab": {
          "base_uri": "https://localhost:8080/",
          "height": 34
        },
        "outputId": "24a17d7c-4318-49ee-e2e6-2ba0add80c5d"
      },
      "source": [
        "len(pd.Categorical(df['userId']).codes)"
      ],
      "execution_count": 20,
      "outputs": [
        {
          "output_type": "execute_result",
          "data": {
            "text/plain": [
              "20000263"
            ]
          },
          "metadata": {
            "tags": []
          },
          "execution_count": 20
        }
      ]
    },
    {
      "cell_type": "code",
      "metadata": {
        "id": "G8qwG6J91eFz",
        "colab_type": "code",
        "colab": {}
      },
      "source": [
        "df['new_movie_id'] = pd.Categorical(df['movieId']).codes"
      ],
      "execution_count": 21,
      "outputs": []
    },
    {
      "cell_type": "code",
      "metadata": {
        "id": "pGbVALUl1i7i",
        "colab_type": "code",
        "colab": {
          "base_uri": "https://localhost:8080/",
          "height": 195
        },
        "outputId": "b6586f0d-0064-41f7-e4e9-1586644e98bb"
      },
      "source": [
        "df.head()"
      ],
      "execution_count": 22,
      "outputs": [
        {
          "output_type": "execute_result",
          "data": {
            "text/html": [
              "<div>\n",
              "<style scoped>\n",
              "    .dataframe tbody tr th:only-of-type {\n",
              "        vertical-align: middle;\n",
              "    }\n",
              "\n",
              "    .dataframe tbody tr th {\n",
              "        vertical-align: top;\n",
              "    }\n",
              "\n",
              "    .dataframe thead th {\n",
              "        text-align: right;\n",
              "    }\n",
              "</style>\n",
              "<table border=\"1\" class=\"dataframe\">\n",
              "  <thead>\n",
              "    <tr style=\"text-align: right;\">\n",
              "      <th></th>\n",
              "      <th>userId</th>\n",
              "      <th>movieId</th>\n",
              "      <th>rating</th>\n",
              "      <th>timestamp</th>\n",
              "      <th>new_user_id</th>\n",
              "      <th>new_movie_id</th>\n",
              "    </tr>\n",
              "  </thead>\n",
              "  <tbody>\n",
              "    <tr>\n",
              "      <th>0</th>\n",
              "      <td>1</td>\n",
              "      <td>2</td>\n",
              "      <td>3.5</td>\n",
              "      <td>1112486027</td>\n",
              "      <td>0</td>\n",
              "      <td>1</td>\n",
              "    </tr>\n",
              "    <tr>\n",
              "      <th>1</th>\n",
              "      <td>1</td>\n",
              "      <td>29</td>\n",
              "      <td>3.5</td>\n",
              "      <td>1112484676</td>\n",
              "      <td>0</td>\n",
              "      <td>28</td>\n",
              "    </tr>\n",
              "    <tr>\n",
              "      <th>2</th>\n",
              "      <td>1</td>\n",
              "      <td>32</td>\n",
              "      <td>3.5</td>\n",
              "      <td>1112484819</td>\n",
              "      <td>0</td>\n",
              "      <td>31</td>\n",
              "    </tr>\n",
              "    <tr>\n",
              "      <th>3</th>\n",
              "      <td>1</td>\n",
              "      <td>47</td>\n",
              "      <td>3.5</td>\n",
              "      <td>1112484727</td>\n",
              "      <td>0</td>\n",
              "      <td>46</td>\n",
              "    </tr>\n",
              "    <tr>\n",
              "      <th>4</th>\n",
              "      <td>1</td>\n",
              "      <td>50</td>\n",
              "      <td>3.5</td>\n",
              "      <td>1112484580</td>\n",
              "      <td>0</td>\n",
              "      <td>49</td>\n",
              "    </tr>\n",
              "  </tbody>\n",
              "</table>\n",
              "</div>"
            ],
            "text/plain": [
              "   userId  movieId  rating   timestamp  new_user_id  new_movie_id\n",
              "0       1        2     3.5  1112486027            0             1\n",
              "1       1       29     3.5  1112484676            0            28\n",
              "2       1       32     3.5  1112484819            0            31\n",
              "3       1       47     3.5  1112484727            0            46\n",
              "4       1       50     3.5  1112484580            0            49"
            ]
          },
          "metadata": {
            "tags": []
          },
          "execution_count": 22
        }
      ]
    },
    {
      "cell_type": "code",
      "metadata": {
        "id": "OspgzeI51rmJ",
        "colab_type": "code",
        "colab": {}
      },
      "source": [
        "user_ids = df['new_user_id'].values\n",
        "movie_ids = df['new_movie_id'].values\n",
        "ratings = df['rating'].values"
      ],
      "execution_count": 23,
      "outputs": []
    },
    {
      "cell_type": "code",
      "metadata": {
        "id": "vk-h0hBz1-jz",
        "colab_type": "code",
        "colab": {}
      },
      "source": [
        "N = len(set(user_ids))\n",
        "M = len(set(movie_ids))\n",
        "K = 10\n",
        "\n",
        "# N is number of users\n",
        "# M is number of movies\n",
        "# K is number of embeddings"
      ],
      "execution_count": 24,
      "outputs": []
    },
    {
      "cell_type": "code",
      "metadata": {
        "id": "5VV36x-f2Pju",
        "colab_type": "code",
        "colab": {}
      },
      "source": [
        "u = Input(shape=(1,))\n",
        "m = Input(shape=(1,))\n",
        "u_emb = Embedding(N, K)(u) # output is (num_samples, 1-T, K)\n",
        "m_emb = Embedding(M, K)(m) # output is (num_samples, 1-T, K)\n",
        "\n",
        "\n",
        "u_emb = Flatten()(u_emb) # now it's (num_samples, K)\n",
        "m_emb = Flatten()(m_emb) # now it's (num_samples, K)\n",
        "\n",
        "\n",
        "x = Concatenate()([u_emb, m_emb]) # now it's (num_samples, 2K)\n",
        "\n",
        "\n",
        "x = Dense(1024, activation='relu')(x)\n",
        "x = Dense(1)(x)"
      ],
      "execution_count": 25,
      "outputs": []
    },
    {
      "cell_type": "code",
      "metadata": {
        "id": "bqWtDBNr2j0t",
        "colab_type": "code",
        "colab": {}
      },
      "source": [
        "model = Model(inputs=[u, m], outputs=x)\n",
        "model.compile(\n",
        "  loss='mse',\n",
        "  optimizer=SGD(lr=0.08, momentum=0.9),\n",
        ")"
      ],
      "execution_count": 26,
      "outputs": []
    },
    {
      "cell_type": "code",
      "metadata": {
        "id": "WtuVGK562nrt",
        "colab_type": "code",
        "colab": {}
      },
      "source": [
        "user_ids, movie_ids, ratings = shuffle(user_ids, movie_ids, ratings)\n",
        "Ntrain = int(0.8 * len(ratings))\n",
        "train_user = user_ids[:Ntrain]\n",
        "train_movie = movie_ids[:Ntrain]\n",
        "train_ratings = ratings[:Ntrain]\n",
        "\n",
        "test_user = user_ids[Ntrain:]\n",
        "test_movie = movie_ids[Ntrain:]\n",
        "test_ratings = ratings[Ntrain:]\n",
        "\n",
        "\n",
        "avg_rating = train_ratings.mean()\n",
        "train_ratings = train_ratings - avg_rating\n",
        "test_ratings = test_ratings - avg_rating"
      ],
      "execution_count": 27,
      "outputs": []
    },
    {
      "cell_type": "code",
      "metadata": {
        "id": "DkHcG-jP3XG9",
        "colab_type": "code",
        "colab": {
          "base_uri": "https://localhost:8080/",
          "height": 1000
        },
        "outputId": "cfeb9624-0aff-472e-d1c9-5dd2a761f928"
      },
      "source": [
        "r = model.fit(\n",
        "  x=[train_user, train_movie],\n",
        "  y=train_ratings,\n",
        "  epochs=30,\n",
        "  batch_size=1024,\n",
        "  validation_data=([test_user, test_movie], test_ratings),\n",
        ")"
      ],
      "execution_count": 28,
      "outputs": [
        {
          "output_type": "stream",
          "text": [
            "Epoch 1/30\n",
            "15626/15626 [==============================] - 90s 6ms/step - loss: 0.7769 - val_loss: 0.7316\n",
            "Epoch 2/30\n",
            "15626/15626 [==============================] - 88s 6ms/step - loss: 0.7009 - val_loss: 0.6967\n",
            "Epoch 3/30\n",
            "15626/15626 [==============================] - 88s 6ms/step - loss: 0.6781 - val_loss: 0.6823\n",
            "Epoch 4/30\n",
            "15626/15626 [==============================] - 90s 6ms/step - loss: 0.6628 - val_loss: 0.6764\n",
            "Epoch 5/30\n",
            "15626/15626 [==============================] - 89s 6ms/step - loss: 0.6523 - val_loss: 0.6682\n",
            "Epoch 6/30\n",
            "15626/15626 [==============================] - 88s 6ms/step - loss: 0.6400 - val_loss: 0.6621\n",
            "Epoch 7/30\n",
            "15626/15626 [==============================] - 89s 6ms/step - loss: 0.6246 - val_loss: 0.6540\n",
            "Epoch 8/30\n",
            "15626/15626 [==============================] - 88s 6ms/step - loss: 0.6100 - val_loss: 0.6442\n",
            "Epoch 9/30\n",
            "15626/15626 [==============================] - 86s 6ms/step - loss: 0.5994 - val_loss: 0.6426\n",
            "Epoch 10/30\n",
            "15626/15626 [==============================] - 86s 6ms/step - loss: 0.5905 - val_loss: 0.6371\n",
            "Epoch 11/30\n",
            "15626/15626 [==============================] - 88s 6ms/step - loss: 0.5828 - val_loss: 0.6321\n",
            "Epoch 12/30\n",
            "15626/15626 [==============================] - 87s 6ms/step - loss: 0.5753 - val_loss: 0.6312\n",
            "Epoch 13/30\n",
            "15626/15626 [==============================] - 86s 5ms/step - loss: 0.5682 - val_loss: 0.6293\n",
            "Epoch 14/30\n",
            "15626/15626 [==============================] - 87s 6ms/step - loss: 0.5616 - val_loss: 0.6262\n",
            "Epoch 15/30\n",
            "15626/15626 [==============================] - 87s 6ms/step - loss: 0.5558 - val_loss: 0.6258\n",
            "Epoch 16/30\n",
            "15626/15626 [==============================] - 85s 5ms/step - loss: 0.5510 - val_loss: 0.6251\n",
            "Epoch 17/30\n",
            "15626/15626 [==============================] - 85s 5ms/step - loss: 0.5469 - val_loss: 0.6234\n",
            "Epoch 18/30\n",
            "15626/15626 [==============================] - 86s 6ms/step - loss: 0.5434 - val_loss: 0.6236\n",
            "Epoch 19/30\n",
            "15626/15626 [==============================] - 88s 6ms/step - loss: 0.5405 - val_loss: 0.6229\n",
            "Epoch 20/30\n",
            "15626/15626 [==============================] - 84s 5ms/step - loss: 0.5379 - val_loss: 0.6229\n",
            "Epoch 21/30\n",
            "15626/15626 [==============================] - 85s 5ms/step - loss: 0.5358 - val_loss: 0.6251\n",
            "Epoch 22/30\n",
            "15626/15626 [==============================] - 87s 6ms/step - loss: 0.5338 - val_loss: 0.6234\n",
            "Epoch 23/30\n",
            "15626/15626 [==============================] - 87s 6ms/step - loss: 0.5321 - val_loss: 0.6258\n",
            "Epoch 24/30\n",
            "15626/15626 [==============================] - 87s 6ms/step - loss: 0.5305 - val_loss: 0.6263\n",
            "Epoch 25/30\n",
            "15626/15626 [==============================] - 86s 6ms/step - loss: 0.5290 - val_loss: 0.6240\n",
            "Epoch 26/30\n",
            "15626/15626 [==============================] - 89s 6ms/step - loss: 0.5277 - val_loss: 0.6244\n",
            "Epoch 27/30\n",
            "15626/15626 [==============================] - 85s 5ms/step - loss: 0.5265 - val_loss: 0.6249\n",
            "Epoch 28/30\n",
            "15626/15626 [==============================] - 87s 6ms/step - loss: 0.5253 - val_loss: 0.6270\n",
            "Epoch 29/30\n",
            "15626/15626 [==============================] - 86s 6ms/step - loss: 0.5242 - val_loss: 0.6271\n",
            "Epoch 30/30\n",
            "15626/15626 [==============================] - 85s 5ms/step - loss: 0.5234 - val_loss: 0.6267\n"
          ],
          "name": "stdout"
        }
      ]
    },
    {
      "cell_type": "code",
      "metadata": {
        "id": "dUWzrgLr3ez3",
        "colab_type": "code",
        "colab": {
          "base_uri": "https://localhost:8080/",
          "height": 265
        },
        "outputId": "b24316ed-6b03-4981-ce49-fc0a09162acf"
      },
      "source": [
        "plt.plot(r.history['loss'], label=\"train loss\")\n",
        "plt.plot(r.history['val_loss'], label=\"val loss\")\n",
        "plt.legend()\n",
        "plt.show()"
      ],
      "execution_count": 29,
      "outputs": [
        {
          "output_type": "display_data",
          "data": {
            "image/png": "[encoded data removed]",
            "text/plain": [
              "<Figure size 432x288 with 1 Axes>"
            ]
          },
          "metadata": {
            "tags": [],
            "needs_background": "light"
          }
        }
      ]
    },
    {
      "cell_type": "code",
      "metadata": {
        "id": "1poAx7H73iqc",
        "colab_type": "code",
        "colab": {}
      },
      "source": [
        ""
      ],
      "execution_count": null,
      "outputs": []
    }
  ]
}