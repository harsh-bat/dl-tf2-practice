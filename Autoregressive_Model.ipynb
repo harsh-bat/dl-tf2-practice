{
  "nbformat": 4,
  "nbformat_minor": 0,
  "metadata": {
    "colab": {
      "name": "Autoregressive Model.ipynb",
      "provenance": [],
      "collapsed_sections": [],
      "authorship_tag": "ABX9TyPzT6citOdTayU4O+YwDPxe",
      "include_colab_link": true
    },
    "kernelspec": {
      "name": "python3",
      "display_name": "Python 3"
    },
    "accelerator": "GPU"
  },
  "cells": [
    {
      "cell_type": "markdown",
      "metadata": {
        "id": "view-in-github",
        "colab_type": "text"
      },
      "source": [
        "<a href=\"https://colab.research.google.com/github/harsh-bat/tensorFlow2Learn/blob/master/Autoregressive_Model.ipynb\" target=\"_parent\"><img src=\"https://colab.research.google.com/assets/colab-badge.svg\" alt=\"Open In Colab\"/></a>"
      ]
    },
    {
      "cell_type": "code",
      "metadata": {
        "id": "jc2i93u2xQRE",
        "colab_type": "code",
        "colab": {}
      },
      "source": [
        "import numpy as np\n",
        "import pandas as pd\n",
        "import matplotlib.pyplot as plt\n",
        "\n",
        "import tensorflow as tf\n",
        "from tensorflow.keras.layers import Input, Dense\n",
        "from tensorflow.keras.models import Model\n",
        "from tensorflow.keras.optimizers import SGD, Adam"
      ],
      "execution_count": 2,
      "outputs": []
    },
    {
      "cell_type": "code",
      "metadata": {
        "id": "IbrcxlycxeW5",
        "colab_type": "code",
        "colab": {
          "base_uri": "https://localhost:8080/",
          "height": 282
        },
        "outputId": "84ce0128-73b5-43ce-daf1-3b92d27da90a"
      },
      "source": [
        "plt.plot(np.sin(0.1*np.arange(200)) + np.random.randn(200)*0.1 )"
      ],
      "execution_count": 42,
      "outputs": [
        {
          "output_type": "execute_result",
          "data": {
            "text/plain": [
              "[<matplotlib.lines.Line2D at 0x7f9cca689550>]"
            ]
          },
          "metadata": {
            "tags": []
          },
          "execution_count": 42
        },
        {
          "output_type": "display_data",
          "data": {
            "image/png": "[encoded data removed]",
            "text/plain": [
              "<Figure size 432x288 with 1 Axes>"
            ]
          },
          "metadata": {
            "tags": [],
            "needs_background": "light"
          }
        }
      ]
    },
    {
      "cell_type": "code",
      "metadata": {
        "id": "qkknjjxnxzlp",
        "colab_type": "code",
        "colab": {}
      },
      "source": [
        "series = np.sin(0.1*np.arange(200)) + np.random.randn(200)*0.1"
      ],
      "execution_count": 43,
      "outputs": []
    },
    {
      "cell_type": "code",
      "metadata": {
        "id": "F1k-GmcEyDU2",
        "colab_type": "code",
        "colab": {}
      },
      "source": [
        "T = 10\n",
        "X = []\n",
        "Y = []\n",
        "for t in range(len(series)-T):\n",
        "  x = series[t:t+T]\n",
        "  X.append(x)\n",
        "  y = series[t+T]\n",
        "  Y.append(y)\n",
        "\n",
        "X = np.array(X)\n",
        "Y = np.array(Y)"
      ],
      "execution_count": 44,
      "outputs": []
    },
    {
      "cell_type": "code",
      "metadata": {
        "id": "o5322Xrsyr7V",
        "colab_type": "code",
        "colab": {
          "base_uri": "https://localhost:8080/",
          "height": 34
        },
        "outputId": "c1fce7c3-d32a-4904-faa0-a9ed2c8fa864"
      },
      "source": [
        "X.shape"
      ],
      "execution_count": 45,
      "outputs": [
        {
          "output_type": "execute_result",
          "data": {
            "text/plain": [
              "(190, 10)"
            ]
          },
          "metadata": {
            "tags": []
          },
          "execution_count": 45
        }
      ]
    },
    {
      "cell_type": "code",
      "metadata": {
        "id": "wzOAV76cywK5",
        "colab_type": "code",
        "colab": {
          "base_uri": "https://localhost:8080/",
          "height": 34
        },
        "outputId": "8742c917-3a73-4284-d292-ac06cc7baed5"
      },
      "source": [
        "Y.shape"
      ],
      "execution_count": 46,
      "outputs": [
        {
          "output_type": "execute_result",
          "data": {
            "text/plain": [
              "(190,)"
            ]
          },
          "metadata": {
            "tags": []
          },
          "execution_count": 46
        }
      ]
    },
    {
      "cell_type": "code",
      "metadata": {
        "id": "sX-ZVw9YyzfU",
        "colab_type": "code",
        "colab": {}
      },
      "source": [
        "N = len(X)"
      ],
      "execution_count": 47,
      "outputs": []
    },
    {
      "cell_type": "code",
      "metadata": {
        "id": "iH-Vct2Wy4c3",
        "colab_type": "code",
        "colab": {}
      },
      "source": [
        "i = Input(shape=(T,))\n",
        "x = Dense(1)(i)\n",
        "model = Model(i, x)\n",
        "model.compile(\n",
        "    loss='mse',\n",
        "    optimizer = Adam(lr=0.1),\n",
        ")"
      ],
      "execution_count": 48,
      "outputs": []
    },
    {
      "cell_type": "code",
      "metadata": {
        "id": "qJMev_Laz07C",
        "colab_type": "code",
        "colab": {
          "base_uri": "https://localhost:8080/",
          "height": 1000
        },
        "outputId": "6c1b8645-66ae-4858-b1f6-b21aca46469e"
      },
      "source": [
        "r = model.fit(\n",
        "    X[:N//2], Y[:N//2],\n",
        "    epochs = 100,\n",
        "    validation_data= (X[N//2:], Y[N//2:])\n",
        ")"
      ],
      "execution_count": 49,
      "outputs": [
        {
          "output_type": "stream",
          "text": [
            "Epoch 1/100\n",
            "3/3 [==============================] - 0s 36ms/step - loss: 1.6752 - val_loss: 0.7241\n",
            "Epoch 2/100\n",
            "3/3 [==============================] - 0s 8ms/step - loss: 0.9282 - val_loss: 0.8838\n",
            "Epoch 3/100\n",
            "3/3 [==============================] - 0s 9ms/step - loss: 0.6175 - val_loss: 0.3748\n",
            "Epoch 4/100\n",
            "3/3 [==============================] - 0s 8ms/step - loss: 0.2947 - val_loss: 0.2729\n",
            "Epoch 5/100\n",
            "3/3 [==============================] - 0s 8ms/step - loss: 0.2847 - val_loss: 0.1188\n",
            "Epoch 6/100\n",
            "3/3 [==============================] - 0s 8ms/step - loss: 0.0909 - val_loss: 0.0453\n",
            "Epoch 7/100\n",
            "3/3 [==============================] - 0s 9ms/step - loss: 0.0701 - val_loss: 0.0763\n",
            "Epoch 8/100\n",
            "3/3 [==============================] - 0s 8ms/step - loss: 0.0848 - val_loss: 0.0499\n",
            "Epoch 9/100\n",
            "3/3 [==============================] - 0s 9ms/step - loss: 0.0532 - val_loss: 0.1000\n",
            "Epoch 10/100\n",
            "3/3 [==============================] - 0s 8ms/step - loss: 0.0842 - val_loss: 0.0991\n",
            "Epoch 11/100\n",
            "3/3 [==============================] - 0s 8ms/step - loss: 0.0678 - val_loss: 0.0536\n",
            "Epoch 12/100\n",
            "3/3 [==============================] - 0s 8ms/step - loss: 0.0564 - val_loss: 0.0509\n",
            "Epoch 13/100\n",
            "3/3 [==============================] - 0s 8ms/step - loss: 0.0506 - val_loss: 0.0329\n",
            "Epoch 14/100\n",
            "3/3 [==============================] - 0s 10ms/step - loss: 0.0391 - val_loss: 0.0308\n",
            "Epoch 15/100\n",
            "3/3 [==============================] - 0s 8ms/step - loss: 0.0369 - val_loss: 0.0242\n",
            "Epoch 16/100\n",
            "3/3 [==============================] - 0s 9ms/step - loss: 0.0262 - val_loss: 0.0245\n",
            "Epoch 17/100\n",
            "3/3 [==============================] - 0s 10ms/step - loss: 0.0301 - val_loss: 0.0258\n",
            "Epoch 18/100\n",
            "3/3 [==============================] - 0s 9ms/step - loss: 0.0290 - val_loss: 0.0246\n",
            "Epoch 19/100\n",
            "3/3 [==============================] - 0s 9ms/step - loss: 0.0284 - val_loss: 0.0264\n",
            "Epoch 20/100\n",
            "3/3 [==============================] - 0s 9ms/step - loss: 0.0280 - val_loss: 0.0231\n",
            "Epoch 21/100\n",
            "3/3 [==============================] - 0s 9ms/step - loss: 0.0260 - val_loss: 0.0230\n",
            "Epoch 22/100\n",
            "3/3 [==============================] - 0s 8ms/step - loss: 0.0255 - val_loss: 0.0216\n",
            "Epoch 23/100\n",
            "3/3 [==============================] - 0s 9ms/step - loss: 0.0246 - val_loss: 0.0214\n",
            "Epoch 24/100\n",
            "3/3 [==============================] - 0s 9ms/step - loss: 0.0245 - val_loss: 0.0206\n",
            "Epoch 25/100\n",
            "3/3 [==============================] - 0s 9ms/step - loss: 0.0235 - val_loss: 0.0211\n",
            "Epoch 26/100\n",
            "3/3 [==============================] - 0s 8ms/step - loss: 0.0236 - val_loss: 0.0202\n",
            "Epoch 27/100\n",
            "3/3 [==============================] - 0s 8ms/step - loss: 0.0225 - val_loss: 0.0207\n",
            "Epoch 28/100\n",
            "3/3 [==============================] - 0s 8ms/step - loss: 0.0235 - val_loss: 0.0198\n",
            "Epoch 29/100\n",
            "3/3 [==============================] - 0s 9ms/step - loss: 0.0223 - val_loss: 0.0196\n",
            "Epoch 30/100\n",
            "3/3 [==============================] - 0s 11ms/step - loss: 0.0219 - val_loss: 0.0196\n",
            "Epoch 31/100\n",
            "3/3 [==============================] - 0s 9ms/step - loss: 0.0217 - val_loss: 0.0191\n",
            "Epoch 32/100\n",
            "3/3 [==============================] - 0s 10ms/step - loss: 0.0214 - val_loss: 0.0189\n",
            "Epoch 33/100\n",
            "3/3 [==============================] - 0s 11ms/step - loss: 0.0217 - val_loss: 0.0192\n",
            "Epoch 34/100\n",
            "3/3 [==============================] - 0s 9ms/step - loss: 0.0211 - val_loss: 0.0187\n",
            "Epoch 35/100\n",
            "3/3 [==============================] - 0s 9ms/step - loss: 0.0207 - val_loss: 0.0184\n",
            "Epoch 36/100\n",
            "3/3 [==============================] - 0s 9ms/step - loss: 0.0205 - val_loss: 0.0183\n",
            "Epoch 37/100\n",
            "3/3 [==============================] - 0s 9ms/step - loss: 0.0198 - val_loss: 0.0181\n",
            "Epoch 38/100\n",
            "3/3 [==============================] - 0s 8ms/step - loss: 0.0199 - val_loss: 0.0180\n",
            "Epoch 39/100\n",
            "3/3 [==============================] - 0s 9ms/step - loss: 0.0197 - val_loss: 0.0178\n",
            "Epoch 40/100\n",
            "3/3 [==============================] - 0s 9ms/step - loss: 0.0191 - val_loss: 0.0175\n",
            "Epoch 41/100\n",
            "3/3 [==============================] - 0s 8ms/step - loss: 0.0189 - val_loss: 0.0175\n",
            "Epoch 42/100\n",
            "3/3 [==============================] - 0s 8ms/step - loss: 0.0189 - val_loss: 0.0173\n",
            "Epoch 43/100\n",
            "3/3 [==============================] - 0s 10ms/step - loss: 0.0192 - val_loss: 0.0174\n",
            "Epoch 44/100\n",
            "3/3 [==============================] - 0s 9ms/step - loss: 0.0189 - val_loss: 0.0174\n",
            "Epoch 45/100\n",
            "3/3 [==============================] - 0s 9ms/step - loss: 0.0185 - val_loss: 0.0170\n",
            "Epoch 46/100\n",
            "3/3 [==============================] - 0s 8ms/step - loss: 0.0179 - val_loss: 0.0170\n",
            "Epoch 47/100\n",
            "3/3 [==============================] - 0s 8ms/step - loss: 0.0179 - val_loss: 0.0167\n",
            "Epoch 48/100\n",
            "3/3 [==============================] - 0s 9ms/step - loss: 0.0180 - val_loss: 0.0166\n",
            "Epoch 49/100\n",
            "3/3 [==============================] - 0s 9ms/step - loss: 0.0177 - val_loss: 0.0167\n",
            "Epoch 50/100\n",
            "3/3 [==============================] - 0s 8ms/step - loss: 0.0177 - val_loss: 0.0164\n",
            "Epoch 51/100\n",
            "3/3 [==============================] - 0s 10ms/step - loss: 0.0173 - val_loss: 0.0163\n",
            "Epoch 52/100\n",
            "3/3 [==============================] - 0s 9ms/step - loss: 0.0172 - val_loss: 0.0162\n",
            "Epoch 53/100\n",
            "3/3 [==============================] - 0s 9ms/step - loss: 0.0170 - val_loss: 0.0162\n",
            "Epoch 54/100\n",
            "3/3 [==============================] - 0s 8ms/step - loss: 0.0171 - val_loss: 0.0160\n",
            "Epoch 55/100\n",
            "3/3 [==============================] - 0s 9ms/step - loss: 0.0168 - val_loss: 0.0161\n",
            "Epoch 56/100\n",
            "3/3 [==============================] - 0s 9ms/step - loss: 0.0173 - val_loss: 0.0159\n",
            "Epoch 57/100\n",
            "3/3 [==============================] - 0s 8ms/step - loss: 0.0166 - val_loss: 0.0158\n",
            "Epoch 58/100\n",
            "3/3 [==============================] - 0s 8ms/step - loss: 0.0164 - val_loss: 0.0158\n",
            "Epoch 59/100\n",
            "3/3 [==============================] - 0s 8ms/step - loss: 0.0163 - val_loss: 0.0157\n",
            "Epoch 60/100\n",
            "3/3 [==============================] - 0s 12ms/step - loss: 0.0166 - val_loss: 0.0157\n",
            "Epoch 61/100\n",
            "3/3 [==============================] - 0s 8ms/step - loss: 0.0165 - val_loss: 0.0157\n",
            "Epoch 62/100\n",
            "3/3 [==============================] - 0s 8ms/step - loss: 0.0166 - val_loss: 0.0156\n",
            "Epoch 63/100\n",
            "3/3 [==============================] - 0s 10ms/step - loss: 0.0165 - val_loss: 0.0156\n",
            "Epoch 64/100\n",
            "3/3 [==============================] - 0s 8ms/step - loss: 0.0164 - val_loss: 0.0155\n",
            "Epoch 65/100\n",
            "3/3 [==============================] - 0s 8ms/step - loss: 0.0160 - val_loss: 0.0157\n",
            "Epoch 66/100\n",
            "3/3 [==============================] - 0s 9ms/step - loss: 0.0161 - val_loss: 0.0154\n",
            "Epoch 67/100\n",
            "3/3 [==============================] - 0s 9ms/step - loss: 0.0157 - val_loss: 0.0153\n",
            "Epoch 68/100\n",
            "3/3 [==============================] - 0s 12ms/step - loss: 0.0159 - val_loss: 0.0152\n",
            "Epoch 69/100\n",
            "3/3 [==============================] - 0s 8ms/step - loss: 0.0157 - val_loss: 0.0153\n",
            "Epoch 70/100\n",
            "3/3 [==============================] - 0s 8ms/step - loss: 0.0158 - val_loss: 0.0152\n",
            "Epoch 71/100\n",
            "3/3 [==============================] - 0s 8ms/step - loss: 0.0162 - val_loss: 0.0152\n",
            "Epoch 72/100\n",
            "3/3 [==============================] - 0s 9ms/step - loss: 0.0162 - val_loss: 0.0155\n",
            "Epoch 73/100\n",
            "3/3 [==============================] - 0s 10ms/step - loss: 0.0157 - val_loss: 0.0153\n",
            "Epoch 74/100\n",
            "3/3 [==============================] - 0s 8ms/step - loss: 0.0160 - val_loss: 0.0157\n",
            "Epoch 75/100\n",
            "3/3 [==============================] - 0s 8ms/step - loss: 0.0155 - val_loss: 0.0155\n",
            "Epoch 76/100\n",
            "3/3 [==============================] - 0s 8ms/step - loss: 0.0163 - val_loss: 0.0150\n",
            "Epoch 77/100\n",
            "3/3 [==============================] - 0s 9ms/step - loss: 0.0160 - val_loss: 0.0156\n",
            "Epoch 78/100\n",
            "3/3 [==============================] - 0s 10ms/step - loss: 0.0158 - val_loss: 0.0151\n",
            "Epoch 79/100\n",
            "3/3 [==============================] - 0s 9ms/step - loss: 0.0161 - val_loss: 0.0150\n",
            "Epoch 80/100\n",
            "3/3 [==============================] - 0s 10ms/step - loss: 0.0155 - val_loss: 0.0155\n",
            "Epoch 81/100\n",
            "3/3 [==============================] - 0s 8ms/step - loss: 0.0155 - val_loss: 0.0152\n",
            "Epoch 82/100\n",
            "3/3 [==============================] - 0s 8ms/step - loss: 0.0159 - val_loss: 0.0152\n",
            "Epoch 83/100\n",
            "3/3 [==============================] - 0s 8ms/step - loss: 0.0156 - val_loss: 0.0161\n",
            "Epoch 84/100\n",
            "3/3 [==============================] - 0s 9ms/step - loss: 0.0161 - val_loss: 0.0149\n",
            "Epoch 85/100\n",
            "3/3 [==============================] - 0s 8ms/step - loss: 0.0154 - val_loss: 0.0148\n",
            "Epoch 86/100\n",
            "3/3 [==============================] - 0s 9ms/step - loss: 0.0158 - val_loss: 0.0150\n",
            "Epoch 87/100\n",
            "3/3 [==============================] - 0s 8ms/step - loss: 0.0153 - val_loss: 0.0149\n",
            "Epoch 88/100\n",
            "3/3 [==============================] - 0s 9ms/step - loss: 0.0157 - val_loss: 0.0149\n",
            "Epoch 89/100\n",
            "3/3 [==============================] - 0s 8ms/step - loss: 0.0156 - val_loss: 0.0158\n",
            "Epoch 90/100\n",
            "3/3 [==============================] - 0s 8ms/step - loss: 0.0154 - val_loss: 0.0147\n",
            "Epoch 91/100\n",
            "3/3 [==============================] - 0s 11ms/step - loss: 0.0154 - val_loss: 0.0148\n",
            "Epoch 92/100\n",
            "3/3 [==============================] - 0s 8ms/step - loss: 0.0150 - val_loss: 0.0148\n",
            "Epoch 93/100\n",
            "3/3 [==============================] - 0s 9ms/step - loss: 0.0152 - val_loss: 0.0146\n",
            "Epoch 94/100\n",
            "3/3 [==============================] - 0s 9ms/step - loss: 0.0152 - val_loss: 0.0146\n",
            "Epoch 95/100\n",
            "3/3 [==============================] - 0s 8ms/step - loss: 0.0158 - val_loss: 0.0151\n",
            "Epoch 96/100\n",
            "3/3 [==============================] - 0s 8ms/step - loss: 0.0156 - val_loss: 0.0153\n",
            "Epoch 97/100\n",
            "3/3 [==============================] - 0s 8ms/step - loss: 0.0161 - val_loss: 0.0150\n",
            "Epoch 98/100\n",
            "3/3 [==============================] - 0s 8ms/step - loss: 0.0159 - val_loss: 0.0146\n",
            "Epoch 99/100\n",
            "3/3 [==============================] - 0s 9ms/step - loss: 0.0150 - val_loss: 0.0148\n",
            "Epoch 100/100\n",
            "3/3 [==============================] - 0s 9ms/step - loss: 0.0153 - val_loss: 0.0145\n"
          ],
          "name": "stdout"
        }
      ]
    },
    {
      "cell_type": "code",
      "metadata": {
        "id": "QOM7VQTa0VSN",
        "colab_type": "code",
        "colab": {
          "base_uri": "https://localhost:8080/",
          "height": 285
        },
        "outputId": "3ef32c5f-21cc-4e26-a039-f1bc131c8715"
      },
      "source": [
        "plt.plot(r.history['loss'], label='loss')\n",
        "plt.plot(r.history['val_loss'], label='val_loss')\n",
        "plt.legend()"
      ],
      "execution_count": 50,
      "outputs": [
        {
          "output_type": "execute_result",
          "data": {
            "text/plain": [
              "<matplotlib.legend.Legend at 0x7f9cca95e3c8>"
            ]
          },
          "metadata": {
            "tags": []
          },
          "execution_count": 50
        },
        {
          "output_type": "display_data",
          "data": {
            "image/png": "[encoded data removed]",
            "text/plain": [
              "<Figure size 432x288 with 1 Axes>"
            ]
          },
          "metadata": {
            "tags": [],
            "needs_background": "light"
          }
        }
      ]
    },
    {
      "cell_type": "code",
      "metadata": {
        "id": "qNLuxfNT0jfl",
        "colab_type": "code",
        "colab": {}
      },
      "source": [
        "# Wrong forecast using true\n",
        "\n",
        "validation_target = Y[-N//2:]\n",
        "validation_prediction = []\n",
        "\n",
        "\n",
        "i = -N//2\n",
        "\n",
        "for k in range(len(validation_target)):\n",
        "  p = model.predict(X[i+k].reshape(1,-1))[0,0]\n",
        "  validation_prediction.append(p)\n"
      ],
      "execution_count": 51,
      "outputs": []
    },
    {
      "cell_type": "code",
      "metadata": {
        "id": "G36jvFWG2Lyr",
        "colab_type": "code",
        "colab": {
          "base_uri": "https://localhost:8080/",
          "height": 282
        },
        "outputId": "ecb79f71-9d21-4d0c-bf75-ae71737b5db6"
      },
      "source": [
        "plt.plot(validation_prediction, label='pred')\n",
        "plt.plot(validation_target, label='true')\n",
        "plt.legend()"
      ],
      "execution_count": 52,
      "outputs": [
        {
          "output_type": "execute_result",
          "data": {
            "text/plain": [
              "<matplotlib.legend.Legend at 0x7f9ccd28b7f0>"
            ]
          },
          "metadata": {
            "tags": []
          },
          "execution_count": 52
        },
        {
          "output_type": "display_data",
          "data": {
            "image/png": "[encoded data removed]",
            "text/plain": [
              "<Figure size 432x288 with 1 Axes>"
            ]
          },
          "metadata": {
            "tags": [],
            "needs_background": "light"
          }
        }
      ]
    },
    {
      "cell_type": "code",
      "metadata": {
        "id": "FVvqmviz2Qas",
        "colab_type": "code",
        "colab": {}
      },
      "source": [
        "#Now the correct way to forecast\n",
        "\n",
        "validation_target = Y[-N//2:]\n",
        "validation_prediction = []\n",
        "\n",
        "\n",
        "last_x = X[-N//2]\n",
        "\n",
        "for _ in range(len(validation_target)):\n",
        "  p = model.predict(last_x.reshape(1,-1))[0,0]\n",
        "  validation_prediction.append(p)\n",
        "  last_x = np.roll(last_x, -1)\n",
        "  last_x[-1] = p\n",
        " "
      ],
      "execution_count": 53,
      "outputs": []
    },
    {
      "cell_type": "code",
      "metadata": {
        "id": "ohU_ZQSw379R",
        "colab_type": "code",
        "colab": {
          "base_uri": "https://localhost:8080/",
          "height": 282
        },
        "outputId": "da4d5199-e597-4a43-8779-0a7d23042f5d"
      },
      "source": [
        "plt.plot(validation_prediction, label='pred')\n",
        "plt.plot(validation_target, label='true')\n",
        "plt.legend()"
      ],
      "execution_count": 54,
      "outputs": [
        {
          "output_type": "execute_result",
          "data": {
            "text/plain": [
              "<matplotlib.legend.Legend at 0x7f9cca829d30>"
            ]
          },
          "metadata": {
            "tags": []
          },
          "execution_count": 54
        },
        {
          "output_type": "display_data",
          "data": {
            "image/png": "[encoded data removed]",
            "text/plain": [
              "<Figure size 432x288 with 1 Axes>"
            ]
          },
          "metadata": {
            "tags": [],
            "needs_background": "light"
          }
        }
      ]
    },
    {
      "cell_type": "code",
      "metadata": {
        "id": "_K5ZjAYr3_au",
        "colab_type": "code",
        "colab": {}
      },
      "source": [
        ""
      ],
      "execution_count": null,
      "outputs": []
    }
  ]
}