{
  "nbformat": 4,
  "nbformat_minor": 0,
  "metadata": {
    "colab": {
      "name": "Classification.ipynb",
      "provenance": [],
      "collapsed_sections": [],
      "authorship_tag": "ABX9TyMCKdcsJQbJg8Cy+U9dtrWZ",
      "include_colab_link": true
    },
    "kernelspec": {
      "name": "python3",
      "display_name": "Python 3"
    }
  },
  "cells": [
    {
      "cell_type": "markdown",
      "metadata": {
        "id": "view-in-github",
        "colab_type": "text"
      },
      "source": [
        "<a href=\"https://colab.research.google.com/github/harsh-bat/tensorFlow2Learn/blob/master/Classification.ipynb\" target=\"_parent\"><img src=\"https://colab.research.google.com/assets/colab-badge.svg\" alt=\"Open In Colab\"/></a>"
      ]
    },
    {
      "cell_type": "code",
      "metadata": {
        "id": "eATZ6fjDThJn",
        "colab_type": "code",
        "colab": {}
      },
      "source": [
        "import numpy as np\n",
        "import pandas as pd\n",
        "import tensorflow as tf"
      ],
      "execution_count": null,
      "outputs": []
    },
    {
      "cell_type": "code",
      "metadata": {
        "id": "3kP_TGtwYZDa",
        "colab_type": "code",
        "colab": {}
      },
      "source": [
        "from sklearn.datasets import load_breast_cancer"
      ],
      "execution_count": null,
      "outputs": []
    },
    {
      "cell_type": "code",
      "metadata": {
        "id": "MU-RBUOuc7fc",
        "colab_type": "code",
        "colab": {}
      },
      "source": [
        "data = load_breast_cancer()"
      ],
      "execution_count": null,
      "outputs": []
    },
    {
      "cell_type": "code",
      "metadata": {
        "id": "Sx9rS26rc-bj",
        "colab_type": "code",
        "colab": {
          "base_uri": "https://localhost:8080/",
          "height": 34
        },
        "outputId": "7d151b28-ec56-4279-eee8-98a1954e932b"
      },
      "source": [
        "type(data)"
      ],
      "execution_count": null,
      "outputs": [
        {
          "output_type": "execute_result",
          "data": {
            "text/plain": [
              "sklearn.utils.Bunch"
            ]
          },
          "metadata": {
            "tags": []
          },
          "execution_count": 4
        }
      ]
    },
    {
      "cell_type": "code",
      "metadata": {
        "id": "H1KZae28dGr0",
        "colab_type": "code",
        "colab": {
          "base_uri": "https://localhost:8080/",
          "height": 34
        },
        "outputId": "337d3cb2-0db2-4c1f-b9df-cc7b853fe6bf"
      },
      "source": [
        "data.keys()"
      ],
      "execution_count": null,
      "outputs": [
        {
          "output_type": "execute_result",
          "data": {
            "text/plain": [
              "dict_keys(['data', 'target', 'target_names', 'DESCR', 'feature_names', 'filename'])"
            ]
          },
          "metadata": {
            "tags": []
          },
          "execution_count": 5
        }
      ]
    },
    {
      "cell_type": "code",
      "metadata": {
        "id": "8qXxW0amdIx9",
        "colab_type": "code",
        "colab": {
          "base_uri": "https://localhost:8080/",
          "height": 34
        },
        "outputId": "c732f7bd-705a-4b2f-e127-1494360a3c0a"
      },
      "source": [
        "data.data.shape"
      ],
      "execution_count": null,
      "outputs": [
        {
          "output_type": "execute_result",
          "data": {
            "text/plain": [
              "(569, 30)"
            ]
          },
          "metadata": {
            "tags": []
          },
          "execution_count": 6
        }
      ]
    },
    {
      "cell_type": "code",
      "metadata": {
        "id": "vXw6HVQbdMqD",
        "colab_type": "code",
        "colab": {
          "base_uri": "https://localhost:8080/",
          "height": 34
        },
        "outputId": "bb35de19-aec4-40ba-a6f8-ca5d0aadaa8e"
      },
      "source": [
        "data.target.shape"
      ],
      "execution_count": null,
      "outputs": [
        {
          "output_type": "execute_result",
          "data": {
            "text/plain": [
              "(569,)"
            ]
          },
          "metadata": {
            "tags": []
          },
          "execution_count": 7
        }
      ]
    },
    {
      "cell_type": "code",
      "metadata": {
        "id": "u2uSHTPIdTfG",
        "colab_type": "code",
        "colab": {
          "base_uri": "https://localhost:8080/",
          "height": 34
        },
        "outputId": "285cfc65-573b-4868-be3b-f713adae8b21"
      },
      "source": [
        "data.target_names"
      ],
      "execution_count": null,
      "outputs": [
        {
          "output_type": "execute_result",
          "data": {
            "text/plain": [
              "array(['malignant', 'benign'], dtype='<U9')"
            ]
          },
          "metadata": {
            "tags": []
          },
          "execution_count": 8
        }
      ]
    },
    {
      "cell_type": "code",
      "metadata": {
        "id": "rPVLsTvBdWIH",
        "colab_type": "code",
        "colab": {
          "base_uri": "https://localhost:8080/",
          "height": 185
        },
        "outputId": "7bbd072a-0195-4783-ed8d-ae283e1e8b73"
      },
      "source": [
        "data.feature_names"
      ],
      "execution_count": null,
      "outputs": [
        {
          "output_type": "execute_result",
          "data": {
            "text/plain": [
              "array(['mean radius', 'mean texture', 'mean perimeter', 'mean area',\n",
              "       'mean smoothness', 'mean compactness', 'mean concavity',\n",
              "       'mean concave points', 'mean symmetry', 'mean fractal dimension',\n",
              "       'radius error', 'texture error', 'perimeter error', 'area error',\n",
              "       'smoothness error', 'compactness error', 'concavity error',\n",
              "       'concave points error', 'symmetry error',\n",
              "       'fractal dimension error', 'worst radius', 'worst texture',\n",
              "       'worst perimeter', 'worst area', 'worst smoothness',\n",
              "       'worst compactness', 'worst concavity', 'worst concave points',\n",
              "       'worst symmetry', 'worst fractal dimension'], dtype='<U23')"
            ]
          },
          "metadata": {
            "tags": []
          },
          "execution_count": 9
        }
      ]
    },
    {
      "cell_type": "code",
      "metadata": {
        "id": "qTha7v9_dZeo",
        "colab_type": "code",
        "colab": {}
      },
      "source": [
        "from sklearn.model_selection import train_test_split"
      ],
      "execution_count": null,
      "outputs": []
    },
    {
      "cell_type": "code",
      "metadata": {
        "id": "gX3iONMgdqqY",
        "colab_type": "code",
        "colab": {}
      },
      "source": [
        "X_train, X_test, y_train, y_test = train_test_split(data.data, data.target, test_size=0.33)"
      ],
      "execution_count": null,
      "outputs": []
    },
    {
      "cell_type": "code",
      "metadata": {
        "id": "uvhSeZhud_lU",
        "colab_type": "code",
        "colab": {}
      },
      "source": [
        "from sklearn.preprocessing import StandardScaler"
      ],
      "execution_count": null,
      "outputs": []
    },
    {
      "cell_type": "code",
      "metadata": {
        "id": "p5eLW8YgeD-q",
        "colab_type": "code",
        "colab": {}
      },
      "source": [
        "scaler = StandardScaler()"
      ],
      "execution_count": null,
      "outputs": []
    },
    {
      "cell_type": "code",
      "metadata": {
        "id": "t7QtL49reqUb",
        "colab_type": "code",
        "colab": {}
      },
      "source": [
        "X_train = scaler.fit_transform(X_train)"
      ],
      "execution_count": null,
      "outputs": []
    },
    {
      "cell_type": "code",
      "metadata": {
        "id": "kXD0NIYOevJM",
        "colab_type": "code",
        "colab": {}
      },
      "source": [
        "X_test = scaler.transform(X_test)"
      ],
      "execution_count": null,
      "outputs": []
    },
    {
      "cell_type": "code",
      "metadata": {
        "id": "Z6J3gm8ofpJi",
        "colab_type": "code",
        "colab": {}
      },
      "source": [
        "N, D = X_train.shape"
      ],
      "execution_count": null,
      "outputs": []
    },
    {
      "cell_type": "code",
      "metadata": {
        "id": "WC02t3ATe2HG",
        "colab_type": "code",
        "colab": {}
      },
      "source": [
        "model = tf.keras.models.Sequential([\n",
        "    tf.keras.layers.Input(shape=(D,)),\n",
        "    tf.keras.layers.Dense(1, activation='sigmoid')\n",
        "])"
      ],
      "execution_count": null,
      "outputs": []
    },
    {
      "cell_type": "code",
      "metadata": {
        "id": "e_bo9m-ugNj-",
        "colab_type": "code",
        "colab": {}
      },
      "source": [
        "model.compile(\n",
        "    optimizer= 'adam',\n",
        "    loss = 'binary_crossentropy',\n",
        "    metrics=['accuracy', tf.keras.metrics.Precision()],\n",
        ")"
      ],
      "execution_count": null,
      "outputs": []
    },
    {
      "cell_type": "code",
      "metadata": {
        "id": "mfakwavahCtu",
        "colab_type": "code",
        "colab": {
          "base_uri": "https://localhost:8080/",
          "height": 1000
        },
        "outputId": "08693618-4b03-40d4-a51b-8467df9d583b"
      },
      "source": [
        "r = model.fit(X_train, y_train, validation_data=(X_test, y_test), epochs=200)"
      ],
      "execution_count": null,
      "outputs": [
        {
          "output_type": "stream",
          "text": [
            "Epoch 1/200\n",
            "12/12 [==============================] - 0s 20ms/step - loss: 0.8218 - accuracy: 0.4409 - precision: 0.6108 - val_loss: 0.7972 - val_accuracy: 0.4947 - val_precision: 0.5600\n",
            "Epoch 2/200\n",
            "12/12 [==============================] - 0s 3ms/step - loss: 0.7412 - accuracy: 0.5354 - precision: 0.6952 - val_loss: 0.7269 - val_accuracy: 0.5798 - val_precision: 0.6400\n",
            "Epoch 3/200\n",
            "12/12 [==============================] - 0s 2ms/step - loss: 0.6703 - accuracy: 0.6037 - precision: 0.7538 - val_loss: 0.6665 - val_accuracy: 0.6223 - val_precision: 0.6800\n",
            "Epoch 4/200\n",
            "12/12 [==============================] - 0s 2ms/step - loss: 0.6088 - accuracy: 0.6693 - precision: 0.7981 - val_loss: 0.6166 - val_accuracy: 0.6915 - val_precision: 0.7379\n",
            "Epoch 5/200\n",
            "12/12 [==============================] - 0s 2ms/step - loss: 0.5594 - accuracy: 0.7218 - precision: 0.8333 - val_loss: 0.5732 - val_accuracy: 0.7234 - val_precision: 0.7723\n",
            "Epoch 6/200\n",
            "12/12 [==============================] - 0s 3ms/step - loss: 0.5173 - accuracy: 0.7585 - precision: 0.8657 - val_loss: 0.5357 - val_accuracy: 0.7447 - val_precision: 0.7864\n",
            "Epoch 7/200\n",
            "12/12 [==============================] - 0s 3ms/step - loss: 0.4804 - accuracy: 0.8031 - precision: 0.8995 - val_loss: 0.5051 - val_accuracy: 0.7766 - val_precision: 0.8218\n",
            "Epoch 8/200\n",
            "12/12 [==============================] - 0s 3ms/step - loss: 0.4499 - accuracy: 0.8294 - precision: 0.9224 - val_loss: 0.4779 - val_accuracy: 0.7766 - val_precision: 0.8218\n",
            "Epoch 9/200\n",
            "12/12 [==============================] - 0s 3ms/step - loss: 0.4234 - accuracy: 0.8373 - precision: 0.9234 - val_loss: 0.4544 - val_accuracy: 0.7979 - val_precision: 0.8416\n",
            "Epoch 10/200\n",
            "12/12 [==============================] - 0s 2ms/step - loss: 0.4000 - accuracy: 0.8478 - precision: 0.9324 - val_loss: 0.4338 - val_accuracy: 0.8085 - val_precision: 0.8515\n",
            "Epoch 11/200\n",
            "12/12 [==============================] - 0s 3ms/step - loss: 0.3792 - accuracy: 0.8504 - precision: 0.9367 - val_loss: 0.4159 - val_accuracy: 0.8351 - val_precision: 0.8725\n",
            "Epoch 12/200\n",
            "12/12 [==============================] - 0s 3ms/step - loss: 0.3612 - accuracy: 0.8635 - precision: 0.9500 - val_loss: 0.3998 - val_accuracy: 0.8351 - val_precision: 0.8725\n",
            "Epoch 13/200\n",
            "12/12 [==============================] - 0s 3ms/step - loss: 0.3451 - accuracy: 0.8766 - precision: 0.9552 - val_loss: 0.3845 - val_accuracy: 0.8457 - val_precision: 0.8824\n",
            "Epoch 14/200\n",
            "12/12 [==============================] - 0s 3ms/step - loss: 0.3302 - accuracy: 0.8871 - precision: 0.9559 - val_loss: 0.3706 - val_accuracy: 0.8457 - val_precision: 0.8824\n",
            "Epoch 15/200\n",
            "12/12 [==============================] - 0s 3ms/step - loss: 0.3166 - accuracy: 0.8871 - precision: 0.9559 - val_loss: 0.3582 - val_accuracy: 0.8511 - val_precision: 0.8835\n",
            "Epoch 16/200\n",
            "12/12 [==============================] - 0s 2ms/step - loss: 0.3043 - accuracy: 0.8898 - precision: 0.9561 - val_loss: 0.3469 - val_accuracy: 0.8617 - val_precision: 0.8857\n",
            "Epoch 17/200\n",
            "12/12 [==============================] - 0s 2ms/step - loss: 0.2929 - accuracy: 0.9003 - precision: 0.9569 - val_loss: 0.3366 - val_accuracy: 0.8617 - val_precision: 0.8857\n",
            "Epoch 18/200\n",
            "12/12 [==============================] - 0s 2ms/step - loss: 0.2824 - accuracy: 0.9055 - precision: 0.9612 - val_loss: 0.3270 - val_accuracy: 0.8723 - val_precision: 0.8879\n",
            "Epoch 19/200\n",
            "12/12 [==============================] - 0s 2ms/step - loss: 0.2728 - accuracy: 0.9108 - precision: 0.9615 - val_loss: 0.3182 - val_accuracy: 0.8777 - val_precision: 0.8889\n",
            "Epoch 20/200\n",
            "12/12 [==============================] - 0s 3ms/step - loss: 0.2638 - accuracy: 0.9134 - precision: 0.9617 - val_loss: 0.3098 - val_accuracy: 0.8777 - val_precision: 0.8889\n",
            "Epoch 21/200\n",
            "12/12 [==============================] - 0s 3ms/step - loss: 0.2554 - accuracy: 0.9186 - precision: 0.9660 - val_loss: 0.3022 - val_accuracy: 0.8883 - val_precision: 0.8981\n",
            "Epoch 22/200\n",
            "12/12 [==============================] - 0s 2ms/step - loss: 0.2476 - accuracy: 0.9186 - precision: 0.9660 - val_loss: 0.2948 - val_accuracy: 0.8883 - val_precision: 0.8981\n",
            "Epoch 23/200\n",
            "12/12 [==============================] - 0s 2ms/step - loss: 0.2400 - accuracy: 0.9186 - precision: 0.9660 - val_loss: 0.2884 - val_accuracy: 0.8883 - val_precision: 0.8981\n",
            "Epoch 24/200\n",
            "12/12 [==============================] - 0s 3ms/step - loss: 0.2334 - accuracy: 0.9186 - precision: 0.9660 - val_loss: 0.2823 - val_accuracy: 0.8883 - val_precision: 0.8981\n",
            "Epoch 25/200\n",
            "12/12 [==============================] - 0s 3ms/step - loss: 0.2270 - accuracy: 0.9239 - precision: 0.9662 - val_loss: 0.2762 - val_accuracy: 0.8936 - val_precision: 0.8991\n",
            "Epoch 26/200\n",
            "12/12 [==============================] - 0s 3ms/step - loss: 0.2208 - accuracy: 0.9265 - precision: 0.9664 - val_loss: 0.2709 - val_accuracy: 0.8936 - val_precision: 0.8991\n",
            "Epoch 27/200\n",
            "12/12 [==============================] - 0s 3ms/step - loss: 0.2153 - accuracy: 0.9291 - precision: 0.9705 - val_loss: 0.2656 - val_accuracy: 0.9043 - val_precision: 0.9159\n",
            "Epoch 28/200\n",
            "12/12 [==============================] - 0s 3ms/step - loss: 0.2098 - accuracy: 0.9318 - precision: 0.9706 - val_loss: 0.2607 - val_accuracy: 0.9043 - val_precision: 0.9159\n",
            "Epoch 29/200\n",
            "12/12 [==============================] - 0s 3ms/step - loss: 0.2046 - accuracy: 0.9370 - precision: 0.9708 - val_loss: 0.2563 - val_accuracy: 0.9043 - val_precision: 0.9159\n",
            "Epoch 30/200\n",
            "12/12 [==============================] - 0s 2ms/step - loss: 0.1999 - accuracy: 0.9370 - precision: 0.9708 - val_loss: 0.2520 - val_accuracy: 0.9096 - val_precision: 0.9245\n",
            "Epoch 31/200\n",
            "12/12 [==============================] - 0s 2ms/step - loss: 0.1953 - accuracy: 0.9396 - precision: 0.9710 - val_loss: 0.2479 - val_accuracy: 0.9096 - val_precision: 0.9245\n",
            "Epoch 32/200\n",
            "12/12 [==============================] - 0s 3ms/step - loss: 0.1911 - accuracy: 0.9396 - precision: 0.9710 - val_loss: 0.2441 - val_accuracy: 0.9096 - val_precision: 0.9245\n",
            "Epoch 33/200\n",
            "12/12 [==============================] - 0s 2ms/step - loss: 0.1870 - accuracy: 0.9396 - precision: 0.9710 - val_loss: 0.2403 - val_accuracy: 0.9149 - val_precision: 0.9252\n",
            "Epoch 34/200\n",
            "12/12 [==============================] - 0s 3ms/step - loss: 0.1831 - accuracy: 0.9396 - precision: 0.9710 - val_loss: 0.2367 - val_accuracy: 0.9149 - val_precision: 0.9252\n",
            "Epoch 35/200\n",
            "12/12 [==============================] - 0s 3ms/step - loss: 0.1793 - accuracy: 0.9423 - precision: 0.9750 - val_loss: 0.2335 - val_accuracy: 0.9202 - val_precision: 0.9259\n",
            "Epoch 36/200\n",
            "12/12 [==============================] - 0s 3ms/step - loss: 0.1759 - accuracy: 0.9449 - precision: 0.9751 - val_loss: 0.2301 - val_accuracy: 0.9202 - val_precision: 0.9259\n",
            "Epoch 37/200\n",
            "12/12 [==============================] - 0s 3ms/step - loss: 0.1724 - accuracy: 0.9475 - precision: 0.9752 - val_loss: 0.2271 - val_accuracy: 0.9202 - val_precision: 0.9259\n",
            "Epoch 38/200\n",
            "12/12 [==============================] - 0s 2ms/step - loss: 0.1692 - accuracy: 0.9475 - precision: 0.9752 - val_loss: 0.2244 - val_accuracy: 0.9202 - val_precision: 0.9259\n",
            "Epoch 39/200\n",
            "12/12 [==============================] - 0s 2ms/step - loss: 0.1662 - accuracy: 0.9501 - precision: 0.9753 - val_loss: 0.2216 - val_accuracy: 0.9202 - val_precision: 0.9259\n",
            "Epoch 40/200\n",
            "12/12 [==============================] - 0s 2ms/step - loss: 0.1633 - accuracy: 0.9501 - precision: 0.9753 - val_loss: 0.2188 - val_accuracy: 0.9202 - val_precision: 0.9259\n",
            "Epoch 41/200\n",
            "12/12 [==============================] - 0s 2ms/step - loss: 0.1604 - accuracy: 0.9501 - precision: 0.9753 - val_loss: 0.2163 - val_accuracy: 0.9255 - val_precision: 0.9346\n",
            "Epoch 42/200\n",
            "12/12 [==============================] - 0s 2ms/step - loss: 0.1577 - accuracy: 0.9501 - precision: 0.9753 - val_loss: 0.2139 - val_accuracy: 0.9255 - val_precision: 0.9346\n",
            "Epoch 43/200\n",
            "12/12 [==============================] - 0s 2ms/step - loss: 0.1551 - accuracy: 0.9501 - precision: 0.9753 - val_loss: 0.2115 - val_accuracy: 0.9255 - val_precision: 0.9346\n",
            "Epoch 44/200\n",
            "12/12 [==============================] - 0s 3ms/step - loss: 0.1527 - accuracy: 0.9528 - precision: 0.9754 - val_loss: 0.2093 - val_accuracy: 0.9255 - val_precision: 0.9346\n",
            "Epoch 45/200\n",
            "12/12 [==============================] - 0s 2ms/step - loss: 0.1503 - accuracy: 0.9528 - precision: 0.9754 - val_loss: 0.2072 - val_accuracy: 0.9255 - val_precision: 0.9346\n",
            "Epoch 46/200\n",
            "12/12 [==============================] - 0s 2ms/step - loss: 0.1480 - accuracy: 0.9528 - precision: 0.9754 - val_loss: 0.2052 - val_accuracy: 0.9255 - val_precision: 0.9346\n",
            "Epoch 47/200\n",
            "12/12 [==============================] - 0s 3ms/step - loss: 0.1458 - accuracy: 0.9528 - precision: 0.9754 - val_loss: 0.2032 - val_accuracy: 0.9255 - val_precision: 0.9346\n",
            "Epoch 48/200\n",
            "12/12 [==============================] - 0s 3ms/step - loss: 0.1437 - accuracy: 0.9528 - precision: 0.9754 - val_loss: 0.2011 - val_accuracy: 0.9255 - val_precision: 0.9346\n",
            "Epoch 49/200\n",
            "12/12 [==============================] - 0s 3ms/step - loss: 0.1417 - accuracy: 0.9528 - precision: 0.9754 - val_loss: 0.1992 - val_accuracy: 0.9255 - val_precision: 0.9346\n",
            "Epoch 50/200\n",
            "12/12 [==============================] - 0s 2ms/step - loss: 0.1397 - accuracy: 0.9554 - precision: 0.9755 - val_loss: 0.1974 - val_accuracy: 0.9255 - val_precision: 0.9346\n",
            "Epoch 51/200\n",
            "12/12 [==============================] - 0s 3ms/step - loss: 0.1378 - accuracy: 0.9580 - precision: 0.9756 - val_loss: 0.1957 - val_accuracy: 0.9255 - val_precision: 0.9346\n",
            "Epoch 52/200\n",
            "12/12 [==============================] - 0s 3ms/step - loss: 0.1360 - accuracy: 0.9580 - precision: 0.9756 - val_loss: 0.1941 - val_accuracy: 0.9255 - val_precision: 0.9346\n",
            "Epoch 53/200\n",
            "12/12 [==============================] - 0s 2ms/step - loss: 0.1342 - accuracy: 0.9580 - precision: 0.9756 - val_loss: 0.1925 - val_accuracy: 0.9255 - val_precision: 0.9346\n",
            "Epoch 54/200\n",
            "12/12 [==============================] - 0s 3ms/step - loss: 0.1326 - accuracy: 0.9580 - precision: 0.9756 - val_loss: 0.1908 - val_accuracy: 0.9255 - val_precision: 0.9346\n",
            "Epoch 55/200\n",
            "12/12 [==============================] - 0s 3ms/step - loss: 0.1309 - accuracy: 0.9580 - precision: 0.9756 - val_loss: 0.1894 - val_accuracy: 0.9255 - val_precision: 0.9346\n",
            "Epoch 56/200\n",
            "12/12 [==============================] - 0s 3ms/step - loss: 0.1293 - accuracy: 0.9580 - precision: 0.9756 - val_loss: 0.1879 - val_accuracy: 0.9309 - val_precision: 0.9352\n",
            "Epoch 57/200\n",
            "12/12 [==============================] - 0s 3ms/step - loss: 0.1278 - accuracy: 0.9580 - precision: 0.9756 - val_loss: 0.1864 - val_accuracy: 0.9362 - val_precision: 0.9358\n",
            "Epoch 58/200\n",
            "12/12 [==============================] - 0s 3ms/step - loss: 0.1262 - accuracy: 0.9580 - precision: 0.9756 - val_loss: 0.1851 - val_accuracy: 0.9362 - val_precision: 0.9358\n",
            "Epoch 59/200\n",
            "12/12 [==============================] - 0s 3ms/step - loss: 0.1248 - accuracy: 0.9580 - precision: 0.9756 - val_loss: 0.1838 - val_accuracy: 0.9362 - val_precision: 0.9358\n",
            "Epoch 60/200\n",
            "12/12 [==============================] - 0s 2ms/step - loss: 0.1234 - accuracy: 0.9580 - precision: 0.9756 - val_loss: 0.1825 - val_accuracy: 0.9362 - val_precision: 0.9358\n",
            "Epoch 61/200\n",
            "12/12 [==============================] - 0s 3ms/step - loss: 0.1221 - accuracy: 0.9580 - precision: 0.9756 - val_loss: 0.1812 - val_accuracy: 0.9415 - val_precision: 0.9364\n",
            "Epoch 62/200\n",
            "12/12 [==============================] - 0s 2ms/step - loss: 0.1208 - accuracy: 0.9580 - precision: 0.9756 - val_loss: 0.1800 - val_accuracy: 0.9415 - val_precision: 0.9364\n",
            "Epoch 63/200\n",
            "12/12 [==============================] - 0s 3ms/step - loss: 0.1195 - accuracy: 0.9580 - precision: 0.9756 - val_loss: 0.1788 - val_accuracy: 0.9415 - val_precision: 0.9364\n",
            "Epoch 64/200\n",
            "12/12 [==============================] - 0s 3ms/step - loss: 0.1183 - accuracy: 0.9580 - precision: 0.9756 - val_loss: 0.1777 - val_accuracy: 0.9468 - val_precision: 0.9450\n",
            "Epoch 65/200\n",
            "12/12 [==============================] - 0s 3ms/step - loss: 0.1171 - accuracy: 0.9580 - precision: 0.9756 - val_loss: 0.1766 - val_accuracy: 0.9468 - val_precision: 0.9450\n",
            "Epoch 66/200\n",
            "12/12 [==============================] - 0s 3ms/step - loss: 0.1159 - accuracy: 0.9606 - precision: 0.9757 - val_loss: 0.1755 - val_accuracy: 0.9468 - val_precision: 0.9450\n",
            "Epoch 67/200\n",
            "12/12 [==============================] - 0s 3ms/step - loss: 0.1148 - accuracy: 0.9606 - precision: 0.9757 - val_loss: 0.1743 - val_accuracy: 0.9468 - val_precision: 0.9450\n",
            "Epoch 68/200\n",
            "12/12 [==============================] - 0s 2ms/step - loss: 0.1137 - accuracy: 0.9606 - precision: 0.9757 - val_loss: 0.1734 - val_accuracy: 0.9468 - val_precision: 0.9450\n",
            "Epoch 69/200\n",
            "12/12 [==============================] - 0s 2ms/step - loss: 0.1126 - accuracy: 0.9580 - precision: 0.9718 - val_loss: 0.1723 - val_accuracy: 0.9468 - val_precision: 0.9450\n",
            "Epoch 70/200\n",
            "12/12 [==============================] - 0s 3ms/step - loss: 0.1115 - accuracy: 0.9580 - precision: 0.9718 - val_loss: 0.1712 - val_accuracy: 0.9468 - val_precision: 0.9450\n",
            "Epoch 71/200\n",
            "12/12 [==============================] - 0s 3ms/step - loss: 0.1105 - accuracy: 0.9606 - precision: 0.9719 - val_loss: 0.1702 - val_accuracy: 0.9468 - val_precision: 0.9450\n",
            "Epoch 72/200\n",
            "12/12 [==============================] - 0s 3ms/step - loss: 0.1095 - accuracy: 0.9606 - precision: 0.9719 - val_loss: 0.1693 - val_accuracy: 0.9468 - val_precision: 0.9450\n",
            "Epoch 73/200\n",
            "12/12 [==============================] - 0s 3ms/step - loss: 0.1085 - accuracy: 0.9633 - precision: 0.9720 - val_loss: 0.1684 - val_accuracy: 0.9468 - val_precision: 0.9450\n",
            "Epoch 74/200\n",
            "12/12 [==============================] - 0s 2ms/step - loss: 0.1076 - accuracy: 0.9659 - precision: 0.9721 - val_loss: 0.1676 - val_accuracy: 0.9468 - val_precision: 0.9450\n",
            "Epoch 75/200\n",
            "12/12 [==============================] - 0s 3ms/step - loss: 0.1067 - accuracy: 0.9659 - precision: 0.9721 - val_loss: 0.1667 - val_accuracy: 0.9468 - val_precision: 0.9450\n",
            "Epoch 76/200\n",
            "12/12 [==============================] - 0s 3ms/step - loss: 0.1058 - accuracy: 0.9685 - precision: 0.9760 - val_loss: 0.1658 - val_accuracy: 0.9468 - val_precision: 0.9450\n",
            "Epoch 77/200\n",
            "12/12 [==============================] - 0s 2ms/step - loss: 0.1049 - accuracy: 0.9685 - precision: 0.9760 - val_loss: 0.1650 - val_accuracy: 0.9468 - val_precision: 0.9450\n",
            "Epoch 78/200\n",
            "12/12 [==============================] - 0s 2ms/step - loss: 0.1041 - accuracy: 0.9685 - precision: 0.9760 - val_loss: 0.1641 - val_accuracy: 0.9521 - val_precision: 0.9455\n",
            "Epoch 79/200\n",
            "12/12 [==============================] - 0s 2ms/step - loss: 0.1033 - accuracy: 0.9685 - precision: 0.9760 - val_loss: 0.1634 - val_accuracy: 0.9521 - val_precision: 0.9455\n",
            "Epoch 80/200\n",
            "12/12 [==============================] - 0s 2ms/step - loss: 0.1024 - accuracy: 0.9685 - precision: 0.9760 - val_loss: 0.1625 - val_accuracy: 0.9521 - val_precision: 0.9455\n",
            "Epoch 81/200\n",
            "12/12 [==============================] - 0s 3ms/step - loss: 0.1017 - accuracy: 0.9738 - precision: 0.9800 - val_loss: 0.1618 - val_accuracy: 0.9521 - val_precision: 0.9455\n",
            "Epoch 82/200\n",
            "12/12 [==============================] - 0s 3ms/step - loss: 0.1009 - accuracy: 0.9738 - precision: 0.9800 - val_loss: 0.1611 - val_accuracy: 0.9521 - val_precision: 0.9455\n",
            "Epoch 83/200\n",
            "12/12 [==============================] - 0s 3ms/step - loss: 0.1001 - accuracy: 0.9738 - precision: 0.9800 - val_loss: 0.1603 - val_accuracy: 0.9521 - val_precision: 0.9455\n",
            "Epoch 84/200\n",
            "12/12 [==============================] - 0s 2ms/step - loss: 0.0993 - accuracy: 0.9738 - precision: 0.9800 - val_loss: 0.1596 - val_accuracy: 0.9521 - val_precision: 0.9455\n",
            "Epoch 85/200\n",
            "12/12 [==============================] - 0s 2ms/step - loss: 0.0987 - accuracy: 0.9738 - precision: 0.9800 - val_loss: 0.1589 - val_accuracy: 0.9521 - val_precision: 0.9455\n",
            "Epoch 86/200\n",
            "12/12 [==============================] - 0s 3ms/step - loss: 0.0980 - accuracy: 0.9738 - precision: 0.9800 - val_loss: 0.1582 - val_accuracy: 0.9521 - val_precision: 0.9455\n",
            "Epoch 87/200\n",
            "12/12 [==============================] - 0s 3ms/step - loss: 0.0973 - accuracy: 0.9738 - precision: 0.9800 - val_loss: 0.1575 - val_accuracy: 0.9521 - val_precision: 0.9455\n",
            "Epoch 88/200\n",
            "12/12 [==============================] - 0s 3ms/step - loss: 0.0966 - accuracy: 0.9738 - precision: 0.9800 - val_loss: 0.1568 - val_accuracy: 0.9521 - val_precision: 0.9455\n",
            "Epoch 89/200\n",
            "12/12 [==============================] - 0s 2ms/step - loss: 0.0960 - accuracy: 0.9738 - precision: 0.9800 - val_loss: 0.1561 - val_accuracy: 0.9521 - val_precision: 0.9455\n",
            "Epoch 90/200\n",
            "12/12 [==============================] - 0s 3ms/step - loss: 0.0953 - accuracy: 0.9738 - precision: 0.9800 - val_loss: 0.1556 - val_accuracy: 0.9521 - val_precision: 0.9455\n",
            "Epoch 91/200\n",
            "12/12 [==============================] - 0s 3ms/step - loss: 0.0946 - accuracy: 0.9738 - precision: 0.9800 - val_loss: 0.1550 - val_accuracy: 0.9574 - val_precision: 0.9541\n",
            "Epoch 92/200\n",
            "12/12 [==============================] - 0s 3ms/step - loss: 0.0940 - accuracy: 0.9738 - precision: 0.9800 - val_loss: 0.1543 - val_accuracy: 0.9574 - val_precision: 0.9541\n",
            "Epoch 93/200\n",
            "12/12 [==============================] - 0s 3ms/step - loss: 0.0934 - accuracy: 0.9738 - precision: 0.9800 - val_loss: 0.1537 - val_accuracy: 0.9574 - val_precision: 0.9541\n",
            "Epoch 94/200\n",
            "12/12 [==============================] - 0s 3ms/step - loss: 0.0928 - accuracy: 0.9738 - precision: 0.9800 - val_loss: 0.1531 - val_accuracy: 0.9574 - val_precision: 0.9541\n",
            "Epoch 95/200\n",
            "12/12 [==============================] - 0s 3ms/step - loss: 0.0922 - accuracy: 0.9738 - precision: 0.9800 - val_loss: 0.1526 - val_accuracy: 0.9574 - val_precision: 0.9541\n",
            "Epoch 96/200\n",
            "12/12 [==============================] - 0s 2ms/step - loss: 0.0916 - accuracy: 0.9764 - precision: 0.9839 - val_loss: 0.1519 - val_accuracy: 0.9574 - val_precision: 0.9541\n",
            "Epoch 97/200\n",
            "12/12 [==============================] - 0s 2ms/step - loss: 0.0911 - accuracy: 0.9764 - precision: 0.9839 - val_loss: 0.1514 - val_accuracy: 0.9574 - val_precision: 0.9541\n",
            "Epoch 98/200\n",
            "12/12 [==============================] - 0s 2ms/step - loss: 0.0905 - accuracy: 0.9764 - precision: 0.9839 - val_loss: 0.1509 - val_accuracy: 0.9574 - val_precision: 0.9541\n",
            "Epoch 99/200\n",
            "12/12 [==============================] - 0s 3ms/step - loss: 0.0900 - accuracy: 0.9764 - precision: 0.9839 - val_loss: 0.1503 - val_accuracy: 0.9574 - val_precision: 0.9541\n",
            "Epoch 100/200\n",
            "12/12 [==============================] - 0s 2ms/step - loss: 0.0895 - accuracy: 0.9764 - precision: 0.9839 - val_loss: 0.1497 - val_accuracy: 0.9628 - val_precision: 0.9545\n",
            "Epoch 101/200\n",
            "12/12 [==============================] - 0s 2ms/step - loss: 0.0890 - accuracy: 0.9764 - precision: 0.9839 - val_loss: 0.1492 - val_accuracy: 0.9628 - val_precision: 0.9545\n",
            "Epoch 102/200\n",
            "12/12 [==============================] - 0s 2ms/step - loss: 0.0884 - accuracy: 0.9764 - precision: 0.9839 - val_loss: 0.1487 - val_accuracy: 0.9628 - val_precision: 0.9545\n",
            "Epoch 103/200\n",
            "12/12 [==============================] - 0s 3ms/step - loss: 0.0879 - accuracy: 0.9764 - precision: 0.9839 - val_loss: 0.1483 - val_accuracy: 0.9628 - val_precision: 0.9545\n",
            "Epoch 104/200\n",
            "12/12 [==============================] - 0s 3ms/step - loss: 0.0874 - accuracy: 0.9764 - precision: 0.9839 - val_loss: 0.1478 - val_accuracy: 0.9628 - val_precision: 0.9545\n",
            "Epoch 105/200\n",
            "12/12 [==============================] - 0s 3ms/step - loss: 0.0869 - accuracy: 0.9764 - precision: 0.9839 - val_loss: 0.1472 - val_accuracy: 0.9628 - val_precision: 0.9545\n",
            "Epoch 106/200\n",
            "12/12 [==============================] - 0s 3ms/step - loss: 0.0864 - accuracy: 0.9764 - precision: 0.9839 - val_loss: 0.1467 - val_accuracy: 0.9628 - val_precision: 0.9545\n",
            "Epoch 107/200\n",
            "12/12 [==============================] - 0s 3ms/step - loss: 0.0860 - accuracy: 0.9764 - precision: 0.9839 - val_loss: 0.1462 - val_accuracy: 0.9628 - val_precision: 0.9545\n",
            "Epoch 108/200\n",
            "12/12 [==============================] - 0s 3ms/step - loss: 0.0855 - accuracy: 0.9764 - precision: 0.9839 - val_loss: 0.1457 - val_accuracy: 0.9628 - val_precision: 0.9545\n",
            "Epoch 109/200\n",
            "12/12 [==============================] - 0s 2ms/step - loss: 0.0851 - accuracy: 0.9764 - precision: 0.9839 - val_loss: 0.1451 - val_accuracy: 0.9628 - val_precision: 0.9545\n",
            "Epoch 110/200\n",
            "12/12 [==============================] - 0s 3ms/step - loss: 0.0846 - accuracy: 0.9764 - precision: 0.9839 - val_loss: 0.1448 - val_accuracy: 0.9628 - val_precision: 0.9545\n",
            "Epoch 111/200\n",
            "12/12 [==============================] - 0s 3ms/step - loss: 0.0842 - accuracy: 0.9764 - precision: 0.9839 - val_loss: 0.1444 - val_accuracy: 0.9628 - val_precision: 0.9545\n",
            "Epoch 112/200\n",
            "12/12 [==============================] - 0s 2ms/step - loss: 0.0837 - accuracy: 0.9764 - precision: 0.9839 - val_loss: 0.1439 - val_accuracy: 0.9628 - val_precision: 0.9545\n",
            "Epoch 113/200\n",
            "12/12 [==============================] - 0s 2ms/step - loss: 0.0833 - accuracy: 0.9790 - precision: 0.9840 - val_loss: 0.1435 - val_accuracy: 0.9628 - val_precision: 0.9545\n",
            "Epoch 114/200\n",
            "12/12 [==============================] - 0s 3ms/step - loss: 0.0830 - accuracy: 0.9790 - precision: 0.9840 - val_loss: 0.1430 - val_accuracy: 0.9628 - val_precision: 0.9545\n",
            "Epoch 115/200\n",
            "12/12 [==============================] - 0s 2ms/step - loss: 0.0825 - accuracy: 0.9790 - precision: 0.9840 - val_loss: 0.1426 - val_accuracy: 0.9628 - val_precision: 0.9545\n",
            "Epoch 116/200\n",
            "12/12 [==============================] - 0s 3ms/step - loss: 0.0821 - accuracy: 0.9790 - precision: 0.9840 - val_loss: 0.1423 - val_accuracy: 0.9628 - val_precision: 0.9545\n",
            "Epoch 117/200\n",
            "12/12 [==============================] - 0s 3ms/step - loss: 0.0817 - accuracy: 0.9790 - precision: 0.9840 - val_loss: 0.1419 - val_accuracy: 0.9628 - val_precision: 0.9545\n",
            "Epoch 118/200\n",
            "12/12 [==============================] - 0s 2ms/step - loss: 0.0813 - accuracy: 0.9790 - precision: 0.9840 - val_loss: 0.1414 - val_accuracy: 0.9628 - val_precision: 0.9545\n",
            "Epoch 119/200\n",
            "12/12 [==============================] - 0s 2ms/step - loss: 0.0809 - accuracy: 0.9790 - precision: 0.9840 - val_loss: 0.1410 - val_accuracy: 0.9628 - val_precision: 0.9545\n",
            "Epoch 120/200\n",
            "12/12 [==============================] - 0s 2ms/step - loss: 0.0805 - accuracy: 0.9790 - precision: 0.9840 - val_loss: 0.1407 - val_accuracy: 0.9628 - val_precision: 0.9545\n",
            "Epoch 121/200\n",
            "12/12 [==============================] - 0s 2ms/step - loss: 0.0802 - accuracy: 0.9790 - precision: 0.9840 - val_loss: 0.1403 - val_accuracy: 0.9628 - val_precision: 0.9545\n",
            "Epoch 122/200\n",
            "12/12 [==============================] - 0s 2ms/step - loss: 0.0798 - accuracy: 0.9790 - precision: 0.9840 - val_loss: 0.1399 - val_accuracy: 0.9628 - val_precision: 0.9545\n",
            "Epoch 123/200\n",
            "12/12 [==============================] - 0s 2ms/step - loss: 0.0794 - accuracy: 0.9790 - precision: 0.9840 - val_loss: 0.1395 - val_accuracy: 0.9628 - val_precision: 0.9545\n",
            "Epoch 124/200\n",
            "12/12 [==============================] - 0s 3ms/step - loss: 0.0791 - accuracy: 0.9790 - precision: 0.9840 - val_loss: 0.1392 - val_accuracy: 0.9628 - val_precision: 0.9545\n",
            "Epoch 125/200\n",
            "12/12 [==============================] - 0s 3ms/step - loss: 0.0787 - accuracy: 0.9790 - precision: 0.9840 - val_loss: 0.1388 - val_accuracy: 0.9628 - val_precision: 0.9545\n",
            "Epoch 126/200\n",
            "12/12 [==============================] - 0s 3ms/step - loss: 0.0784 - accuracy: 0.9790 - precision: 0.9840 - val_loss: 0.1383 - val_accuracy: 0.9628 - val_precision: 0.9545\n",
            "Epoch 127/200\n",
            "12/12 [==============================] - 0s 3ms/step - loss: 0.0780 - accuracy: 0.9790 - precision: 0.9840 - val_loss: 0.1380 - val_accuracy: 0.9628 - val_precision: 0.9545\n",
            "Epoch 128/200\n",
            "12/12 [==============================] - 0s 2ms/step - loss: 0.0777 - accuracy: 0.9790 - precision: 0.9840 - val_loss: 0.1378 - val_accuracy: 0.9628 - val_precision: 0.9545\n",
            "Epoch 129/200\n",
            "12/12 [==============================] - 0s 3ms/step - loss: 0.0774 - accuracy: 0.9790 - precision: 0.9840 - val_loss: 0.1373 - val_accuracy: 0.9628 - val_precision: 0.9545\n",
            "Epoch 130/200\n",
            "12/12 [==============================] - 0s 3ms/step - loss: 0.0770 - accuracy: 0.9790 - precision: 0.9840 - val_loss: 0.1369 - val_accuracy: 0.9628 - val_precision: 0.9545\n",
            "Epoch 131/200\n",
            "12/12 [==============================] - 0s 2ms/step - loss: 0.0767 - accuracy: 0.9816 - precision: 0.9841 - val_loss: 0.1366 - val_accuracy: 0.9628 - val_precision: 0.9545\n",
            "Epoch 132/200\n",
            "12/12 [==============================] - 0s 2ms/step - loss: 0.0764 - accuracy: 0.9816 - precision: 0.9841 - val_loss: 0.1362 - val_accuracy: 0.9628 - val_precision: 0.9545\n",
            "Epoch 133/200\n",
            "12/12 [==============================] - 0s 2ms/step - loss: 0.0761 - accuracy: 0.9816 - precision: 0.9841 - val_loss: 0.1359 - val_accuracy: 0.9628 - val_precision: 0.9545\n",
            "Epoch 134/200\n",
            "12/12 [==============================] - 0s 3ms/step - loss: 0.0758 - accuracy: 0.9816 - precision: 0.9841 - val_loss: 0.1357 - val_accuracy: 0.9628 - val_precision: 0.9545\n",
            "Epoch 135/200\n",
            "12/12 [==============================] - 0s 3ms/step - loss: 0.0754 - accuracy: 0.9816 - precision: 0.9841 - val_loss: 0.1353 - val_accuracy: 0.9628 - val_precision: 0.9545\n",
            "Epoch 136/200\n",
            "12/12 [==============================] - 0s 3ms/step - loss: 0.0751 - accuracy: 0.9843 - precision: 0.9841 - val_loss: 0.1349 - val_accuracy: 0.9628 - val_precision: 0.9545\n",
            "Epoch 137/200\n",
            "12/12 [==============================] - 0s 2ms/step - loss: 0.0748 - accuracy: 0.9843 - precision: 0.9841 - val_loss: 0.1346 - val_accuracy: 0.9628 - val_precision: 0.9545\n",
            "Epoch 138/200\n",
            "12/12 [==============================] - 0s 2ms/step - loss: 0.0745 - accuracy: 0.9843 - precision: 0.9841 - val_loss: 0.1343 - val_accuracy: 0.9628 - val_precision: 0.9545\n",
            "Epoch 139/200\n",
            "12/12 [==============================] - 0s 3ms/step - loss: 0.0743 - accuracy: 0.9843 - precision: 0.9841 - val_loss: 0.1341 - val_accuracy: 0.9628 - val_precision: 0.9545\n",
            "Epoch 140/200\n",
            "12/12 [==============================] - 0s 2ms/step - loss: 0.0740 - accuracy: 0.9816 - precision: 0.9841 - val_loss: 0.1336 - val_accuracy: 0.9681 - val_precision: 0.9550\n",
            "Epoch 141/200\n",
            "12/12 [==============================] - 0s 2ms/step - loss: 0.0737 - accuracy: 0.9816 - precision: 0.9841 - val_loss: 0.1333 - val_accuracy: 0.9681 - val_precision: 0.9550\n",
            "Epoch 142/200\n",
            "12/12 [==============================] - 0s 3ms/step - loss: 0.0734 - accuracy: 0.9816 - precision: 0.9841 - val_loss: 0.1330 - val_accuracy: 0.9681 - val_precision: 0.9550\n",
            "Epoch 143/200\n",
            "12/12 [==============================] - 0s 2ms/step - loss: 0.0731 - accuracy: 0.9816 - precision: 0.9841 - val_loss: 0.1328 - val_accuracy: 0.9681 - val_precision: 0.9550\n",
            "Epoch 144/200\n",
            "12/12 [==============================] - 0s 2ms/step - loss: 0.0729 - accuracy: 0.9816 - precision: 0.9841 - val_loss: 0.1325 - val_accuracy: 0.9681 - val_precision: 0.9550\n",
            "Epoch 145/200\n",
            "12/12 [==============================] - 0s 3ms/step - loss: 0.0726 - accuracy: 0.9816 - precision: 0.9841 - val_loss: 0.1322 - val_accuracy: 0.9681 - val_precision: 0.9550\n",
            "Epoch 146/200\n",
            "12/12 [==============================] - 0s 3ms/step - loss: 0.0723 - accuracy: 0.9816 - precision: 0.9841 - val_loss: 0.1320 - val_accuracy: 0.9681 - val_precision: 0.9550\n",
            "Epoch 147/200\n",
            "12/12 [==============================] - 0s 3ms/step - loss: 0.0721 - accuracy: 0.9816 - precision: 0.9841 - val_loss: 0.1317 - val_accuracy: 0.9681 - val_precision: 0.9550\n",
            "Epoch 148/200\n",
            "12/12 [==============================] - 0s 3ms/step - loss: 0.0718 - accuracy: 0.9816 - precision: 0.9841 - val_loss: 0.1313 - val_accuracy: 0.9681 - val_precision: 0.9550\n",
            "Epoch 149/200\n",
            "12/12 [==============================] - 0s 3ms/step - loss: 0.0715 - accuracy: 0.9816 - precision: 0.9841 - val_loss: 0.1311 - val_accuracy: 0.9681 - val_precision: 0.9550\n",
            "Epoch 150/200\n",
            "12/12 [==============================] - 0s 2ms/step - loss: 0.0713 - accuracy: 0.9816 - precision: 0.9841 - val_loss: 0.1309 - val_accuracy: 0.9681 - val_precision: 0.9550\n",
            "Epoch 151/200\n",
            "12/12 [==============================] - 0s 2ms/step - loss: 0.0710 - accuracy: 0.9816 - precision: 0.9841 - val_loss: 0.1306 - val_accuracy: 0.9681 - val_precision: 0.9550\n",
            "Epoch 152/200\n",
            "12/12 [==============================] - 0s 3ms/step - loss: 0.0708 - accuracy: 0.9816 - precision: 0.9841 - val_loss: 0.1302 - val_accuracy: 0.9681 - val_precision: 0.9550\n",
            "Epoch 153/200\n",
            "12/12 [==============================] - 0s 2ms/step - loss: 0.0705 - accuracy: 0.9816 - precision: 0.9841 - val_loss: 0.1299 - val_accuracy: 0.9681 - val_precision: 0.9550\n",
            "Epoch 154/200\n",
            "12/12 [==============================] - 0s 2ms/step - loss: 0.0703 - accuracy: 0.9816 - precision: 0.9841 - val_loss: 0.1297 - val_accuracy: 0.9681 - val_precision: 0.9550\n",
            "Epoch 155/200\n",
            "12/12 [==============================] - 0s 3ms/step - loss: 0.0700 - accuracy: 0.9816 - precision: 0.9841 - val_loss: 0.1294 - val_accuracy: 0.9681 - val_precision: 0.9550\n",
            "Epoch 156/200\n",
            "12/12 [==============================] - 0s 2ms/step - loss: 0.0699 - accuracy: 0.9816 - precision: 0.9841 - val_loss: 0.1294 - val_accuracy: 0.9681 - val_precision: 0.9550\n",
            "Epoch 157/200\n",
            "12/12 [==============================] - 0s 3ms/step - loss: 0.0696 - accuracy: 0.9816 - precision: 0.9841 - val_loss: 0.1291 - val_accuracy: 0.9681 - val_precision: 0.9550\n",
            "Epoch 158/200\n",
            "12/12 [==============================] - 0s 2ms/step - loss: 0.0693 - accuracy: 0.9816 - precision: 0.9841 - val_loss: 0.1287 - val_accuracy: 0.9681 - val_precision: 0.9550\n",
            "Epoch 159/200\n",
            "12/12 [==============================] - 0s 2ms/step - loss: 0.0691 - accuracy: 0.9816 - precision: 0.9841 - val_loss: 0.1284 - val_accuracy: 0.9681 - val_precision: 0.9550\n",
            "Epoch 160/200\n",
            "12/12 [==============================] - 0s 2ms/step - loss: 0.0689 - accuracy: 0.9816 - precision: 0.9841 - val_loss: 0.1282 - val_accuracy: 0.9681 - val_precision: 0.9550\n",
            "Epoch 161/200\n",
            "12/12 [==============================] - 0s 2ms/step - loss: 0.0686 - accuracy: 0.9816 - precision: 0.9841 - val_loss: 0.1280 - val_accuracy: 0.9681 - val_precision: 0.9550\n",
            "Epoch 162/200\n",
            "12/12 [==============================] - 0s 3ms/step - loss: 0.0684 - accuracy: 0.9816 - precision: 0.9841 - val_loss: 0.1277 - val_accuracy: 0.9681 - val_precision: 0.9550\n",
            "Epoch 163/200\n",
            "12/12 [==============================] - 0s 3ms/step - loss: 0.0682 - accuracy: 0.9816 - precision: 0.9841 - val_loss: 0.1276 - val_accuracy: 0.9681 - val_precision: 0.9550\n",
            "Epoch 164/200\n",
            "12/12 [==============================] - 0s 3ms/step - loss: 0.0680 - accuracy: 0.9816 - precision: 0.9841 - val_loss: 0.1273 - val_accuracy: 0.9681 - val_precision: 0.9550\n",
            "Epoch 165/200\n",
            "12/12 [==============================] - 0s 2ms/step - loss: 0.0678 - accuracy: 0.9816 - precision: 0.9841 - val_loss: 0.1270 - val_accuracy: 0.9681 - val_precision: 0.9550\n",
            "Epoch 166/200\n",
            "12/12 [==============================] - 0s 3ms/step - loss: 0.0676 - accuracy: 0.9816 - precision: 0.9841 - val_loss: 0.1268 - val_accuracy: 0.9681 - val_precision: 0.9550\n",
            "Epoch 167/200\n",
            "12/12 [==============================] - 0s 2ms/step - loss: 0.0674 - accuracy: 0.9816 - precision: 0.9841 - val_loss: 0.1266 - val_accuracy: 0.9681 - val_precision: 0.9550\n",
            "Epoch 168/200\n",
            "12/12 [==============================] - 0s 3ms/step - loss: 0.0671 - accuracy: 0.9816 - precision: 0.9841 - val_loss: 0.1263 - val_accuracy: 0.9681 - val_precision: 0.9550\n",
            "Epoch 169/200\n",
            "12/12 [==============================] - 0s 3ms/step - loss: 0.0669 - accuracy: 0.9816 - precision: 0.9841 - val_loss: 0.1262 - val_accuracy: 0.9681 - val_precision: 0.9550\n",
            "Epoch 170/200\n",
            "12/12 [==============================] - 0s 3ms/step - loss: 0.0667 - accuracy: 0.9816 - precision: 0.9841 - val_loss: 0.1258 - val_accuracy: 0.9681 - val_precision: 0.9550\n",
            "Epoch 171/200\n",
            "12/12 [==============================] - 0s 3ms/step - loss: 0.0665 - accuracy: 0.9816 - precision: 0.9841 - val_loss: 0.1256 - val_accuracy: 0.9681 - val_precision: 0.9550\n",
            "Epoch 172/200\n",
            "12/12 [==============================] - 0s 3ms/step - loss: 0.0663 - accuracy: 0.9816 - precision: 0.9841 - val_loss: 0.1253 - val_accuracy: 0.9681 - val_precision: 0.9550\n",
            "Epoch 173/200\n",
            "12/12 [==============================] - 0s 2ms/step - loss: 0.0661 - accuracy: 0.9816 - precision: 0.9841 - val_loss: 0.1252 - val_accuracy: 0.9681 - val_precision: 0.9550\n",
            "Epoch 174/200\n",
            "12/12 [==============================] - 0s 2ms/step - loss: 0.0659 - accuracy: 0.9816 - precision: 0.9841 - val_loss: 0.1249 - val_accuracy: 0.9681 - val_precision: 0.9550\n",
            "Epoch 175/200\n",
            "12/12 [==============================] - 0s 2ms/step - loss: 0.0657 - accuracy: 0.9816 - precision: 0.9841 - val_loss: 0.1247 - val_accuracy: 0.9681 - val_precision: 0.9550\n",
            "Epoch 176/200\n",
            "12/12 [==============================] - 0s 2ms/step - loss: 0.0656 - accuracy: 0.9816 - precision: 0.9841 - val_loss: 0.1246 - val_accuracy: 0.9681 - val_precision: 0.9550\n",
            "Epoch 177/200\n",
            "12/12 [==============================] - 0s 3ms/step - loss: 0.0653 - accuracy: 0.9816 - precision: 0.9841 - val_loss: 0.1244 - val_accuracy: 0.9681 - val_precision: 0.9550\n",
            "Epoch 178/200\n",
            "12/12 [==============================] - 0s 3ms/step - loss: 0.0652 - accuracy: 0.9816 - precision: 0.9841 - val_loss: 0.1241 - val_accuracy: 0.9734 - val_precision: 0.9636\n",
            "Epoch 179/200\n",
            "12/12 [==============================] - 0s 3ms/step - loss: 0.0649 - accuracy: 0.9816 - precision: 0.9841 - val_loss: 0.1240 - val_accuracy: 0.9734 - val_precision: 0.9636\n",
            "Epoch 180/200\n",
            "12/12 [==============================] - 0s 2ms/step - loss: 0.0648 - accuracy: 0.9816 - precision: 0.9841 - val_loss: 0.1238 - val_accuracy: 0.9734 - val_precision: 0.9636\n",
            "Epoch 181/200\n",
            "12/12 [==============================] - 0s 3ms/step - loss: 0.0646 - accuracy: 0.9816 - precision: 0.9841 - val_loss: 0.1236 - val_accuracy: 0.9734 - val_precision: 0.9636\n",
            "Epoch 182/200\n",
            "12/12 [==============================] - 0s 2ms/step - loss: 0.0644 - accuracy: 0.9816 - precision: 0.9841 - val_loss: 0.1234 - val_accuracy: 0.9734 - val_precision: 0.9636\n",
            "Epoch 183/200\n",
            "12/12 [==============================] - 0s 2ms/step - loss: 0.0643 - accuracy: 0.9816 - precision: 0.9841 - val_loss: 0.1231 - val_accuracy: 0.9734 - val_precision: 0.9636\n",
            "Epoch 184/200\n",
            "12/12 [==============================] - 0s 2ms/step - loss: 0.0641 - accuracy: 0.9816 - precision: 0.9841 - val_loss: 0.1229 - val_accuracy: 0.9734 - val_precision: 0.9636\n",
            "Epoch 185/200\n",
            "12/12 [==============================] - 0s 2ms/step - loss: 0.0639 - accuracy: 0.9816 - precision: 0.9841 - val_loss: 0.1228 - val_accuracy: 0.9734 - val_precision: 0.9636\n",
            "Epoch 186/200\n",
            "12/12 [==============================] - 0s 2ms/step - loss: 0.0637 - accuracy: 0.9816 - precision: 0.9841 - val_loss: 0.1226 - val_accuracy: 0.9734 - val_precision: 0.9636\n",
            "Epoch 187/200\n",
            "12/12 [==============================] - 0s 3ms/step - loss: 0.0635 - accuracy: 0.9843 - precision: 0.9841 - val_loss: 0.1225 - val_accuracy: 0.9734 - val_precision: 0.9636\n",
            "Epoch 188/200\n",
            "12/12 [==============================] - 0s 3ms/step - loss: 0.0633 - accuracy: 0.9843 - precision: 0.9841 - val_loss: 0.1223 - val_accuracy: 0.9734 - val_precision: 0.9636\n",
            "Epoch 189/200\n",
            "12/12 [==============================] - 0s 3ms/step - loss: 0.0632 - accuracy: 0.9843 - precision: 0.9841 - val_loss: 0.1220 - val_accuracy: 0.9787 - val_precision: 0.9725\n",
            "Epoch 190/200\n",
            "12/12 [==============================] - 0s 2ms/step - loss: 0.0630 - accuracy: 0.9843 - precision: 0.9841 - val_loss: 0.1218 - val_accuracy: 0.9840 - val_precision: 0.9727\n",
            "Epoch 191/200\n",
            "12/12 [==============================] - 0s 2ms/step - loss: 0.0628 - accuracy: 0.9843 - precision: 0.9841 - val_loss: 0.1216 - val_accuracy: 0.9840 - val_precision: 0.9727\n",
            "Epoch 192/200\n",
            "12/12 [==============================] - 0s 2ms/step - loss: 0.0627 - accuracy: 0.9843 - precision: 0.9841 - val_loss: 0.1215 - val_accuracy: 0.9840 - val_precision: 0.9727\n",
            "Epoch 193/200\n",
            "12/12 [==============================] - 0s 3ms/step - loss: 0.0625 - accuracy: 0.9843 - precision: 0.9841 - val_loss: 0.1212 - val_accuracy: 0.9840 - val_precision: 0.9727\n",
            "Epoch 194/200\n",
            "12/12 [==============================] - 0s 3ms/step - loss: 0.0623 - accuracy: 0.9843 - precision: 0.9841 - val_loss: 0.1211 - val_accuracy: 0.9840 - val_precision: 0.9727\n",
            "Epoch 195/200\n",
            "12/12 [==============================] - 0s 3ms/step - loss: 0.0622 - accuracy: 0.9843 - precision: 0.9841 - val_loss: 0.1209 - val_accuracy: 0.9840 - val_precision: 0.9727\n",
            "Epoch 196/200\n",
            "12/12 [==============================] - 0s 2ms/step - loss: 0.0620 - accuracy: 0.9843 - precision: 0.9841 - val_loss: 0.1207 - val_accuracy: 0.9840 - val_precision: 0.9727\n",
            "Epoch 197/200\n",
            "12/12 [==============================] - 0s 2ms/step - loss: 0.0619 - accuracy: 0.9843 - precision: 0.9841 - val_loss: 0.1206 - val_accuracy: 0.9840 - val_precision: 0.9727\n",
            "Epoch 198/200\n",
            "12/12 [==============================] - 0s 3ms/step - loss: 0.0617 - accuracy: 0.9843 - precision: 0.9841 - val_loss: 0.1204 - val_accuracy: 0.9840 - val_precision: 0.9727\n",
            "Epoch 199/200\n",
            "12/12 [==============================] - 0s 3ms/step - loss: 0.0615 - accuracy: 0.9843 - precision: 0.9841 - val_loss: 0.1201 - val_accuracy: 0.9840 - val_precision: 0.9727\n",
            "Epoch 200/200\n",
            "12/12 [==============================] - 0s 3ms/step - loss: 0.0614 - accuracy: 0.9843 - precision: 0.9841 - val_loss: 0.1200 - val_accuracy: 0.9840 - val_precision: 0.9727\n"
          ],
          "name": "stdout"
        }
      ]
    },
    {
      "cell_type": "code",
      "metadata": {
        "id": "IvK6RDAJhTB_",
        "colab_type": "code",
        "colab": {
          "base_uri": "https://localhost:8080/",
          "height": 34
        },
        "outputId": "0329a871-8c24-4131-8d6a-efccabb92cc1"
      },
      "source": [
        "type(r.history)"
      ],
      "execution_count": null,
      "outputs": [
        {
          "output_type": "execute_result",
          "data": {
            "text/plain": [
              "dict"
            ]
          },
          "metadata": {
            "tags": []
          },
          "execution_count": 20
        }
      ]
    },
    {
      "cell_type": "code",
      "metadata": {
        "id": "2ADgtypNhueT",
        "colab_type": "code",
        "colab": {
          "base_uri": "https://localhost:8080/",
          "height": 34
        },
        "outputId": "d6674abb-c024-47b3-851e-ca6843578d01"
      },
      "source": [
        "r.history.keys()"
      ],
      "execution_count": null,
      "outputs": [
        {
          "output_type": "execute_result",
          "data": {
            "text/plain": [
              "dict_keys(['loss', 'accuracy', 'precision', 'val_loss', 'val_accuracy', 'val_precision'])"
            ]
          },
          "metadata": {
            "tags": []
          },
          "execution_count": 21
        }
      ]
    },
    {
      "cell_type": "code",
      "metadata": {
        "id": "W8VIAJpchzoo",
        "colab_type": "code",
        "colab": {}
      },
      "source": [
        "import matplotlib.pyplot as plt"
      ],
      "execution_count": null,
      "outputs": []
    },
    {
      "cell_type": "code",
      "metadata": {
        "id": "poWs41LHh4ML",
        "colab_type": "code",
        "colab": {
          "base_uri": "https://localhost:8080/",
          "height": 391
        },
        "outputId": "bbdc2ddb-af0c-42a1-b49c-87fcc7676247"
      },
      "source": [
        "plt.figure(figsize=(10,6))\n",
        "plt.plot(r.history['accuracy'], label='accuracy')\n",
        "plt.plot(r.history['val_accuracy'], label='val_accuracy')\n",
        "plt.legend()"
      ],
      "execution_count": null,
      "outputs": [
        {
          "output_type": "execute_result",
          "data": {
            "text/plain": [
              "<matplotlib.legend.Legend at 0x7fab4e865208>"
            ]
          },
          "metadata": {
            "tags": []
          },
          "execution_count": 23
        },
        {
          "output_type": "display_data",
          "data": {
            "image/png": "[encoded data removed]",
            "text/plain": [
              "<Figure size 720x432 with 1 Axes>"
            ]
          },
          "metadata": {
            "tags": [],
            "needs_background": "light"
          }
        }
      ]
    },
    {
      "cell_type": "code",
      "metadata": {
        "id": "JnL6wjOoiDsD",
        "colab_type": "code",
        "colab": {
          "base_uri": "https://localhost:8080/",
          "height": 391
        },
        "outputId": "34f8e56b-e80f-42c2-ee79-617bb17e75af"
      },
      "source": [
        "plt.figure(figsize=(10,6))\n",
        "plt.plot(r.history['precision'], label='precision')\n",
        "plt.plot(r.history['val_precision'], label='val_precision')\n",
        "plt.legend()"
      ],
      "execution_count": null,
      "outputs": [
        {
          "output_type": "execute_result",
          "data": {
            "text/plain": [
              "<matplotlib.legend.Legend at 0x7fab4e342320>"
            ]
          },
          "metadata": {
            "tags": []
          },
          "execution_count": 24
        },
        {
          "output_type": "display_data",
          "data": {
            "image/png": "[encoded data removed]",
            "text/plain": [
              "<Figure size 720x432 with 1 Axes>"
            ]
          },
          "metadata": {
            "tags": [],
            "needs_background": "light"
          }
        }
      ]
    },
    {
      "cell_type": "code",
      "metadata": {
        "id": "G90gj2Jxi4aQ",
        "colab_type": "code",
        "colab": {
          "base_uri": "https://localhost:8080/",
          "height": 84
        },
        "outputId": "d0a31d3a-2106-4fbe-d2bb-de96a09c4101"
      },
      "source": [
        "print(\"Train score:\", model.evaluate(X_train, y_train))\n",
        "print(\"Test score:\", model.evaluate(X_test, y_test))"
      ],
      "execution_count": null,
      "outputs": [
        {
          "output_type": "stream",
          "text": [
            "12/12 [==============================] - 0s 1ms/step - loss: 0.0613 - accuracy: 0.9843 - precision: 0.9841\n",
            "Train score: [0.06126722693443298, 0.9842519760131836, 0.9841269850730896]\n",
            "6/6 [==============================] - 0s 1ms/step - loss: 0.1200 - accuracy: 0.9840 - precision: 0.9727\n",
            "Test score: [0.11998821794986725, 0.9840425252914429, 0.9727272987365723]\n"
          ],
          "name": "stdout"
        }
      ]
    },
    {
      "cell_type": "markdown",
      "metadata": {
        "id": "m1YWARfZkk96",
        "colab_type": "text"
      },
      "source": [
        "#**Making predictions**"
      ]
    },
    {
      "cell_type": "code",
      "metadata": {
        "id": "c1RXU5XCHOkd",
        "colab_type": "code",
        "colab": {
          "base_uri": "https://localhost:8080/",
          "height": 34
        },
        "outputId": "4279aec9-d8db-4c67-fcf3-e41a2be75d46"
      },
      "source": [
        "model.predict(X_test).shape"
      ],
      "execution_count": null,
      "outputs": [
        {
          "output_type": "execute_result",
          "data": {
            "text/plain": [
              "(188, 1)"
            ]
          },
          "metadata": {
            "tags": []
          },
          "execution_count": 27
        }
      ]
    },
    {
      "cell_type": "code",
      "metadata": {
        "id": "Kb0xkk7PkUtx",
        "colab_type": "code",
        "colab": {}
      },
      "source": [
        "preds = model.predict(X_test)"
      ],
      "execution_count": null,
      "outputs": []
    },
    {
      "cell_type": "code",
      "metadata": {
        "id": "u_OMtGo5kgWC",
        "colab_type": "code",
        "colab": {}
      },
      "source": [
        "preds = np.round(preds)"
      ],
      "execution_count": null,
      "outputs": []
    },
    {
      "cell_type": "code",
      "metadata": {
        "id": "K-v41S6HkiH8",
        "colab_type": "code",
        "colab": {}
      },
      "source": [
        "preds = preds.flatten()"
      ],
      "execution_count": null,
      "outputs": []
    },
    {
      "cell_type": "code",
      "metadata": {
        "id": "kE2NLxLqkima",
        "colab_type": "code",
        "colab": {
          "base_uri": "https://localhost:8080/",
          "height": 218
        },
        "outputId": "a7b5923f-8658-4916-fb17-44ffb4bf9eb6"
      },
      "source": [
        "preds"
      ],
      "execution_count": null,
      "outputs": [
        {
          "output_type": "execute_result",
          "data": {
            "text/plain": [
              "array([1., 1., 1., 1., 1., 1., 1., 0., 0., 0., 0., 1., 1., 1., 0., 0., 1.,\n",
              "       1., 0., 1., 1., 1., 0., 1., 1., 0., 0., 1., 1., 1., 1., 0., 0., 0.,\n",
              "       1., 1., 0., 0., 0., 1., 0., 1., 1., 1., 0., 0., 1., 0., 1., 1., 1.,\n",
              "       1., 1., 0., 0., 0., 1., 0., 1., 1., 1., 1., 1., 1., 0., 0., 0., 1.,\n",
              "       1., 1., 1., 0., 0., 0., 0., 1., 1., 0., 1., 1., 1., 0., 1., 1., 1.,\n",
              "       0., 1., 1., 0., 1., 0., 1., 1., 0., 1., 0., 1., 0., 1., 1., 0., 0.,\n",
              "       0., 1., 1., 1., 1., 1., 0., 1., 0., 1., 0., 1., 1., 1., 1., 0., 0.,\n",
              "       1., 1., 0., 0., 1., 1., 0., 0., 1., 0., 1., 0., 1., 1., 0., 0., 1.,\n",
              "       1., 1., 1., 1., 0., 0., 1., 0., 1., 1., 0., 1., 1., 1., 1., 1., 1.,\n",
              "       1., 1., 0., 0., 0., 1., 0., 0., 0., 1., 1., 1., 0., 0., 0., 1., 0.,\n",
              "       0., 0., 0., 0., 0., 1., 0., 1., 1., 0., 1., 1., 1., 1., 0., 0., 1.,\n",
              "       1.], dtype=float32)"
            ]
          },
          "metadata": {
            "tags": []
          },
          "execution_count": 41
        }
      ]
    },
    {
      "cell_type": "code",
      "metadata": {
        "id": "EuJysPXHktXw",
        "colab_type": "code",
        "colab": {
          "base_uri": "https://localhost:8080/",
          "height": 34
        },
        "outputId": "0450fc77-3932-4fe8-b4df-95734947905d"
      },
      "source": [
        "np.mean(preds == y_test)"
      ],
      "execution_count": null,
      "outputs": [
        {
          "output_type": "execute_result",
          "data": {
            "text/plain": [
              "0.9840425531914894"
            ]
          },
          "metadata": {
            "tags": []
          },
          "execution_count": 47
        }
      ]
    },
    {
      "cell_type": "code",
      "metadata": {
        "id": "mdTtGtOlkv6D",
        "colab_type": "code",
        "colab": {
          "base_uri": "https://localhost:8080/",
          "height": 50
        },
        "outputId": "148056c8-dca8-4886-fa8c-295c5ed667d5"
      },
      "source": [
        "model.evaluate(X_test,y_test)"
      ],
      "execution_count": null,
      "outputs": [
        {
          "output_type": "stream",
          "text": [
            "6/6 [==============================] - 0s 2ms/step - loss: 0.1200 - accuracy: 0.9840 - precision: 0.9727\n"
          ],
          "name": "stdout"
        },
        {
          "output_type": "execute_result",
          "data": {
            "text/plain": [
              "[0.11998821794986725, 0.9840425252914429, 0.9727272987365723]"
            ]
          },
          "metadata": {
            "tags": []
          },
          "execution_count": 49
        }
      ]
    },
    {
      "cell_type": "markdown",
      "metadata": {
        "id": "gCDffyWAqkt4",
        "colab_type": "text"
      },
      "source": [
        "# **Saving Models**"
      ]
    },
    {
      "cell_type": "code",
      "metadata": {
        "id": "9JPeaPqPqrX-",
        "colab_type": "code",
        "colab": {}
      },
      "source": [
        "model.save('linclass.h5')"
      ],
      "execution_count": null,
      "outputs": []
    },
    {
      "cell_type": "code",
      "metadata": {
        "id": "k2wJWgWBqvZc",
        "colab_type": "code",
        "colab": {}
      },
      "source": [
        "model2 = tf.keras.models.load_model('linclass.h5')"
      ],
      "execution_count": null,
      "outputs": []
    },
    {
      "cell_type": "code",
      "metadata": {
        "id": "rOZM0nnUq3VA",
        "colab_type": "code",
        "colab": {
          "base_uri": "https://localhost:8080/",
          "height": 34
        },
        "outputId": "e01cee96-aff0-4086-fcbe-2a12cb4dfcf7"
      },
      "source": [
        "model2.layers[0]"
      ],
      "execution_count": null,
      "outputs": [
        {
          "output_type": "execute_result",
          "data": {
            "text/plain": [
              "<tensorflow.python.keras.layers.core.Dense at 0x7fab4d8bdba8>"
            ]
          },
          "metadata": {
            "tags": []
          },
          "execution_count": 56
        }
      ]
    },
    {
      "cell_type": "code",
      "metadata": {
        "id": "S6iAwDZfq5YP",
        "colab_type": "code",
        "colab": {
          "base_uri": "https://localhost:8080/",
          "height": 50
        },
        "outputId": "92460d1d-63dc-49ca-f941-4dfacc8b5b04"
      },
      "source": [
        "model2.evaluate(X_test,y_test)"
      ],
      "execution_count": null,
      "outputs": [
        {
          "output_type": "stream",
          "text": [
            "6/6 [==============================] - 0s 1ms/step - loss: 0.1200 - accuracy: 0.9840 - precision: 0.9727\n"
          ],
          "name": "stdout"
        },
        {
          "output_type": "execute_result",
          "data": {
            "text/plain": [
              "[0.11998821794986725, 0.9840425252914429, 0.9727272987365723]"
            ]
          },
          "metadata": {
            "tags": []
          },
          "execution_count": 57
        }
      ]
    },
    {
      "cell_type": "code",
      "metadata": {
        "id": "Pg2q--7PrMTR",
        "colab_type": "code",
        "colab": {}
      },
      "source": [
        "from google.colab import files"
      ],
      "execution_count": null,
      "outputs": []
    },
    {
      "cell_type": "code",
      "metadata": {
        "id": "LaJPm3_xrRrV",
        "colab_type": "code",
        "colab": {
          "base_uri": "https://localhost:8080/",
          "height": 17
        },
        "outputId": "fdf17632-68d8-43f5-e44f-5a9dcebbf46b"
      },
      "source": [
        "files.download('linclass.h5')"
      ],
      "execution_count": null,
      "outputs": [
        {
          "output_type": "display_data",
          "data": {
            "application/javascript": [
              "\n",
              "    async function download(id, filename, size) {\n",
              "      if (!google.colab.kernel.accessAllowed) {\n",
              "        return;\n",
              "      }\n",
              "      const div = document.createElement('div');\n",
              "      const label = document.createElement('label');\n",
              "      label.textContent = `Downloading \"${filename}\": `;\n",
              "      div.appendChild(label);\n",
              "      const progress = document.createElement('progress');\n",
              "      progress.max = size;\n",
              "      div.appendChild(progress);\n",
              "      document.body.appendChild(div);\n",
              "\n",
              "      const buffers = [];\n",
              "      let downloaded = 0;\n",
              "\n",
              "      const channel = await google.colab.kernel.comms.open(id);\n",
              "      // Send a message to notify the kernel that we're ready.\n",
              "      channel.send({})\n",
              "\n",
              "      for await (const message of channel.messages) {\n",
              "        // Send a message to notify the kernel that we're ready.\n",
              "        channel.send({})\n",
              "        if (message.buffers) {\n",
              "          for (const buffer of message.buffers) {\n",
              "            buffers.push(buffer);\n",
              "            downloaded += buffer.byteLength;\n",
              "            progress.value = downloaded;\n",
              "          }\n",
              "        }\n",
              "      }\n",
              "      const blob = new Blob(buffers, {type: 'application/binary'});\n",
              "      const a = document.createElement('a');\n",
              "      a.href = window.URL.createObjectURL(blob);\n",
              "      a.download = filename;\n",
              "      div.appendChild(a);\n",
              "      a.click();\n",
              "      div.remove();\n",
              "    }\n",
              "  "
            ],
            "text/plain": [
              "<IPython.core.display.Javascript object>"
            ]
          },
          "metadata": {
            "tags": []
          }
        },
        {
          "output_type": "display_data",
          "data": {
            "application/javascript": [
              "download(\"download_b2fa89f7-d882-4b98-8ec0-09a97ddd62c3\", \"linclass.h5\", 18480)"
            ],
            "text/plain": [
              "<IPython.core.display.Javascript object>"
            ]
          },
          "metadata": {
            "tags": []
          }
        }
      ]
    },
    {
      "cell_type": "code",
      "metadata": {
        "id": "2jn2pAPNrYut",
        "colab_type": "code",
        "colab": {}
      },
      "source": [
        ""
      ],
      "execution_count": null,
      "outputs": []
    }
  ]
}