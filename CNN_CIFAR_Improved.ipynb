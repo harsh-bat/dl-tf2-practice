{
  "nbformat": 4,
  "nbformat_minor": 0,
  "metadata": {
    "colab": {
      "name": "CNN CIFAR Improved.ipynb",
      "provenance": [],
      "authorship_tag": "ABX9TyMm1ppBXtWqwMWL80kYjFlB",
      "include_colab_link": true
    },
    "kernelspec": {
      "name": "python3",
      "display_name": "Python 3"
    },
    "accelerator": "GPU"
  },
  "cells": [
    {
      "cell_type": "markdown",
      "metadata": {
        "id": "view-in-github",
        "colab_type": "text"
      },
      "source": [
        "<a href=\"https://colab.research.google.com/github/harsh-bat/tensorFlow2Learn/blob/master/CNN_CIFAR_Improved.ipynb\" target=\"_parent\"><img src=\"https://colab.research.google.com/assets/colab-badge.svg\" alt=\"Open In Colab\"/></a>"
      ]
    },
    {
      "cell_type": "code",
      "metadata": {
        "id": "qDUcQKcdemoI",
        "colab_type": "code",
        "colab": {}
      },
      "source": [
        "import numpy as np\n",
        "import pandas as pd\n",
        "import matplotlib.pyplot as plt\n",
        "import tensorflow as tf"
      ],
      "execution_count": 1,
      "outputs": []
    },
    {
      "cell_type": "code",
      "metadata": {
        "id": "LRcOVlifes1p",
        "colab_type": "code",
        "colab": {}
      },
      "source": [
        "(X_train, y_train), (X_test, y_test) = tf.keras.datasets.cifar10.load_data()\n",
        "X_train, X_test = X_train/255.0, X_test/255.0"
      ],
      "execution_count": 2,
      "outputs": []
    },
    {
      "cell_type": "code",
      "metadata": {
        "id": "Dznbk12iezPt",
        "colab_type": "code",
        "colab": {
          "base_uri": "https://localhost:8080/",
          "height": 34
        },
        "outputId": "699676fc-4485-40f8-abe5-7c10270767a1"
      },
      "source": [
        "\n",
        "X_train.shape"
      ],
      "execution_count": 3,
      "outputs": [
        {
          "output_type": "execute_result",
          "data": {
            "text/plain": [
              "(50000, 32, 32, 3)"
            ]
          },
          "metadata": {
            "tags": []
          },
          "execution_count": 3
        }
      ]
    },
    {
      "cell_type": "code",
      "metadata": {
        "id": "lseoatCYe6w-",
        "colab_type": "code",
        "colab": {
          "base_uri": "https://localhost:8080/",
          "height": 34
        },
        "outputId": "3de1bb65-3226-4686-f2bf-158c2b2d5596"
      },
      "source": [
        "y_test.shape"
      ],
      "execution_count": 4,
      "outputs": [
        {
          "output_type": "execute_result",
          "data": {
            "text/plain": [
              "(10000, 1)"
            ]
          },
          "metadata": {
            "tags": []
          },
          "execution_count": 4
        }
      ]
    },
    {
      "cell_type": "code",
      "metadata": {
        "id": "SXaGKcdme8z_",
        "colab_type": "code",
        "colab": {}
      },
      "source": [
        "y_train = y_train.flatten()\n",
        "y_test = y_test.flatten()"
      ],
      "execution_count": 5,
      "outputs": []
    },
    {
      "cell_type": "code",
      "metadata": {
        "id": "OsJTUdJte_Gm",
        "colab_type": "code",
        "colab": {
          "base_uri": "https://localhost:8080/",
          "height": 34
        },
        "outputId": "a5cfaf85-500f-4087-80b4-3c45d04bba7a"
      },
      "source": [
        "y_test.shape"
      ],
      "execution_count": 6,
      "outputs": [
        {
          "output_type": "execute_result",
          "data": {
            "text/plain": [
              "(10000,)"
            ]
          },
          "metadata": {
            "tags": []
          },
          "execution_count": 6
        }
      ]
    },
    {
      "cell_type": "code",
      "metadata": {
        "id": "Wb6cGdVXfAer",
        "colab_type": "code",
        "colab": {
          "base_uri": "https://localhost:8080/",
          "height": 283
        },
        "outputId": "7aaab8d4-7656-4a0e-ab94-45766ebed266"
      },
      "source": [
        "plt.imshow(X_train[5201])"
      ],
      "execution_count": 7,
      "outputs": [
        {
          "output_type": "execute_result",
          "data": {
            "text/plain": [
              "<matplotlib.image.AxesImage at 0x7fbbdf8d4f60>"
            ]
          },
          "metadata": {
            "tags": []
          },
          "execution_count": 7
        },
        {
          "output_type": "display_data",
          "data": {
            "image/png": "[encoded data removed]",
            "text/plain": [
              "<Figure size 432x288 with 1 Axes>"
            ]
          },
          "metadata": {
            "tags": [],
            "needs_background": "light"
          }
        }
      ]
    },
    {
      "cell_type": "code",
      "metadata": {
        "id": "PQJHmHNdfCah",
        "colab_type": "code",
        "colab": {}
      },
      "source": [
        "K = len(np.unique(y_train))"
      ],
      "execution_count": 8,
      "outputs": []
    },
    {
      "cell_type": "code",
      "metadata": {
        "id": "QGrxm4xkfEfJ",
        "colab_type": "code",
        "colab": {}
      },
      "source": [
        "from tensorflow.keras.layers import Input, Dense, Conv2D, Dropout, Flatten, GlobalMaxPooling2D, MaxPooling2D, BatchNormalization\n",
        "from tensorflow.keras.models import Model"
      ],
      "execution_count": 11,
      "outputs": []
    },
    {
      "cell_type": "code",
      "metadata": {
        "id": "3YWEHDx8jKRB",
        "colab_type": "code",
        "colab": {}
      },
      "source": [
        "i = Input(shape=X_train[0].shape)\n",
        "\n",
        "\n",
        "x = Conv2D(32, (3, 3), activation='relu', padding='same')(i)\n",
        "x = BatchNormalization()(x)\n",
        "x = Conv2D(32, (3, 3), activation='relu', padding='same')(x)\n",
        "x = BatchNormalization()(x)\n",
        "x = MaxPooling2D((2, 2))(x)\n",
        "\n",
        "x = Conv2D(64, (3, 3), activation='relu', padding='same')(x)\n",
        "x = BatchNormalization()(x)\n",
        "x = Conv2D(64, (3, 3), activation='relu', padding='same')(x)\n",
        "x = BatchNormalization()(x)\n",
        "x = MaxPooling2D((2, 2))(x)\n",
        "\n",
        "\n",
        "x = Conv2D(128, (3, 3), activation='relu', padding='same')(x)\n",
        "x = BatchNormalization()(x)\n",
        "x = Conv2D(128, (3, 3), activation='relu', padding='same')(x)\n",
        "x = BatchNormalization()(x)\n",
        "x = MaxPooling2D((2, 2))(x)\n",
        "\n",
        "\n",
        "\n",
        "x = Flatten()(x)\n",
        "x = Dropout(0.2)(x)\n",
        "x = Dense(1024, activation='relu')(x)\n",
        "x = Dropout(0.2)(x)\n",
        "x = Dense(K, activation='softmax')(x)\n",
        "\n",
        "model = Model(i, x)"
      ],
      "execution_count": 27,
      "outputs": []
    },
    {
      "cell_type": "code",
      "metadata": {
        "id": "CF9fa0U7konw",
        "colab_type": "code",
        "colab": {}
      },
      "source": [
        "model.compile(optimizer='adam',\n",
        "              loss='sparse_categorical_crossentropy',\n",
        "              metrics=['accuracy'])"
      ],
      "execution_count": 28,
      "outputs": []
    },
    {
      "cell_type": "code",
      "metadata": {
        "id": "WZ63z2ktk3Zb",
        "colab_type": "code",
        "colab": {
          "base_uri": "https://localhost:8080/",
          "height": 1000
        },
        "outputId": "01641e39-8e03-4880-ca1c-a4d9fa084f4d"
      },
      "source": [
        "r = model.fit(X_train, y_train, validation_data=(X_test, y_test), epochs=50)"
      ],
      "execution_count": 29,
      "outputs": [
        {
          "output_type": "stream",
          "text": [
            "Epoch 1/50\n",
            "1563/1563 [==============================] - 9s 6ms/step - loss: 1.3024 - accuracy: 0.5529 - val_loss: 1.1174 - val_accuracy: 0.6194\n",
            "Epoch 2/50\n",
            "1563/1563 [==============================] - 9s 6ms/step - loss: 0.8400 - accuracy: 0.7114 - val_loss: 0.8323 - val_accuracy: 0.7227\n",
            "Epoch 3/50\n",
            "1563/1563 [==============================] - 9s 6ms/step - loss: 0.6858 - accuracy: 0.7661 - val_loss: 0.7402 - val_accuracy: 0.7546\n",
            "Epoch 4/50\n",
            "1563/1563 [==============================] - 9s 6ms/step - loss: 0.5757 - accuracy: 0.8018 - val_loss: 0.6486 - val_accuracy: 0.7855\n",
            "Epoch 5/50\n",
            "1563/1563 [==============================] - 9s 6ms/step - loss: 0.4881 - accuracy: 0.8308 - val_loss: 0.6871 - val_accuracy: 0.7780\n",
            "Epoch 6/50\n",
            "1563/1563 [==============================] - 9s 6ms/step - loss: 0.4156 - accuracy: 0.8558 - val_loss: 0.6073 - val_accuracy: 0.8123\n",
            "Epoch 7/50\n",
            "1563/1563 [==============================] - 9s 6ms/step - loss: 0.3493 - accuracy: 0.8783 - val_loss: 0.7116 - val_accuracy: 0.7955\n",
            "Epoch 8/50\n",
            "1563/1563 [==============================] - 9s 6ms/step - loss: 0.3008 - accuracy: 0.8962 - val_loss: 0.5939 - val_accuracy: 0.8186\n",
            "Epoch 9/50\n",
            "1563/1563 [==============================] - 9s 6ms/step - loss: 0.2486 - accuracy: 0.9136 - val_loss: 0.6588 - val_accuracy: 0.8183\n",
            "Epoch 10/50\n",
            "1563/1563 [==============================] - 9s 6ms/step - loss: 0.2229 - accuracy: 0.9231 - val_loss: 0.6419 - val_accuracy: 0.8161\n",
            "Epoch 11/50\n",
            "1563/1563 [==============================] - 9s 6ms/step - loss: 0.1957 - accuracy: 0.9327 - val_loss: 0.7467 - val_accuracy: 0.8067\n",
            "Epoch 12/50\n",
            "1563/1563 [==============================] - 9s 6ms/step - loss: 0.1730 - accuracy: 0.9402 - val_loss: 0.7265 - val_accuracy: 0.8160\n",
            "Epoch 13/50\n",
            "1563/1563 [==============================] - 9s 6ms/step - loss: 0.1503 - accuracy: 0.9489 - val_loss: 0.7152 - val_accuracy: 0.8206\n",
            "Epoch 14/50\n",
            "1563/1563 [==============================] - 9s 6ms/step - loss: 0.1420 - accuracy: 0.9527 - val_loss: 0.6856 - val_accuracy: 0.8325\n",
            "Epoch 15/50\n",
            "1563/1563 [==============================] - 9s 6ms/step - loss: 0.1350 - accuracy: 0.9542 - val_loss: 0.7855 - val_accuracy: 0.8180\n",
            "Epoch 16/50\n",
            "1563/1563 [==============================] - 9s 6ms/step - loss: 0.1264 - accuracy: 0.9575 - val_loss: 0.7007 - val_accuracy: 0.8259\n",
            "Epoch 17/50\n",
            "1563/1563 [==============================] - 9s 6ms/step - loss: 0.1126 - accuracy: 0.9623 - val_loss: 0.6994 - val_accuracy: 0.8336\n",
            "Epoch 18/50\n",
            "1563/1563 [==============================] - 9s 6ms/step - loss: 0.1061 - accuracy: 0.9651 - val_loss: 0.7867 - val_accuracy: 0.8320\n",
            "Epoch 19/50\n",
            "1563/1563 [==============================] - 9s 6ms/step - loss: 0.1089 - accuracy: 0.9640 - val_loss: 0.7689 - val_accuracy: 0.8314\n",
            "Epoch 20/50\n",
            "1563/1563 [==============================] - 9s 6ms/step - loss: 0.0951 - accuracy: 0.9688 - val_loss: 0.7371 - val_accuracy: 0.8304\n",
            "Epoch 21/50\n",
            "1563/1563 [==============================] - 9s 6ms/step - loss: 0.0881 - accuracy: 0.9705 - val_loss: 0.7645 - val_accuracy: 0.8345\n",
            "Epoch 22/50\n",
            "1563/1563 [==============================] - 9s 6ms/step - loss: 0.0868 - accuracy: 0.9710 - val_loss: 0.7815 - val_accuracy: 0.8332\n",
            "Epoch 23/50\n",
            "1563/1563 [==============================] - 9s 6ms/step - loss: 0.0809 - accuracy: 0.9740 - val_loss: 0.7750 - val_accuracy: 0.8353\n",
            "Epoch 24/50\n",
            "1563/1563 [==============================] - 9s 6ms/step - loss: 0.0807 - accuracy: 0.9736 - val_loss: 0.7772 - val_accuracy: 0.8269\n",
            "Epoch 25/50\n",
            "1563/1563 [==============================] - 9s 6ms/step - loss: 0.0753 - accuracy: 0.9753 - val_loss: 0.7709 - val_accuracy: 0.8418\n",
            "Epoch 26/50\n",
            "1563/1563 [==============================] - 9s 6ms/step - loss: 0.0738 - accuracy: 0.9757 - val_loss: 0.7557 - val_accuracy: 0.8356\n",
            "Epoch 27/50\n",
            "1563/1563 [==============================] - 9s 6ms/step - loss: 0.0701 - accuracy: 0.9771 - val_loss: 0.7602 - val_accuracy: 0.8346\n",
            "Epoch 28/50\n",
            "1563/1563 [==============================] - 9s 6ms/step - loss: 0.0672 - accuracy: 0.9786 - val_loss: 0.7766 - val_accuracy: 0.8388\n",
            "Epoch 29/50\n",
            "1563/1563 [==============================] - 9s 6ms/step - loss: 0.0683 - accuracy: 0.9778 - val_loss: 0.7252 - val_accuracy: 0.8435\n",
            "Epoch 30/50\n",
            "1563/1563 [==============================] - 10s 6ms/step - loss: 0.0619 - accuracy: 0.9799 - val_loss: 0.6948 - val_accuracy: 0.8348\n",
            "Epoch 31/50\n",
            "1563/1563 [==============================] - 9s 6ms/step - loss: 0.0601 - accuracy: 0.9807 - val_loss: 0.8122 - val_accuracy: 0.8445\n",
            "Epoch 32/50\n",
            "1563/1563 [==============================] - 9s 6ms/step - loss: 0.0593 - accuracy: 0.9808 - val_loss: 0.7902 - val_accuracy: 0.8443\n",
            "Epoch 33/50\n",
            "1563/1563 [==============================] - 9s 6ms/step - loss: 0.0536 - accuracy: 0.9824 - val_loss: 0.8595 - val_accuracy: 0.8289\n",
            "Epoch 34/50\n",
            "1563/1563 [==============================] - 9s 6ms/step - loss: 0.0567 - accuracy: 0.9812 - val_loss: 0.8261 - val_accuracy: 0.8409\n",
            "Epoch 35/50\n",
            "1563/1563 [==============================] - 9s 6ms/step - loss: 0.0553 - accuracy: 0.9826 - val_loss: 0.8061 - val_accuracy: 0.8475\n",
            "Epoch 36/50\n",
            "1563/1563 [==============================] - 9s 6ms/step - loss: 0.0507 - accuracy: 0.9839 - val_loss: 0.8023 - val_accuracy: 0.8337\n",
            "Epoch 37/50\n",
            "1563/1563 [==============================] - 9s 6ms/step - loss: 0.0538 - accuracy: 0.9827 - val_loss: 0.8839 - val_accuracy: 0.8409\n",
            "Epoch 38/50\n",
            "1563/1563 [==============================] - 9s 6ms/step - loss: 0.0525 - accuracy: 0.9832 - val_loss: 0.7977 - val_accuracy: 0.8432\n",
            "Epoch 39/50\n",
            "1563/1563 [==============================] - 9s 6ms/step - loss: 0.0530 - accuracy: 0.9826 - val_loss: 0.8284 - val_accuracy: 0.8428\n",
            "Epoch 40/50\n",
            "1563/1563 [==============================] - 9s 6ms/step - loss: 0.0455 - accuracy: 0.9851 - val_loss: 0.8228 - val_accuracy: 0.8396\n",
            "Epoch 41/50\n",
            "1563/1563 [==============================] - 9s 6ms/step - loss: 0.0455 - accuracy: 0.9852 - val_loss: 0.8463 - val_accuracy: 0.8442\n",
            "Epoch 42/50\n",
            "1563/1563 [==============================] - 9s 6ms/step - loss: 0.0476 - accuracy: 0.9851 - val_loss: 0.9006 - val_accuracy: 0.8413\n",
            "Epoch 43/50\n",
            "1563/1563 [==============================] - 9s 6ms/step - loss: 0.0447 - accuracy: 0.9853 - val_loss: 0.8667 - val_accuracy: 0.8420\n",
            "Epoch 44/50\n",
            "1563/1563 [==============================] - 9s 6ms/step - loss: 0.0468 - accuracy: 0.9853 - val_loss: 0.8503 - val_accuracy: 0.8454\n",
            "Epoch 45/50\n",
            "1563/1563 [==============================] - 9s 6ms/step - loss: 0.0443 - accuracy: 0.9864 - val_loss: 0.9665 - val_accuracy: 0.8374\n",
            "Epoch 46/50\n",
            "1563/1563 [==============================] - 9s 6ms/step - loss: 0.0440 - accuracy: 0.9863 - val_loss: 0.9216 - val_accuracy: 0.8386\n",
            "Epoch 47/50\n",
            "1563/1563 [==============================] - 9s 6ms/step - loss: 0.0465 - accuracy: 0.9859 - val_loss: 0.8149 - val_accuracy: 0.8423\n",
            "Epoch 48/50\n",
            "1563/1563 [==============================] - 9s 6ms/step - loss: 0.0429 - accuracy: 0.9865 - val_loss: 0.8365 - val_accuracy: 0.8360\n",
            "Epoch 49/50\n",
            "1563/1563 [==============================] - 9s 6ms/step - loss: 0.0389 - accuracy: 0.9872 - val_loss: 0.8385 - val_accuracy: 0.8346\n",
            "Epoch 50/50\n",
            "1563/1563 [==============================] - 9s 6ms/step - loss: 0.0428 - accuracy: 0.9863 - val_loss: 0.8770 - val_accuracy: 0.8372\n"
          ],
          "name": "stdout"
        }
      ]
    },
    {
      "cell_type": "code",
      "metadata": {
        "id": "_Zd2fqSvprl6",
        "colab_type": "code",
        "colab": {
          "base_uri": "https://localhost:8080/",
          "height": 282
        },
        "outputId": "a6afafa6-ed55-4ed8-96e2-8b5485c9f782"
      },
      "source": [
        "plt.plot(r.history['accuracy'], label='accuracy')\n",
        "plt.plot(r.history['val_accuracy'], label='val_accuracy')\n",
        "plt.legend()"
      ],
      "execution_count": 30,
      "outputs": [
        {
          "output_type": "execute_result",
          "data": {
            "text/plain": [
              "<matplotlib.legend.Legend at 0x7fbb012ba0f0>"
            ]
          },
          "metadata": {
            "tags": []
          },
          "execution_count": 30
        },
        {
          "output_type": "display_data",
          "data": {
            "image/png": "[encoded data removed]",
            "text/plain": [
              "<Figure size 432x288 with 1 Axes>"
            ]
          },
          "metadata": {
            "tags": [],
            "needs_background": "light"
          }
        }
      ]
    },
    {
      "cell_type": "code",
      "metadata": {
        "id": "j4XcwOHIpy9q",
        "colab_type": "code",
        "colab": {
          "base_uri": "https://localhost:8080/",
          "height": 282
        },
        "outputId": "6fe3109b-ccd8-4911-a263-9964a3d9fbba"
      },
      "source": [
        "plt.plot(r.history['loss'], label='loss')\n",
        "plt.plot(r.history['val_loss'], label='val_loss')\n",
        "plt.legend()"
      ],
      "execution_count": 31,
      "outputs": [
        {
          "output_type": "execute_result",
          "data": {
            "text/plain": [
              "<matplotlib.legend.Legend at 0x7fbb0129b668>"
            ]
          },
          "metadata": {
            "tags": []
          },
          "execution_count": 31
        },
        {
          "output_type": "display_data",
          "data": {
            "image/png": "[encoded data removed]",
            "text/plain": [
              "<Figure size 432x288 with 1 Axes>"
            ]
          },
          "metadata": {
            "tags": [],
            "needs_background": "light"
          }
        }
      ]
    },
    {
      "cell_type": "code",
      "metadata": {
        "id": "kE9U7BT7p1Aw",
        "colab_type": "code",
        "colab": {
          "base_uri": "https://localhost:8080/",
          "height": 496
        },
        "outputId": "8a19ca98-79b4-4fb3-e396-a235ce5d3fe5"
      },
      "source": [
        "# Plot confusion matrix\n",
        "from sklearn.metrics import confusion_matrix\n",
        "import itertools\n",
        "\n",
        "def plot_confusion_matrix(cm, classes,\n",
        "                          normalize=False,\n",
        "                          title='Confusion matrix',\n",
        "                          cmap=plt.cm.Blues):\n",
        "  \"\"\"\n",
        "  This function prints and plots the confusion matrix.\n",
        "  Normalization can be applied by setting `normalize=True`.\n",
        "  \"\"\"\n",
        "  if normalize:\n",
        "      cm = cm.astype('float') / cm.sum(axis=1)[:, np.newaxis]\n",
        "      print(\"Normalized confusion matrix\")\n",
        "  else:\n",
        "      print('Confusion matrix, without normalization')\n",
        "\n",
        "  print(cm)\n",
        "\n",
        "  plt.imshow(cm, interpolation='nearest', cmap=cmap)\n",
        "  plt.title(title)\n",
        "  plt.colorbar()\n",
        "  tick_marks = np.arange(len(classes))\n",
        "  plt.xticks(tick_marks, classes, rotation=45)\n",
        "  plt.yticks(tick_marks, classes)\n",
        "\n",
        "  fmt = '.2f' if normalize else 'd'\n",
        "  thresh = cm.max() / 2.\n",
        "  for i, j in itertools.product(range(cm.shape[0]), range(cm.shape[1])):\n",
        "      plt.text(j, i, format(cm[i, j], fmt),\n",
        "               horizontalalignment=\"center\",\n",
        "               color=\"white\" if cm[i, j] > thresh else \"black\")\n",
        "\n",
        "  plt.tight_layout()\n",
        "  plt.ylabel('True label')\n",
        "  plt.xlabel('Predicted label')\n",
        "  plt.show()\n",
        "\n",
        "\n",
        "p_test = model.predict(X_test).argmax(axis=1)\n",
        "cm = confusion_matrix(y_test, p_test)\n",
        "plot_confusion_matrix(cm, list(range(10)))"
      ],
      "execution_count": 32,
      "outputs": [
        {
          "output_type": "stream",
          "text": [
            "Confusion matrix, without normalization\n",
            "[[878   8  20  14   4   9   5   4  35  23]\n",
            " [  6 925   5   2   0   2   2   0  12  46]\n",
            " [ 45   1 727  54  49  56  44  12   8   4]\n",
            " [ 20   6  29 708  27 153  33  11   3  10]\n",
            " [ 10   3  31  85 748  53  34  31   4   1]\n",
            " [  6   3  19 108  13 818  12  19   1   1]\n",
            " [  6   4  18  46  10  24 879   6   4   3]\n",
            " [  9   1   7  40  26  45   2 859   4   7]\n",
            " [ 35  16   3   5   2   2   6   1 916  14]\n",
            " [ 12  38   1  10   0   3   3   4  15 914]]\n"
          ],
          "name": "stdout"
        },
        {
          "output_type": "display_data",
          "data": {
            "image/png": "[encoded data removed]",
            "text/plain": [
              "<Figure size 432x288 with 2 Axes>"
            ]
          },
          "metadata": {
            "tags": [],
            "needs_background": "light"
          }
        }
      ]
    },
    {
      "cell_type": "code",
      "metadata": {
        "id": "o_yGPTaMp4jD",
        "colab_type": "code",
        "colab": {
          "base_uri": "https://localhost:8080/",
          "height": 857
        },
        "outputId": "b3a791c9-e34d-4715-bb49-ccf9471c3230"
      },
      "source": [
        "model.summary()"
      ],
      "execution_count": 33,
      "outputs": [
        {
          "output_type": "stream",
          "text": [
            "Model: \"functional_7\"\n",
            "_________________________________________________________________\n",
            "Layer (type)                 Output Shape              Param #   \n",
            "=================================================================\n",
            "input_5 (InputLayer)         [(None, 32, 32, 3)]       0         \n",
            "_________________________________________________________________\n",
            "conv2d_23 (Conv2D)           (None, 32, 32, 32)        896       \n",
            "_________________________________________________________________\n",
            "batch_normalization_14 (Batc (None, 32, 32, 32)        128       \n",
            "_________________________________________________________________\n",
            "conv2d_24 (Conv2D)           (None, 32, 32, 32)        9248      \n",
            "_________________________________________________________________\n",
            "batch_normalization_15 (Batc (None, 32, 32, 32)        128       \n",
            "_________________________________________________________________\n",
            "max_pooling2d_9 (MaxPooling2 (None, 16, 16, 32)        0         \n",
            "_________________________________________________________________\n",
            "conv2d_25 (Conv2D)           (None, 16, 16, 64)        18496     \n",
            "_________________________________________________________________\n",
            "batch_normalization_16 (Batc (None, 16, 16, 64)        256       \n",
            "_________________________________________________________________\n",
            "conv2d_26 (Conv2D)           (None, 16, 16, 64)        36928     \n",
            "_________________________________________________________________\n",
            "batch_normalization_17 (Batc (None, 16, 16, 64)        256       \n",
            "_________________________________________________________________\n",
            "max_pooling2d_10 (MaxPooling (None, 8, 8, 64)          0         \n",
            "_________________________________________________________________\n",
            "conv2d_27 (Conv2D)           (None, 8, 8, 128)         73856     \n",
            "_________________________________________________________________\n",
            "batch_normalization_18 (Batc (None, 8, 8, 128)         512       \n",
            "_________________________________________________________________\n",
            "conv2d_28 (Conv2D)           (None, 8, 8, 128)         147584    \n",
            "_________________________________________________________________\n",
            "batch_normalization_19 (Batc (None, 8, 8, 128)         512       \n",
            "_________________________________________________________________\n",
            "max_pooling2d_11 (MaxPooling (None, 4, 4, 128)         0         \n",
            "_________________________________________________________________\n",
            "flatten_3 (Flatten)          (None, 2048)              0         \n",
            "_________________________________________________________________\n",
            "dropout_6 (Dropout)          (None, 2048)              0         \n",
            "_________________________________________________________________\n",
            "dense_9 (Dense)              (None, 1024)              2098176   \n",
            "_________________________________________________________________\n",
            "dropout_7 (Dropout)          (None, 1024)              0         \n",
            "_________________________________________________________________\n",
            "dense_10 (Dense)             (None, 10)                10250     \n",
            "=================================================================\n",
            "Total params: 2,397,226\n",
            "Trainable params: 2,396,330\n",
            "Non-trainable params: 896\n",
            "_________________________________________________________________\n"
          ],
          "name": "stdout"
        }
      ]
    },
    {
      "cell_type": "code",
      "metadata": {
        "id": "ixpENNVl0YjU",
        "colab_type": "code",
        "colab": {}
      },
      "source": [
        "i = Input(shape=X_train[0].shape)\n",
        "\n",
        "\n",
        "x = Conv2D(32, (3, 3), activation='relu', padding='same')(i)\n",
        "x = BatchNormalization()(x)\n",
        "x = Conv2D(32, (3, 3), activation='relu', padding='same')(x)\n",
        "x = BatchNormalization()(x)\n",
        "x = MaxPooling2D((2, 2))(x)\n",
        "\n",
        "x = Conv2D(64, (3, 3), activation='relu', padding='same')(x)\n",
        "x = BatchNormalization()(x)\n",
        "x = Conv2D(64, (3, 3), activation='relu', padding='same')(x)\n",
        "x = BatchNormalization()(x)\n",
        "x = MaxPooling2D((2, 2))(x)\n",
        "\n",
        "\n",
        "x = Conv2D(128, (3, 3), activation='relu', padding='same')(x)\n",
        "x = BatchNormalization()(x)\n",
        "x = Conv2D(128, (3, 3), activation='relu', padding='same')(x)\n",
        "x = BatchNormalization()(x)\n",
        "x = MaxPooling2D((2, 2))(x)\n",
        "\n",
        "\n",
        "\n",
        "x = Flatten()(x)\n",
        "x = Dropout(0.2)(x)\n",
        "x = Dense(1024, activation='relu')(x)\n",
        "x = Dropout(0.2)(x)\n",
        "x = Dense(K, activation='softmax')(x)\n",
        "\n",
        "model2 = Model(i, x)"
      ],
      "execution_count": 34,
      "outputs": []
    },
    {
      "cell_type": "code",
      "metadata": {
        "id": "_M-dm1y46tC0",
        "colab_type": "code",
        "colab": {}
      },
      "source": [
        "model2.compile(optimizer='adam',\n",
        "              loss='sparse_categorical_crossentropy',\n",
        "              metrics=['accuracy'])"
      ],
      "execution_count": 40,
      "outputs": []
    },
    {
      "cell_type": "code",
      "metadata": {
        "id": "wtnpD8246KZl",
        "colab_type": "code",
        "colab": {}
      },
      "source": [
        "batch_size = 32\n",
        "data_generator = tf.keras.preprocessing.image.ImageDataGenerator(width_shift_range=0.1, height_shift_range=0.1, horizontal_flip=True)\n",
        "train_generator = data_generator.flow(X_train, y_train, batch_size)\n",
        "steps_per_epoch = X_train.shape[0] // batch_size"
      ],
      "execution_count": 41,
      "outputs": []
    },
    {
      "cell_type": "code",
      "metadata": {
        "id": "-_jE5E6F6cei",
        "colab_type": "code",
        "colab": {
          "base_uri": "https://localhost:8080/",
          "height": 1000
        },
        "outputId": "72da2e98-f983-4963-fdaf-50e21bb37b2e"
      },
      "source": [
        "r = model2.fit(train_generator, validation_data=(X_test, y_test), steps_per_epoch=steps_per_epoch, epochs=50)"
      ],
      "execution_count": 42,
      "outputs": [
        {
          "output_type": "stream",
          "text": [
            "Epoch 1/50\n",
            "1562/1562 [==============================] - 26s 17ms/step - loss: 1.4267 - accuracy: 0.5010 - val_loss: 1.3730 - val_accuracy: 0.5368\n",
            "Epoch 2/50\n",
            "1562/1562 [==============================] - 25s 16ms/step - loss: 0.9971 - accuracy: 0.6527 - val_loss: 0.9148 - val_accuracy: 0.6857\n",
            "Epoch 3/50\n",
            "1562/1562 [==============================] - 26s 16ms/step - loss: 0.8438 - accuracy: 0.7103 - val_loss: 0.9090 - val_accuracy: 0.6967\n",
            "Epoch 4/50\n",
            "1562/1562 [==============================] - 25s 16ms/step - loss: 0.7537 - accuracy: 0.7429 - val_loss: 0.8821 - val_accuracy: 0.7055\n",
            "Epoch 5/50\n",
            "1562/1562 [==============================] - 25s 16ms/step - loss: 0.6826 - accuracy: 0.7666 - val_loss: 0.6985 - val_accuracy: 0.7709\n",
            "Epoch 6/50\n",
            "1562/1562 [==============================] - 25s 16ms/step - loss: 0.6328 - accuracy: 0.7834 - val_loss: 0.6251 - val_accuracy: 0.7876\n",
            "Epoch 7/50\n",
            "1562/1562 [==============================] - 26s 16ms/step - loss: 0.5881 - accuracy: 0.7997 - val_loss: 0.5684 - val_accuracy: 0.8089\n",
            "Epoch 8/50\n",
            "1562/1562 [==============================] - 26s 16ms/step - loss: 0.5549 - accuracy: 0.8118 - val_loss: 0.4894 - val_accuracy: 0.8359\n",
            "Epoch 9/50\n",
            "1562/1562 [==============================] - 25s 16ms/step - loss: 0.5238 - accuracy: 0.8225 - val_loss: 0.5673 - val_accuracy: 0.8178\n",
            "Epoch 10/50\n",
            "1562/1562 [==============================] - 26s 16ms/step - loss: 0.4934 - accuracy: 0.8324 - val_loss: 0.6336 - val_accuracy: 0.7996\n",
            "Epoch 11/50\n",
            "1562/1562 [==============================] - 25s 16ms/step - loss: 0.4725 - accuracy: 0.8382 - val_loss: 0.4871 - val_accuracy: 0.8388\n",
            "Epoch 12/50\n",
            "1562/1562 [==============================] - 25s 16ms/step - loss: 0.4468 - accuracy: 0.8476 - val_loss: 0.5833 - val_accuracy: 0.8113\n",
            "Epoch 13/50\n",
            "1562/1562 [==============================] - 25s 16ms/step - loss: 0.4263 - accuracy: 0.8538 - val_loss: 0.4674 - val_accuracy: 0.8398\n",
            "Epoch 14/50\n",
            "1562/1562 [==============================] - 25s 16ms/step - loss: 0.4041 - accuracy: 0.8615 - val_loss: 0.5252 - val_accuracy: 0.8250\n",
            "Epoch 15/50\n",
            "1562/1562 [==============================] - 25s 16ms/step - loss: 0.3910 - accuracy: 0.8666 - val_loss: 0.4555 - val_accuracy: 0.8488\n",
            "Epoch 16/50\n",
            "1562/1562 [==============================] - 25s 16ms/step - loss: 0.3703 - accuracy: 0.8734 - val_loss: 0.4536 - val_accuracy: 0.8511\n",
            "Epoch 17/50\n",
            "1562/1562 [==============================] - 25s 16ms/step - loss: 0.3616 - accuracy: 0.8758 - val_loss: 0.4909 - val_accuracy: 0.8375\n",
            "Epoch 18/50\n",
            "1562/1562 [==============================] - 25s 16ms/step - loss: 0.3503 - accuracy: 0.8813 - val_loss: 0.4486 - val_accuracy: 0.8512\n",
            "Epoch 19/50\n",
            "1562/1562 [==============================] - 25s 16ms/step - loss: 0.3334 - accuracy: 0.8848 - val_loss: 0.4093 - val_accuracy: 0.8637\n",
            "Epoch 20/50\n",
            "1562/1562 [==============================] - 25s 16ms/step - loss: 0.3284 - accuracy: 0.8866 - val_loss: 0.4482 - val_accuracy: 0.8559\n",
            "Epoch 21/50\n",
            "1562/1562 [==============================] - 25s 16ms/step - loss: 0.3152 - accuracy: 0.8901 - val_loss: 0.4419 - val_accuracy: 0.8529\n",
            "Epoch 22/50\n",
            "1562/1562 [==============================] - 25s 16ms/step - loss: 0.3059 - accuracy: 0.8932 - val_loss: 0.4536 - val_accuracy: 0.8545\n",
            "Epoch 23/50\n",
            "1562/1562 [==============================] - 25s 16ms/step - loss: 0.3030 - accuracy: 0.8959 - val_loss: 0.4694 - val_accuracy: 0.8501\n",
            "Epoch 24/50\n",
            "1562/1562 [==============================] - 25s 16ms/step - loss: 0.2943 - accuracy: 0.8993 - val_loss: 0.3857 - val_accuracy: 0.8733\n",
            "Epoch 25/50\n",
            "1562/1562 [==============================] - 25s 16ms/step - loss: 0.2834 - accuracy: 0.9023 - val_loss: 0.4028 - val_accuracy: 0.8659\n",
            "Epoch 26/50\n",
            "1562/1562 [==============================] - 25s 16ms/step - loss: 0.2777 - accuracy: 0.9032 - val_loss: 0.3729 - val_accuracy: 0.8777\n",
            "Epoch 27/50\n",
            "1562/1562 [==============================] - 25s 16ms/step - loss: 0.2691 - accuracy: 0.9080 - val_loss: 0.4013 - val_accuracy: 0.8702\n",
            "Epoch 28/50\n",
            "1562/1562 [==============================] - 25s 16ms/step - loss: 0.2678 - accuracy: 0.9077 - val_loss: 0.4009 - val_accuracy: 0.8702\n",
            "Epoch 29/50\n",
            "1562/1562 [==============================] - 25s 16ms/step - loss: 0.2604 - accuracy: 0.9110 - val_loss: 0.4244 - val_accuracy: 0.8610\n",
            "Epoch 30/50\n",
            "1562/1562 [==============================] - 25s 16ms/step - loss: 0.2549 - accuracy: 0.9112 - val_loss: 0.4224 - val_accuracy: 0.8644\n",
            "Epoch 31/50\n",
            "1562/1562 [==============================] - 26s 16ms/step - loss: 0.2456 - accuracy: 0.9144 - val_loss: 0.3983 - val_accuracy: 0.8696\n",
            "Epoch 32/50\n",
            "1562/1562 [==============================] - 26s 16ms/step - loss: 0.2438 - accuracy: 0.9161 - val_loss: 0.4220 - val_accuracy: 0.8676\n",
            "Epoch 33/50\n",
            "1562/1562 [==============================] - 25s 16ms/step - loss: 0.2377 - accuracy: 0.9168 - val_loss: 0.3973 - val_accuracy: 0.8737\n",
            "Epoch 34/50\n",
            "1562/1562 [==============================] - 25s 16ms/step - loss: 0.2322 - accuracy: 0.9198 - val_loss: 0.3806 - val_accuracy: 0.8772\n",
            "Epoch 35/50\n",
            "1562/1562 [==============================] - 25s 16ms/step - loss: 0.2289 - accuracy: 0.9208 - val_loss: 0.3908 - val_accuracy: 0.8764\n",
            "Epoch 36/50\n",
            "1562/1562 [==============================] - 25s 16ms/step - loss: 0.2238 - accuracy: 0.9225 - val_loss: 0.4008 - val_accuracy: 0.8797\n",
            "Epoch 37/50\n",
            "1562/1562 [==============================] - 25s 16ms/step - loss: 0.2231 - accuracy: 0.9223 - val_loss: 0.4172 - val_accuracy: 0.8740\n",
            "Epoch 38/50\n",
            "1562/1562 [==============================] - 25s 16ms/step - loss: 0.2169 - accuracy: 0.9249 - val_loss: 0.3987 - val_accuracy: 0.8742\n",
            "Epoch 39/50\n",
            "1562/1562 [==============================] - 25s 16ms/step - loss: 0.2123 - accuracy: 0.9267 - val_loss: 0.3721 - val_accuracy: 0.8817\n",
            "Epoch 40/50\n",
            "1562/1562 [==============================] - 25s 16ms/step - loss: 0.2049 - accuracy: 0.9300 - val_loss: 0.3979 - val_accuracy: 0.8768\n",
            "Epoch 41/50\n",
            "1562/1562 [==============================] - 25s 16ms/step - loss: 0.2085 - accuracy: 0.9286 - val_loss: 0.3804 - val_accuracy: 0.8860\n",
            "Epoch 42/50\n",
            "1562/1562 [==============================] - 25s 16ms/step - loss: 0.1993 - accuracy: 0.9301 - val_loss: 0.4022 - val_accuracy: 0.8808\n",
            "Epoch 43/50\n",
            "1562/1562 [==============================] - 25s 16ms/step - loss: 0.1948 - accuracy: 0.9329 - val_loss: 0.4178 - val_accuracy: 0.8768\n",
            "Epoch 44/50\n",
            "1562/1562 [==============================] - 25s 16ms/step - loss: 0.1972 - accuracy: 0.9312 - val_loss: 0.3853 - val_accuracy: 0.8816\n",
            "Epoch 45/50\n",
            "1562/1562 [==============================] - 25s 16ms/step - loss: 0.1925 - accuracy: 0.9338 - val_loss: 0.4042 - val_accuracy: 0.8862\n",
            "Epoch 46/50\n",
            "1562/1562 [==============================] - 25s 16ms/step - loss: 0.1899 - accuracy: 0.9347 - val_loss: 0.3875 - val_accuracy: 0.8878\n",
            "Epoch 47/50\n",
            "1562/1562 [==============================] - 25s 16ms/step - loss: 0.1874 - accuracy: 0.9361 - val_loss: 0.4124 - val_accuracy: 0.8801\n",
            "Epoch 48/50\n",
            "1562/1562 [==============================] - 25s 16ms/step - loss: 0.1863 - accuracy: 0.9351 - val_loss: 0.4760 - val_accuracy: 0.8567\n",
            "Epoch 49/50\n",
            "1562/1562 [==============================] - 25s 16ms/step - loss: 0.1859 - accuracy: 0.9364 - val_loss: 0.3902 - val_accuracy: 0.8814\n",
            "Epoch 50/50\n",
            "1562/1562 [==============================] - 25s 16ms/step - loss: 0.1805 - accuracy: 0.9373 - val_loss: 0.3829 - val_accuracy: 0.8894\n"
          ],
          "name": "stdout"
        }
      ]
    },
    {
      "cell_type": "code",
      "metadata": {
        "id": "x1PXR-cC6guh",
        "colab_type": "code",
        "colab": {
          "base_uri": "https://localhost:8080/",
          "height": 282
        },
        "outputId": "e341a001-db69-4588-94ab-b54beaae64fc"
      },
      "source": [
        "plt.plot(r.history['accuracy'], label='accuracy')\n",
        "plt.plot(r.history['val_accuracy'], label='val_accuracy')\n",
        "plt.legend()"
      ],
      "execution_count": 43,
      "outputs": [
        {
          "output_type": "execute_result",
          "data": {
            "text/plain": [
              "<matplotlib.legend.Legend at 0x7fbb08e33710>"
            ]
          },
          "metadata": {
            "tags": []
          },
          "execution_count": 43
        },
        {
          "output_type": "display_data",
          "data": {
            "image/png": "[encoded data removed]",
            "text/plain": [
              "<Figure size 432x288 with 1 Axes>"
            ]
          },
          "metadata": {
            "tags": [],
            "needs_background": "light"
          }
        }
      ]
    },
    {
      "cell_type": "code",
      "metadata": {
        "id": "M-X_F-E_62-H",
        "colab_type": "code",
        "colab": {
          "base_uri": "https://localhost:8080/",
          "height": 282
        },
        "outputId": "58bbd484-9797-40fe-96e5-caf0f284aa9f"
      },
      "source": [
        "plt.plot(r.history['loss'], label='loss')\n",
        "plt.plot(r.history['val_loss'], label='val_loss')\n",
        "plt.legend()"
      ],
      "execution_count": 44,
      "outputs": [
        {
          "output_type": "execute_result",
          "data": {
            "text/plain": [
              "<matplotlib.legend.Legend at 0x7fbb0ae7eac8>"
            ]
          },
          "metadata": {
            "tags": []
          },
          "execution_count": 44
        },
        {
          "output_type": "display_data",
          "data": {
            "image/png": "[encoded data removed]",
            "text/plain": [
              "<Figure size 432x288 with 1 Axes>"
            ]
          },
          "metadata": {
            "tags": [],
            "needs_background": "light"
          }
        }
      ]
    },
    {
      "cell_type": "code",
      "metadata": {
        "id": "RshVrA1266E0",
        "colab_type": "code",
        "colab": {}
      },
      "source": [
        ""
      ],
      "execution_count": null,
      "outputs": []
    }
  ]
}