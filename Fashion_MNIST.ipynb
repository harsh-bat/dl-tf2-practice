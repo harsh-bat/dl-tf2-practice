{
  "nbformat": 4,
  "nbformat_minor": 0,
  "metadata": {
    "colab": {
      "name": "Fashion MNIST.ipynb",
      "provenance": [],
      "collapsed_sections": [],
      "authorship_tag": "ABX9TyO0O18ZmAevUrRF8ID2Z/Q1",
      "include_colab_link": true
    },
    "kernelspec": {
      "name": "python3",
      "display_name": "Python 3"
    }
  },
  "cells": [
    {
      "cell_type": "markdown",
      "metadata": {
        "id": "view-in-github",
        "colab_type": "text"
      },
      "source": [
        "<a href=\"https://colab.research.google.com/github/harsh-bat/tensorFlow2Learn/blob/master/Fashion_MNIST.ipynb\" target=\"_parent\"><img src=\"https://colab.research.google.com/assets/colab-badge.svg\" alt=\"Open In Colab\"/></a>"
      ]
    },
    {
      "cell_type": "code",
      "metadata": {
        "id": "BljQPRBeD6y0",
        "colab_type": "code",
        "colab": {}
      },
      "source": [
        "import numpy as np\n",
        "import pandas as pd\n",
        "import matplotlib.pyplot as plt\n",
        "import tensorflow as tf"
      ],
      "execution_count": 1,
      "outputs": []
    },
    {
      "cell_type": "code",
      "metadata": {
        "id": "zuWLnb2_EE4g",
        "colab_type": "code",
        "colab": {}
      },
      "source": [
        "(X_train, y_train), (X_test, y_test) = tf.keras.datasets.fashion_mnist.load_data()"
      ],
      "execution_count": 2,
      "outputs": []
    },
    {
      "cell_type": "code",
      "metadata": {
        "id": "5t4tpkZkEO4r",
        "colab_type": "code",
        "colab": {
          "base_uri": "https://localhost:8080/",
          "height": 34
        },
        "outputId": "6b08de36-4a9e-4c24-b100-096afdacbc49"
      },
      "source": [
        "X_train.shape"
      ],
      "execution_count": 3,
      "outputs": [
        {
          "output_type": "execute_result",
          "data": {
            "text/plain": [
              "(60000, 28, 28)"
            ]
          },
          "metadata": {
            "tags": []
          },
          "execution_count": 3
        }
      ]
    },
    {
      "cell_type": "code",
      "metadata": {
        "id": "r4OYqA0FEf__",
        "colab_type": "code",
        "colab": {
          "base_uri": "https://localhost:8080/",
          "height": 34
        },
        "outputId": "2d6f4aec-f3f1-44c7-e060-670142e63dc5"
      },
      "source": [
        "np.unique(y_train)"
      ],
      "execution_count": 4,
      "outputs": [
        {
          "output_type": "execute_result",
          "data": {
            "text/plain": [
              "array([0, 1, 2, 3, 4, 5, 6, 7, 8, 9], dtype=uint8)"
            ]
          },
          "metadata": {
            "tags": []
          },
          "execution_count": 4
        }
      ]
    },
    {
      "cell_type": "code",
      "metadata": {
        "id": "BTmstpcUEi6d",
        "colab_type": "code",
        "colab": {
          "base_uri": "https://localhost:8080/",
          "height": 34
        },
        "outputId": "60bec9c7-fc98-418d-ac70-b1fb94f27b70"
      },
      "source": [
        "X_train.shape"
      ],
      "execution_count": 5,
      "outputs": [
        {
          "output_type": "execute_result",
          "data": {
            "text/plain": [
              "(60000, 28, 28)"
            ]
          },
          "metadata": {
            "tags": []
          },
          "execution_count": 5
        }
      ]
    },
    {
      "cell_type": "code",
      "metadata": {
        "id": "pohAL9NYE1Nk",
        "colab_type": "code",
        "colab": {
          "base_uri": "https://localhost:8080/",
          "height": 34
        },
        "outputId": "e3e46bb0-2698-4d49-bf96-01dbcd99dce6"
      },
      "source": [
        "np.expand_dims(X_train, -1).shape"
      ],
      "execution_count": 6,
      "outputs": [
        {
          "output_type": "execute_result",
          "data": {
            "text/plain": [
              "(60000, 28, 28, 1)"
            ]
          },
          "metadata": {
            "tags": []
          },
          "execution_count": 6
        }
      ]
    },
    {
      "cell_type": "code",
      "metadata": {
        "id": "dryDwzQKFZAn",
        "colab_type": "code",
        "colab": {}
      },
      "source": [
        "X_train = np.expand_dims(X_train, -1)\n",
        "X_test = np.expand_dims(X_test, -1)"
      ],
      "execution_count": 7,
      "outputs": []
    },
    {
      "cell_type": "code",
      "metadata": {
        "id": "tQTYUTwaFx9Z",
        "colab_type": "code",
        "colab": {}
      },
      "source": [
        "K = len(np.unique(y_train))"
      ],
      "execution_count": 8,
      "outputs": []
    },
    {
      "cell_type": "code",
      "metadata": {
        "id": "lqEA2owbF5xB",
        "colab_type": "code",
        "colab": {
          "base_uri": "https://localhost:8080/",
          "height": 34
        },
        "outputId": "183d8e9d-52c5-4777-b4e0-c76f7967bad6"
      },
      "source": [
        "K"
      ],
      "execution_count": 9,
      "outputs": [
        {
          "output_type": "execute_result",
          "data": {
            "text/plain": [
              "10"
            ]
          },
          "metadata": {
            "tags": []
          },
          "execution_count": 9
        }
      ]
    },
    {
      "cell_type": "code",
      "metadata": {
        "id": "6rxZPNMRF6Z5",
        "colab_type": "code",
        "colab": {}
      },
      "source": [
        "from tensorflow.keras.layers import Input, Conv2D, Dense, Flatten, Dropout\n",
        "from tensorflow.keras.models import Model"
      ],
      "execution_count": 10,
      "outputs": []
    },
    {
      "cell_type": "code",
      "metadata": {
        "id": "rlTUcCCvGW_M",
        "colab_type": "code",
        "colab": {}
      },
      "source": [
        "i = Input(shape=X_train[0].shape)\n",
        "x = Conv2D(32, (3,3), strides=2, activation='relu') (i)\n",
        "x = Conv2D(64, (3,3), strides=2, activation='relu') (x)\n",
        "x = Conv2D(128, (3,3), strides=2, activation='relu') (x)\n",
        "x = Flatten()(x)\n",
        "x = Dropout(0.2)(x)\n",
        "x = Dense(512, activation='relu')(x)\n",
        "x = Dropout(0.2)(x)\n",
        "x = Dense(256, activation='relu')(x)\n",
        "x = Dropout(0.2)(x)\n",
        "x = Dense(K, activation='softmax')(x)\n",
        "model = Model(i, x)"
      ],
      "execution_count": 11,
      "outputs": []
    },
    {
      "cell_type": "code",
      "metadata": {
        "id": "KctJKdZeHrap",
        "colab_type": "code",
        "colab": {}
      },
      "source": [
        "model.compile(optimizer='adam',\n",
        "              loss='sparse_categorical_crossentropy',\n",
        "              metrics=['accuracy'])"
      ],
      "execution_count": 12,
      "outputs": []
    },
    {
      "cell_type": "code",
      "metadata": {
        "id": "cn4_GrKjJAA_",
        "colab_type": "code",
        "colab": {
          "base_uri": "https://localhost:8080/",
          "height": 1000
        },
        "outputId": "6501f5ff-e852-42e8-b725-ca86a2ed3933"
      },
      "source": [
        "r = model.fit(X_train, y_train, validation_data=(X_test, y_test),  epochs=40)"
      ],
      "execution_count": 13,
      "outputs": [
        {
          "output_type": "stream",
          "text": [
            "Epoch 1/40\n",
            "1875/1875 [==============================] - 34s 18ms/step - loss: 0.5832 - accuracy: 0.7943 - val_loss: 0.4164 - val_accuracy: 0.8429\n",
            "Epoch 2/40\n",
            "1875/1875 [==============================] - 34s 18ms/step - loss: 0.4186 - accuracy: 0.8457 - val_loss: 0.3957 - val_accuracy: 0.8504\n",
            "Epoch 3/40\n",
            "1875/1875 [==============================] - 36s 19ms/step - loss: 0.3802 - accuracy: 0.8601 - val_loss: 0.4133 - val_accuracy: 0.8529\n",
            "Epoch 4/40\n",
            "1875/1875 [==============================] - 38s 20ms/step - loss: 0.3614 - accuracy: 0.8668 - val_loss: 0.3735 - val_accuracy: 0.8642\n",
            "Epoch 5/40\n",
            "1875/1875 [==============================] - 35s 19ms/step - loss: 0.3342 - accuracy: 0.8761 - val_loss: 0.3530 - val_accuracy: 0.8738\n",
            "Epoch 6/40\n",
            "1875/1875 [==============================] - 34s 18ms/step - loss: 0.3280 - accuracy: 0.8775 - val_loss: 0.3541 - val_accuracy: 0.8717\n",
            "Epoch 7/40\n",
            "1875/1875 [==============================] - 35s 18ms/step - loss: 0.3123 - accuracy: 0.8841 - val_loss: 0.3588 - val_accuracy: 0.8735\n",
            "Epoch 8/40\n",
            "1875/1875 [==============================] - 35s 19ms/step - loss: 0.3032 - accuracy: 0.8858 - val_loss: 0.3590 - val_accuracy: 0.8796\n",
            "Epoch 9/40\n",
            "1875/1875 [==============================] - 35s 19ms/step - loss: 0.2977 - accuracy: 0.8891 - val_loss: 0.3893 - val_accuracy: 0.8678\n",
            "Epoch 10/40\n",
            "1875/1875 [==============================] - 35s 19ms/step - loss: 0.2871 - accuracy: 0.8931 - val_loss: 0.3871 - val_accuracy: 0.8704\n",
            "Epoch 11/40\n",
            "1875/1875 [==============================] - 34s 18ms/step - loss: 0.2862 - accuracy: 0.8952 - val_loss: 0.3824 - val_accuracy: 0.8675\n",
            "Epoch 12/40\n",
            "1875/1875 [==============================] - 34s 18ms/step - loss: 0.2746 - accuracy: 0.8993 - val_loss: 0.3724 - val_accuracy: 0.8754\n",
            "Epoch 13/40\n",
            "1875/1875 [==============================] - 37s 20ms/step - loss: 0.2699 - accuracy: 0.9019 - val_loss: 0.3760 - val_accuracy: 0.8846\n",
            "Epoch 14/40\n",
            "1875/1875 [==============================] - 35s 19ms/step - loss: 0.2724 - accuracy: 0.9017 - val_loss: 0.3608 - val_accuracy: 0.8811\n",
            "Epoch 15/40\n",
            "1875/1875 [==============================] - 35s 18ms/step - loss: 0.2623 - accuracy: 0.9039 - val_loss: 0.3645 - val_accuracy: 0.8799\n",
            "Epoch 16/40\n",
            "1875/1875 [==============================] - 34s 18ms/step - loss: 0.2648 - accuracy: 0.9040 - val_loss: 0.3930 - val_accuracy: 0.8788\n",
            "Epoch 17/40\n",
            "1875/1875 [==============================] - 35s 19ms/step - loss: 0.2594 - accuracy: 0.9080 - val_loss: 0.3816 - val_accuracy: 0.8757\n",
            "Epoch 18/40\n",
            "1875/1875 [==============================] - 36s 19ms/step - loss: 0.2587 - accuracy: 0.9066 - val_loss: 0.3956 - val_accuracy: 0.8825\n",
            "Epoch 19/40\n",
            "1875/1875 [==============================] - 35s 19ms/step - loss: 0.2553 - accuracy: 0.9083 - val_loss: 0.3924 - val_accuracy: 0.8816\n",
            "Epoch 20/40\n",
            "1875/1875 [==============================] - 35s 19ms/step - loss: 0.2481 - accuracy: 0.9113 - val_loss: 0.4028 - val_accuracy: 0.8785\n",
            "Epoch 21/40\n",
            "1875/1875 [==============================] - 36s 19ms/step - loss: 0.2568 - accuracy: 0.9091 - val_loss: 0.3842 - val_accuracy: 0.8757\n",
            "Epoch 22/40\n",
            "1875/1875 [==============================] - 43s 23ms/step - loss: 0.2493 - accuracy: 0.9115 - val_loss: 0.3943 - val_accuracy: 0.8777\n",
            "Epoch 23/40\n",
            "1875/1875 [==============================] - 37s 19ms/step - loss: 0.2513 - accuracy: 0.9113 - val_loss: 0.4179 - val_accuracy: 0.8834\n",
            "Epoch 24/40\n",
            "1875/1875 [==============================] - 35s 19ms/step - loss: 0.2435 - accuracy: 0.9129 - val_loss: 0.4467 - val_accuracy: 0.8846\n",
            "Epoch 25/40\n",
            "1875/1875 [==============================] - 35s 19ms/step - loss: 0.2459 - accuracy: 0.9136 - val_loss: 0.3927 - val_accuracy: 0.8851\n",
            "Epoch 26/40\n",
            "1875/1875 [==============================] - 35s 19ms/step - loss: 0.2475 - accuracy: 0.9131 - val_loss: 0.4243 - val_accuracy: 0.8841\n",
            "Epoch 27/40\n",
            "1875/1875 [==============================] - 37s 20ms/step - loss: 0.2486 - accuracy: 0.9137 - val_loss: 0.4165 - val_accuracy: 0.8804\n",
            "Epoch 28/40\n",
            "1875/1875 [==============================] - 35s 19ms/step - loss: 0.2343 - accuracy: 0.9170 - val_loss: 0.4536 - val_accuracy: 0.8798\n",
            "Epoch 29/40\n",
            "1875/1875 [==============================] - 35s 19ms/step - loss: 0.2456 - accuracy: 0.9162 - val_loss: 0.4032 - val_accuracy: 0.8819\n",
            "Epoch 30/40\n",
            "1875/1875 [==============================] - 35s 18ms/step - loss: 0.2349 - accuracy: 0.9171 - val_loss: 0.5113 - val_accuracy: 0.8802\n",
            "Epoch 31/40\n",
            "1875/1875 [==============================] - 36s 19ms/step - loss: 0.2332 - accuracy: 0.9183 - val_loss: 0.4496 - val_accuracy: 0.8797\n",
            "Epoch 32/40\n",
            "1875/1875 [==============================] - 34s 18ms/step - loss: 0.2326 - accuracy: 0.9185 - val_loss: 0.4701 - val_accuracy: 0.8839\n",
            "Epoch 33/40\n",
            "1875/1875 [==============================] - 34s 18ms/step - loss: 0.2358 - accuracy: 0.9181 - val_loss: 0.4523 - val_accuracy: 0.8794\n",
            "Epoch 34/40\n",
            "1875/1875 [==============================] - 35s 19ms/step - loss: 0.2331 - accuracy: 0.9189 - val_loss: 0.4536 - val_accuracy: 0.8854\n",
            "Epoch 35/40\n",
            "1875/1875 [==============================] - 42s 23ms/step - loss: 0.2299 - accuracy: 0.9203 - val_loss: 0.5062 - val_accuracy: 0.8809\n",
            "Epoch 36/40\n",
            "1875/1875 [==============================] - 37s 20ms/step - loss: 0.2524 - accuracy: 0.9148 - val_loss: 0.4968 - val_accuracy: 0.8839\n",
            "Epoch 37/40\n",
            "1875/1875 [==============================] - 37s 20ms/step - loss: 0.2549 - accuracy: 0.9141 - val_loss: 0.4707 - val_accuracy: 0.8815\n",
            "Epoch 38/40\n",
            "1875/1875 [==============================] - 37s 20ms/step - loss: 0.2372 - accuracy: 0.9191 - val_loss: 0.4719 - val_accuracy: 0.8821\n",
            "Epoch 39/40\n",
            "1875/1875 [==============================] - 35s 19ms/step - loss: 0.2382 - accuracy: 0.9198 - val_loss: 0.4915 - val_accuracy: 0.8745\n",
            "Epoch 40/40\n",
            "1875/1875 [==============================] - 40s 21ms/step - loss: 0.2297 - accuracy: 0.9216 - val_loss: 0.5548 - val_accuracy: 0.8843\n"
          ],
          "name": "stdout"
        }
      ]
    },
    {
      "cell_type": "code",
      "metadata": {
        "id": "aBC3gSASJbtA",
        "colab_type": "code",
        "colab": {
          "base_uri": "https://localhost:8080/",
          "height": 282
        },
        "outputId": "a5536324-d7b0-4ba2-8f52-f5345538a5c6"
      },
      "source": [
        "plt.plot(r.history['accuracy'], label='accuracy')\n",
        "plt.plot(r.history['val_accuracy'], label='val_accuracy')\n",
        "plt.legend()"
      ],
      "execution_count": 19,
      "outputs": [
        {
          "output_type": "execute_result",
          "data": {
            "text/plain": [
              "<matplotlib.legend.Legend at 0x7fcbd6153b00>"
            ]
          },
          "metadata": {
            "tags": []
          },
          "execution_count": 19
        },
        {
          "output_type": "display_data",
          "data": {
            "image/png": "[encoded data removed]",
            "text/plain": [
              "<Figure size 432x288 with 1 Axes>"
            ]
          },
          "metadata": {
            "tags": [],
            "needs_background": "light"
          }
        }
      ]
    },
    {
      "cell_type": "code",
      "metadata": {
        "id": "jCduC63AM4pJ",
        "colab_type": "code",
        "colab": {
          "base_uri": "https://localhost:8080/",
          "height": 286
        },
        "outputId": "7abb0dcb-020f-4e86-a0ab-c65d6fed44c2"
      },
      "source": [
        "plt.plot(r.history['loss'], label='loss')\n",
        "plt.plot(r.history['val_loss'], label='val_loss')\n",
        "plt.legend()"
      ],
      "execution_count": 20,
      "outputs": [
        {
          "output_type": "execute_result",
          "data": {
            "text/plain": [
              "<matplotlib.legend.Legend at 0x7fcbd62c6978>"
            ]
          },
          "metadata": {
            "tags": []
          },
          "execution_count": 20
        },
        {
          "output_type": "display_data",
          "data": {
            "image/png": "[encoded data removed]",
            "text/plain": [
              "<Figure size 432x288 with 1 Axes>"
            ]
          },
          "metadata": {
            "tags": [],
            "needs_background": "light"
          }
        }
      ]
    },
    {
      "cell_type": "code",
      "metadata": {
        "id": "EmXX1ZBZUBYH",
        "colab_type": "code",
        "colab": {
          "base_uri": "https://localhost:8080/",
          "height": 50
        },
        "outputId": "ad0ef972-d3a9-4e9b-d4cf-800e7f1fe88c"
      },
      "source": [
        "model.evaluate(X_test, y_test)"
      ],
      "execution_count": 21,
      "outputs": [
        {
          "output_type": "stream",
          "text": [
            "313/313 [==============================] - 2s 6ms/step - loss: 0.5548 - accuracy: 0.8843\n"
          ],
          "name": "stdout"
        },
        {
          "output_type": "execute_result",
          "data": {
            "text/plain": [
              "[0.5547946095466614, 0.8842999935150146]"
            ]
          },
          "metadata": {
            "tags": []
          },
          "execution_count": 21
        }
      ]
    },
    {
      "cell_type": "code",
      "metadata": {
        "id": "J6zbEtwlUFtk",
        "colab_type": "code",
        "colab": {
          "base_uri": "https://localhost:8080/",
          "height": 496
        },
        "outputId": "ba3268fc-3158-4da6-c4c0-37114fcb0051"
      },
      "source": [
        "# Plot confusion matrix\n",
        "from sklearn.metrics import confusion_matrix\n",
        "import itertools\n",
        "\n",
        "def plot_confusion_matrix(cm, classes,\n",
        "                          normalize=False,\n",
        "                          title='Confusion matrix',\n",
        "                          cmap=plt.cm.Blues):\n",
        "  \"\"\"\n",
        "  This function prints and plots the confusion matrix.\n",
        "  Normalization can be applied by setting `normalize=True`.\n",
        "  \"\"\"\n",
        "  if normalize:\n",
        "      cm = cm.astype('float') / cm.sum(axis=1)[:, np.newaxis]\n",
        "      print(\"Normalized confusion matrix\")\n",
        "  else:\n",
        "      print('Confusion matrix, without normalization')\n",
        "\n",
        "  print(cm)\n",
        "\n",
        "  plt.imshow(cm, interpolation='nearest', cmap=cmap)\n",
        "  plt.title(title)\n",
        "  plt.colorbar()\n",
        "  tick_marks = np.arange(len(classes))\n",
        "  plt.xticks(tick_marks, classes, rotation=45)\n",
        "  plt.yticks(tick_marks, classes)\n",
        "\n",
        "  fmt = '.2f' if normalize else 'd'\n",
        "  thresh = cm.max() / 2.\n",
        "  for i, j in itertools.product(range(cm.shape[0]), range(cm.shape[1])):\n",
        "      plt.text(j, i, format(cm[i, j], fmt),\n",
        "               horizontalalignment=\"center\",\n",
        "               color=\"white\" if cm[i, j] > thresh else \"black\")\n",
        "\n",
        "  plt.tight_layout()\n",
        "  plt.ylabel('True label')\n",
        "  plt.xlabel('Predicted label')\n",
        "  plt.show()\n",
        "\n",
        "\n",
        "p_test = model.predict(X_test).argmax(axis=1)\n",
        "cm = confusion_matrix(y_test, p_test)\n",
        "plot_confusion_matrix(cm, list(range(10)))"
      ],
      "execution_count": 22,
      "outputs": [
        {
          "output_type": "stream",
          "text": [
            "Confusion matrix, without normalization\n",
            "[[880   1  16  20   1   2  78   0   2   0]\n",
            " [  3 968   2  18   2   0   5   0   2   0]\n",
            " [ 17   0 812  12  55   0 103   1   0   0]\n",
            " [ 26   0  13 914  21   0  26   0   0   0]\n",
            " [  1   0  82  44 729   0 141   0   3   0]\n",
            " [  0   0   0   0   0 971   0  19   1   9]\n",
            " [183   1  56  29  45   1 672   1  12   0]\n",
            " [  0   0   0   0   0  10   0 971   0  19]\n",
            " [  1   0   2   4   1   5  11   4 972   0]\n",
            " [  1   0   0   0   0   3   0  42   0 954]]\n"
          ],
          "name": "stdout"
        },
        {
          "output_type": "display_data",
          "data": {
            "image/png": "[encoded data removed]",
            "text/plain": [
              "<Figure size 432x288 with 2 Axes>"
            ]
          },
          "metadata": {
            "tags": [],
            "needs_background": "light"
          }
        }
      ]
    },
    {
      "cell_type": "code",
      "metadata": {
        "id": "-VNyJv7qVQxU",
        "colab_type": "code",
        "colab": {}
      },
      "source": [
        "labels = '''T-shirt/top\n",
        "Trouser\n",
        "Pullover\n",
        "Dress\n",
        "Coat\n",
        "Sandal\n",
        "Shirt\n",
        "Sneaker\n",
        "Bag\n",
        "Ankle boot'''.split(\"\\n\")"
      ],
      "execution_count": 23,
      "outputs": []
    },
    {
      "cell_type": "code",
      "metadata": {
        "id": "5rvk7rDNVVxN",
        "colab_type": "code",
        "colab": {
          "base_uri": "https://localhost:8080/",
          "height": 281
        },
        "outputId": "94fd7f37-6d37-488a-db10-fa05dbcfeda5"
      },
      "source": [
        "misclassified_idx = np.where(p_test != y_test)[0]\n",
        "i = np.random.choice(misclassified_idx)\n",
        "plt.imshow(X_test[i].reshape(28,28), cmap='gray')\n",
        "plt.title(\"True label: %s Predicted: %s\" % (labels[y_test[i]], labels[p_test[i]]));"
      ],
      "execution_count": 27,
      "outputs": [
        {
          "output_type": "display_data",
          "data": {
            "image/png": "[encoded data removed]",
            "text/plain": [
              "<Figure size 432x288 with 1 Axes>"
            ]
          },
          "metadata": {
            "tags": [],
            "needs_background": "light"
          }
        }
      ]
    },
    {
      "cell_type": "code",
      "metadata": {
        "id": "X_8OHoMFVYQu",
        "colab_type": "code",
        "colab": {}
      },
      "source": [
        ""
      ],
      "execution_count": null,
      "outputs": []
    }
  ]
}