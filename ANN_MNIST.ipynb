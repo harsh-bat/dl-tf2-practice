{
  "nbformat": 4,
  "nbformat_minor": 0,
  "metadata": {
    "colab": {
      "name": "ANN MNIST.ipynb",
      "provenance": [],
      "collapsed_sections": [],
      "authorship_tag": "ABX9TyMqOd573X1QtC0NGx67Xms9",
      "include_colab_link": true
    },
    "kernelspec": {
      "name": "python3",
      "display_name": "Python 3"
    },
    "accelerator": "GPU"
  },
  "cells": [
    {
      "cell_type": "markdown",
      "metadata": {
        "id": "view-in-github",
        "colab_type": "text"
      },
      "source": [
        "<a href=\"https://colab.research.google.com/github/harsh-bat/tensorFlow2Learn/blob/master/ANN_MNIST.ipynb\" target=\"_parent\"><img src=\"https://colab.research.google.com/assets/colab-badge.svg\" alt=\"Open In Colab\"/></a>"
      ]
    },
    {
      "cell_type": "code",
      "metadata": {
        "id": "nChSj7XY3skf",
        "colab_type": "code",
        "colab": {}
      },
      "source": [
        "import numpy as np\n",
        "import pandas as pd\n",
        "import tensorflow as tf\n",
        "import matplotlib.pyplot as plt\n"
      ],
      "execution_count": null,
      "outputs": []
    },
    {
      "cell_type": "code",
      "metadata": {
        "id": "LmQWubHU85EY",
        "colab_type": "code",
        "colab": {}
      },
      "source": [
        "(X_train, y_train), (X_test, y_test) = tf.keras.datasets.mnist.load_data()"
      ],
      "execution_count": null,
      "outputs": []
    },
    {
      "cell_type": "code",
      "metadata": {
        "id": "JTjHr7d492W3",
        "colab_type": "code",
        "colab": {
          "base_uri": "https://localhost:8080/",
          "height": 34
        },
        "outputId": "68ee71fe-554e-4222-9599-7aea1afc93eb"
      },
      "source": [
        "X_train.shape"
      ],
      "execution_count": null,
      "outputs": [
        {
          "output_type": "execute_result",
          "data": {
            "text/plain": [
              "(60000, 28, 28)"
            ]
          },
          "metadata": {
            "tags": []
          },
          "execution_count": 3
        }
      ]
    },
    {
      "cell_type": "code",
      "metadata": {
        "id": "V1NizpI1-Npp",
        "colab_type": "code",
        "colab": {
          "base_uri": "https://localhost:8080/",
          "height": 34
        },
        "outputId": "83de02c5-a9fd-4ef1-b78b-cf7174dc0392"
      },
      "source": [
        "y_train.shape"
      ],
      "execution_count": null,
      "outputs": [
        {
          "output_type": "execute_result",
          "data": {
            "text/plain": [
              "(60000,)"
            ]
          },
          "metadata": {
            "tags": []
          },
          "execution_count": 4
        }
      ]
    },
    {
      "cell_type": "code",
      "metadata": {
        "id": "TKDADQZy-PGt",
        "colab_type": "code",
        "colab": {
          "base_uri": "https://localhost:8080/",
          "height": 34
        },
        "outputId": "40168d6f-efa5-409e-f057-bbea535246ef"
      },
      "source": [
        "X_test.shape"
      ],
      "execution_count": null,
      "outputs": [
        {
          "output_type": "execute_result",
          "data": {
            "text/plain": [
              "(10000, 28, 28)"
            ]
          },
          "metadata": {
            "tags": []
          },
          "execution_count": 5
        }
      ]
    },
    {
      "cell_type": "code",
      "metadata": {
        "id": "99EQeQNW-RoA",
        "colab_type": "code",
        "colab": {
          "base_uri": "https://localhost:8080/",
          "height": 282
        },
        "outputId": "d023b154-bf51-451d-9f74-c0442f2f0e60"
      },
      "source": [
        "plt.imshow(X_test[15], cmap='gray')"
      ],
      "execution_count": null,
      "outputs": [
        {
          "output_type": "execute_result",
          "data": {
            "text/plain": [
              "<matplotlib.image.AxesImage at 0x7fc20e1a3438>"
            ]
          },
          "metadata": {
            "tags": []
          },
          "execution_count": 6
        },
        {
          "output_type": "display_data",
          "data": {
            "image/png": "[encoded data removed]",
            "text/plain": [
              "<Figure size 432x288 with 1 Axes>"
            ]
          },
          "metadata": {
            "tags": [],
            "needs_background": "light"
          }
        }
      ]
    },
    {
      "cell_type": "code",
      "metadata": {
        "id": "pVr1ZUFI-VfH",
        "colab_type": "code",
        "colab": {}
      },
      "source": [
        "X_train, X_test = X_train / 255.0, X_test / 255.0"
      ],
      "execution_count": null,
      "outputs": []
    },
    {
      "cell_type": "code",
      "metadata": {
        "id": "EyuWL5aR-x8M",
        "colab_type": "code",
        "colab": {
          "base_uri": "https://localhost:8080/",
          "height": 282
        },
        "outputId": "81a84cea-f0ac-4e7e-a06c-310c120cf9bd"
      },
      "source": [
        "plt.imshow(X_test[15], cmap='gray')"
      ],
      "execution_count": null,
      "outputs": [
        {
          "output_type": "execute_result",
          "data": {
            "text/plain": [
              "<matplotlib.image.AxesImage at 0x7fc20dcf36d8>"
            ]
          },
          "metadata": {
            "tags": []
          },
          "execution_count": 8
        },
        {
          "output_type": "display_data",
          "data": {
            "image/png": "[encoded data removed]",
            "text/plain": [
              "<Figure size 432x288 with 1 Axes>"
            ]
          },
          "metadata": {
            "tags": [],
            "needs_background": "light"
          }
        }
      ]
    },
    {
      "cell_type": "code",
      "metadata": {
        "id": "bE5qeb_G-zb7",
        "colab_type": "code",
        "colab": {}
      },
      "source": [
        "model = tf.keras.models.Sequential([\n",
        "    tf.keras.layers.Flatten(input_shape=(28,28)),\n",
        "    tf.keras.layers.Dense(256, activation='relu'),\n",
        "    tf.keras.layers.Dropout(0.2),\n",
        "    tf.keras.layers.Dense(256, activation='relu'),\n",
        "    tf.keras.layers.Dropout(0.2),\n",
        "    tf.keras.layers.Dense(10, activation='softmax')\n",
        "])"
      ],
      "execution_count": null,
      "outputs": []
    },
    {
      "cell_type": "code",
      "metadata": {
        "id": "2EnHKMFF_wEO",
        "colab_type": "code",
        "colab": {}
      },
      "source": [
        "model.compile(\n",
        "  optimizer='adam',\n",
        "  loss = 'sparse_categorical_crossentropy',\n",
        "  metrics = ['accuracy']\n",
        ")"
      ],
      "execution_count": null,
      "outputs": []
    },
    {
      "cell_type": "code",
      "metadata": {
        "id": "WfTEPz4OAIS0",
        "colab_type": "code",
        "colab": {
          "base_uri": "https://localhost:8080/",
          "height": 689
        },
        "outputId": "1f3921d9-eac8-482c-800a-f9efe157b1ec"
      },
      "source": [
        "r = model.fit(X_train, y_train, validation_data=(X_test, y_test), epochs=20)"
      ],
      "execution_count": null,
      "outputs": [
        {
          "output_type": "stream",
          "text": [
            "Epoch 1/20\n",
            "1875/1875 [==============================] - 4s 2ms/step - loss: 0.2490 - accuracy: 0.9252 - val_loss: 0.1044 - val_accuracy: 0.9682\n",
            "Epoch 2/20\n",
            "1875/1875 [==============================] - 4s 2ms/step - loss: 0.1179 - accuracy: 0.9642 - val_loss: 0.0864 - val_accuracy: 0.9719\n",
            "Epoch 3/20\n",
            "1875/1875 [==============================] - 4s 2ms/step - loss: 0.0895 - accuracy: 0.9724 - val_loss: 0.0735 - val_accuracy: 0.9763\n",
            "Epoch 4/20\n",
            "1875/1875 [==============================] - 4s 2ms/step - loss: 0.0760 - accuracy: 0.9763 - val_loss: 0.0712 - val_accuracy: 0.9773\n",
            "Epoch 5/20\n",
            "1875/1875 [==============================] - 4s 2ms/step - loss: 0.0643 - accuracy: 0.9797 - val_loss: 0.0792 - val_accuracy: 0.9768\n",
            "Epoch 6/20\n",
            "1875/1875 [==============================] - 4s 2ms/step - loss: 0.0581 - accuracy: 0.9815 - val_loss: 0.0673 - val_accuracy: 0.9800\n",
            "Epoch 7/20\n",
            "1875/1875 [==============================] - 4s 2ms/step - loss: 0.0498 - accuracy: 0.9839 - val_loss: 0.0841 - val_accuracy: 0.9780\n",
            "Epoch 8/20\n",
            "1875/1875 [==============================] - 4s 2ms/step - loss: 0.0483 - accuracy: 0.9848 - val_loss: 0.0705 - val_accuracy: 0.9804\n",
            "Epoch 9/20\n",
            "1875/1875 [==============================] - 4s 2ms/step - loss: 0.0426 - accuracy: 0.9867 - val_loss: 0.0765 - val_accuracy: 0.9802\n",
            "Epoch 10/20\n",
            "1875/1875 [==============================] - 4s 2ms/step - loss: 0.0418 - accuracy: 0.9865 - val_loss: 0.0813 - val_accuracy: 0.9793\n",
            "Epoch 11/20\n",
            "1875/1875 [==============================] - 4s 2ms/step - loss: 0.0379 - accuracy: 0.9872 - val_loss: 0.0835 - val_accuracy: 0.9792\n",
            "Epoch 12/20\n",
            "1875/1875 [==============================] - 4s 2ms/step - loss: 0.0380 - accuracy: 0.9879 - val_loss: 0.0794 - val_accuracy: 0.9796\n",
            "Epoch 13/20\n",
            "1875/1875 [==============================] - 4s 2ms/step - loss: 0.0368 - accuracy: 0.9883 - val_loss: 0.0710 - val_accuracy: 0.9832\n",
            "Epoch 14/20\n",
            "1875/1875 [==============================] - 4s 2ms/step - loss: 0.0340 - accuracy: 0.9894 - val_loss: 0.0816 - val_accuracy: 0.9802\n",
            "Epoch 15/20\n",
            "1875/1875 [==============================] - 4s 2ms/step - loss: 0.0330 - accuracy: 0.9900 - val_loss: 0.0716 - val_accuracy: 0.9821\n",
            "Epoch 16/20\n",
            "1875/1875 [==============================] - 4s 2ms/step - loss: 0.0283 - accuracy: 0.9912 - val_loss: 0.0728 - val_accuracy: 0.9835\n",
            "Epoch 17/20\n",
            "1875/1875 [==============================] - 4s 2ms/step - loss: 0.0306 - accuracy: 0.9906 - val_loss: 0.0903 - val_accuracy: 0.9795\n",
            "Epoch 18/20\n",
            "1875/1875 [==============================] - 4s 2ms/step - loss: 0.0298 - accuracy: 0.9908 - val_loss: 0.0843 - val_accuracy: 0.9810\n",
            "Epoch 19/20\n",
            "1875/1875 [==============================] - 4s 2ms/step - loss: 0.0298 - accuracy: 0.9908 - val_loss: 0.0871 - val_accuracy: 0.9807\n",
            "Epoch 20/20\n",
            "1875/1875 [==============================] - 4s 2ms/step - loss: 0.0262 - accuracy: 0.9917 - val_loss: 0.0924 - val_accuracy: 0.9818\n"
          ],
          "name": "stdout"
        }
      ]
    },
    {
      "cell_type": "code",
      "metadata": {
        "id": "GactlY7wANGv",
        "colab_type": "code",
        "colab": {
          "base_uri": "https://localhost:8080/",
          "height": 282
        },
        "outputId": "a570e370-64bf-4fff-f93e-2aefd908c62b"
      },
      "source": [
        "plt.plot(r.history['loss'], label='loss')\n",
        "plt.plot(r.history['val_loss'], label='val_loss')\n",
        "plt.legend()"
      ],
      "execution_count": null,
      "outputs": [
        {
          "output_type": "execute_result",
          "data": {
            "text/plain": [
              "<matplotlib.legend.Legend at 0x7fc20dcd9978>"
            ]
          },
          "metadata": {
            "tags": []
          },
          "execution_count": 18
        },
        {
          "output_type": "display_data",
          "data": {
            "image/png": "[encoded data removed]",
            "text/plain": [
              "<Figure size 432x288 with 1 Axes>"
            ]
          },
          "metadata": {
            "tags": [],
            "needs_background": "light"
          }
        }
      ]
    },
    {
      "cell_type": "code",
      "metadata": {
        "id": "G04-T85RCMKc",
        "colab_type": "code",
        "colab": {
          "base_uri": "https://localhost:8080/",
          "height": 282
        },
        "outputId": "7a7e82f5-7ef3-41bd-bb69-1f0438fe0ac6"
      },
      "source": [
        "plt.plot(r.history['accuracy'], label='acc')\n",
        "plt.plot(r.history['val_accuracy'], label='val_acc')\n",
        "plt.legend()"
      ],
      "execution_count": null,
      "outputs": [
        {
          "output_type": "execute_result",
          "data": {
            "text/plain": [
              "<matplotlib.legend.Legend at 0x7fc196a98828>"
            ]
          },
          "metadata": {
            "tags": []
          },
          "execution_count": 19
        },
        {
          "output_type": "display_data",
          "data": {
            "image/png": "[encoded data removed]",
            "text/plain": [
              "<Figure size 432x288 with 1 Axes>"
            ]
          },
          "metadata": {
            "tags": [],
            "needs_background": "light"
          }
        }
      ]
    },
    {
      "cell_type": "code",
      "metadata": {
        "id": "QOvNZYKYCRcC",
        "colab_type": "code",
        "colab": {
          "base_uri": "https://localhost:8080/",
          "height": 496
        },
        "outputId": "67de1a86-02d4-4655-db26-3c53cba7f620"
      },
      "source": [
        "from sklearn.metrics import confusion_matrix\n",
        "import itertools\n",
        "\n",
        "def plot_confusion_matrix(cm, classes,\n",
        "                          normalize=False,\n",
        "                          title='Confusion matrix',\n",
        "                          cmap=plt.cm.Blues):\n",
        "  \"\"\"\n",
        "  This function prints and plots the confusion matrix.\n",
        "  Normalization can be applied by setting `normalize=True`.\n",
        "  \"\"\"\n",
        "  if normalize:\n",
        "      cm = cm.astype('float') / cm.sum(axis=1)[:, np.newaxis]\n",
        "      print(\"Normalized confusion matrix\")\n",
        "  else:\n",
        "      print('Confusion matrix, without normalization')\n",
        "\n",
        "  print(cm)\n",
        "\n",
        "  plt.imshow(cm, interpolation='nearest', cmap=cmap)\n",
        "  plt.title(title)\n",
        "  plt.colorbar()\n",
        "  tick_marks = np.arange(len(classes))\n",
        "  plt.xticks(tick_marks, classes)\n",
        "  plt.yticks(tick_marks, classes)\n",
        "\n",
        "  fmt = '.2f' if normalize else 'd'\n",
        "  thresh = cm.max() / 2.\n",
        "  for i, j in itertools.product(range(cm.shape[0]), range(cm.shape[1])):\n",
        "      plt.text(j, i, format(cm[i, j], fmt),\n",
        "               horizontalalignment=\"center\",\n",
        "               color=\"white\" if cm[i, j] > thresh else \"black\")\n",
        "\n",
        "  plt.tight_layout()\n",
        "  plt.ylabel('True label')\n",
        "  plt.xlabel('Predicted label')\n",
        "  plt.show()\n",
        "\n",
        "\n",
        "p_test = model.predict(X_test).argmax(axis=1)\n",
        "cm = confusion_matrix(y_test, p_test)\n",
        "plot_confusion_matrix(cm, list(range(10)))"
      ],
      "execution_count": null,
      "outputs": [
        {
          "output_type": "stream",
          "text": [
            "Confusion matrix, without normalization\n",
            "[[ 972    1    1    0    1    1    2    1    0    1]\n",
            " [   0 1126    1    1    0    0    3    0    4    0]\n",
            " [   5    1 1005    3    1    0    6    8    3    0]\n",
            " [   0    0    4  994    0    3    0    4    3    2]\n",
            " [   2    0    1    1  963    0    7    0    1    7]\n",
            " [   2    0    0    5    1  867   10    0    5    2]\n",
            " [   2    1    0    1    2    3  947    0    2    0]\n",
            " [   2    1    7    2    1    0    0 1008    2    5]\n",
            " [   3    0    2    4    1    2    2    3  953    4]\n",
            " [   3    3    0    3   10    2    0    1    4  983]]\n"
          ],
          "name": "stdout"
        },
        {
          "output_type": "display_data",
          "data": {
            "image/png": "[encoded data removed]",
            "text/plain": [
              "<Figure size 432x288 with 2 Axes>"
            ]
          },
          "metadata": {
            "tags": [],
            "needs_background": "light"
          }
        }
      ]
    },
    {
      "cell_type": "code",
      "metadata": {
        "id": "rBk10x-5Ea9y",
        "colab_type": "code",
        "colab": {
          "base_uri": "https://localhost:8080/",
          "height": 302
        },
        "outputId": "77cdd987-a342-4fbc-a418-59cbf3de3af4"
      },
      "source": [
        "np.where(p_test != y_test)[0]"
      ],
      "execution_count": null,
      "outputs": [
        {
          "output_type": "execute_result",
          "data": {
            "text/plain": [
              "array([   8,  151,  247,  321,  340,  359,  381,  445,  448,  449,  495,\n",
              "        582,  610,  619,  646,  659,  720,  740,  882,  924,  956, 1014,\n",
              "       1039, 1044, 1112, 1128, 1156, 1178, 1224, 1226, 1232, 1242, 1247,\n",
              "       1260, 1319, 1328, 1337, 1378, 1393, 1522, 1530, 1549, 1553, 1641,\n",
              "       1681, 1790, 1813, 1901, 1911, 1941, 1982, 2004, 2016, 2024, 2029,\n",
              "       2035, 2053, 2073, 2098, 2130, 2272, 2293, 2326, 2369, 2387, 2422,\n",
              "       2462, 2488, 2597, 2654, 2720, 2743, 2758, 2921, 2927, 2939, 2953,\n",
              "       3030, 3073, 3115, 3225, 3289, 3384, 3405, 3475, 3503, 3520, 3534,\n",
              "       3558, 3559, 3565, 3597, 3604, 3702, 3767, 3780, 3808, 3811, 3853,\n",
              "       3869, 3893, 3906, 3941, 3943, 3985, 4000, 4007, 4065, 4078, 4140,\n",
              "       4163, 4176, 4199, 4248, 4289, 4425, 4437, 4443, 4497, 4500, 4504,\n",
              "       4548, 4571, 4731, 4751, 4761, 4807, 4823, 4879, 4880, 4915, 5331,\n",
              "       5586, 5642, 5676, 5757, 5887, 5936, 5955, 5973, 6011, 6390, 6391,\n",
              "       6532, 6555, 6572, 6574, 6597, 6625, 6651, 6721, 6740, 6755, 6783,\n",
              "       7434, 7928, 8059, 8094, 8246, 8325, 8408, 8453, 8527, 9009, 9015,\n",
              "       9019, 9024, 9587, 9634, 9664, 9679, 9729, 9745, 9749, 9751, 9755,\n",
              "       9768, 9770, 9779, 9839, 9944, 9980])"
            ]
          },
          "metadata": {
            "tags": []
          },
          "execution_count": 28
        }
      ]
    },
    {
      "cell_type": "code",
      "metadata": {
        "id": "Eovjjw41EjMW",
        "colab_type": "code",
        "colab": {
          "base_uri": "https://localhost:8080/",
          "height": 298
        },
        "outputId": "ce1de84d-9d10-44a6-f6b1-61d0c2893649"
      },
      "source": [
        "i = np.random.choice( np.where(p_test != y_test)[0] )\n",
        "plt.imshow(X_test[i], cmap='gray')\n",
        "plt.title(\"True label: %s Predicted: %s\" % (y_test[i], p_test[i]))"
      ],
      "execution_count": null,
      "outputs": [
        {
          "output_type": "execute_result",
          "data": {
            "text/plain": [
              "Text(0.5, 1.0, 'True label: 3 Predicted: 2')"
            ]
          },
          "metadata": {
            "tags": []
          },
          "execution_count": 39
        },
        {
          "output_type": "display_data",
          "data": {
            "image/png": "[encoded data removed]",
            "text/plain": [
              "<Figure size 432x288 with 1 Axes>"
            ]
          },
          "metadata": {
            "tags": [],
            "needs_background": "light"
          }
        }
      ]
    },
    {
      "cell_type": "code",
      "metadata": {
        "id": "b5kYKsnJFC5C",
        "colab_type": "code",
        "colab": {}
      },
      "source": [
        ""
      ],
      "execution_count": null,
      "outputs": []
    }
  ]
}