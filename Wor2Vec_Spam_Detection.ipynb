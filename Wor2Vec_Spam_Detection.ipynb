{
  "nbformat": 4,
  "nbformat_minor": 0,
  "metadata": {
    "colab": {
      "name": "Wor2Vec Spam Detection.ipynb",
      "provenance": [],
      "collapsed_sections": [],
      "authorship_tag": "ABX9TyOfZMbcD3Z9I89YiyfIT7uN",
      "include_colab_link": true
    },
    "kernelspec": {
      "name": "python3",
      "display_name": "Python 3"
    },
    "accelerator": "GPU"
  },
  "cells": [
    {
      "cell_type": "markdown",
      "metadata": {
        "id": "view-in-github",
        "colab_type": "text"
      },
      "source": [
        "<a href=\"https://colab.research.google.com/github/harsh-bat/tensorFlow2Learn/blob/master/Wor2Vec_Spam_Detection.ipynb\" target=\"_parent\"><img src=\"https://colab.research.google.com/assets/colab-badge.svg\" alt=\"Open In Colab\"/></a>"
      ]
    },
    {
      "cell_type": "code",
      "metadata": {
        "id": "aoUJ4LrzQaOM",
        "colab_type": "code",
        "colab": {
          "base_uri": "https://localhost:8080/",
          "height": 134
        },
        "outputId": "d2bfd848-64d0-4cf0-fec9-6bf2966e57c6"
      },
      "source": [
        "EMBEDDING_FILE = '/root/input/GoogleNews-vectors-negative300.bin.gz'\n",
        "!wget -P /root/input/ -c \"https://s3.amazonaws.com/dl4j-distribution/GoogleNews-vectors-negative300.bin.gz\""
      ],
      "execution_count": 1,
      "outputs": [
        {
          "output_type": "stream",
          "text": [
            "--2020-09-14 11:53:49--  https://s3.amazonaws.com/dl4j-distribution/GoogleNews-vectors-negative300.bin.gz\n",
            "Resolving s3.amazonaws.com (s3.amazonaws.com)... 52.217.76.22\n",
            "Connecting to s3.amazonaws.com (s3.amazonaws.com)|52.217.76.22|:443... connected.\n",
            "HTTP request sent, awaiting response... 416 Requested Range Not Satisfiable\n",
            "\n",
            "    The file is already fully retrieved; nothing to do.\n",
            "\n"
          ],
          "name": "stdout"
        }
      ]
    },
    {
      "cell_type": "code",
      "metadata": {
        "id": "5vpmIVZvRNuJ",
        "colab_type": "code",
        "colab": {
          "base_uri": "https://localhost:8080/",
          "height": 70
        },
        "outputId": "981c276e-4b5d-476b-ede0-9e9b2c72b130"
      },
      "source": [
        "from gensim.models import KeyedVectors\n",
        "word2vec = KeyedVectors.load_word2vec_format(EMBEDDING_FILE, binary=True, )"
      ],
      "execution_count": 2,
      "outputs": [
        {
          "output_type": "stream",
          "text": [
            "/usr/local/lib/python3.6/dist-packages/smart_open/smart_open_lib.py:254: UserWarning: This function is deprecated, use smart_open.open instead. See the migration notes for details: https://github.com/RaRe-Technologies/smart_open/blob/master/README.rst#migrating-to-the-new-open-function\n",
            "  'See the migration notes for details: %s' % _MIGRATION_NOTES_URL\n"
          ],
          "name": "stderr"
        }
      ]
    },
    {
      "cell_type": "code",
      "metadata": {
        "id": "kkV70O9ySAPj",
        "colab_type": "code",
        "colab": {
          "base_uri": "https://localhost:8080/",
          "height": 34
        },
        "outputId": "d4c02afe-644e-4855-93f6-7855519b0abe"
      },
      "source": [
        "word2vec.word_vec(\"test\").shape"
      ],
      "execution_count": 3,
      "outputs": [
        {
          "output_type": "execute_result",
          "data": {
            "text/plain": [
              "(300,)"
            ]
          },
          "metadata": {
            "tags": []
          },
          "execution_count": 3
        }
      ]
    },
    {
      "cell_type": "code",
      "metadata": {
        "id": "AXbiKBazdWYq",
        "colab_type": "code",
        "colab": {}
      },
      "source": [
        "import numpy as np\n",
        "import pandas as pd\n",
        "import matplotlib.pyplot as plt\n",
        "from sklearn.model_selection import train_test_split\n",
        "\n",
        "from tensorflow.keras.preprocessing.text import Tokenizer\n",
        "from tensorflow.keras.preprocessing.sequence import pad_sequences\n",
        "from tensorflow.keras.layers import Dense, Input, GlobalMaxPooling1D, LSTM, Embedding \n",
        "from tensorflow.keras.models import Model"
      ],
      "execution_count": 22,
      "outputs": []
    },
    {
      "cell_type": "code",
      "metadata": {
        "id": "mQeaJS6pfACM",
        "colab_type": "code",
        "colab": {
          "base_uri": "https://localhost:8080/",
          "height": 202
        },
        "outputId": "503fd040-6030-4526-c2b6-88e0e8b7c5e8"
      },
      "source": [
        "!wget -nc https://lazyprogrammer.me/course_files/spam.csv"
      ],
      "execution_count": 23,
      "outputs": [
        {
          "output_type": "stream",
          "text": [
            "--2020-09-14 11:59:38--  https://lazyprogrammer.me/course_files/spam.csv\n",
            "Resolving lazyprogrammer.me (lazyprogrammer.me)... 172.67.213.166, 104.31.81.48, 104.31.80.48, ...\n",
            "Connecting to lazyprogrammer.me (lazyprogrammer.me)|172.67.213.166|:443... connected.\n",
            "HTTP request sent, awaiting response... 200 OK\n",
            "Length: 503663 (492K) [text/csv]\n",
            "Saving to: ‘spam.csv’\n",
            "\n",
            "\rspam.csv              0%[                    ]       0  --.-KB/s               \rspam.csv            100%[===================>] 491.86K  --.-KB/s    in 0.005s  \n",
            "\n",
            "2020-09-14 11:59:38 (106 MB/s) - ‘spam.csv’ saved [503663/503663]\n",
            "\n"
          ],
          "name": "stdout"
        }
      ]
    },
    {
      "cell_type": "code",
      "metadata": {
        "id": "wnn5uabkfBmc",
        "colab_type": "code",
        "colab": {}
      },
      "source": [
        "df = pd.read_csv('spam.csv', encoding='ISO-8859-1')\n",
        "df = df.drop([\"Unnamed: 2\", \"Unnamed: 3\", \"Unnamed: 4\"], axis=1)\n",
        "df.columns = ['labels', 'data']\n",
        "df['b_labels'] = df['labels'].map({'ham': 0, 'spam': 1})\n",
        "Y = df['b_labels'].values\n",
        "df_train, df_test, Ytrain, Ytest = train_test_split(df['data'], Y, test_size=0.33)"
      ],
      "execution_count": 24,
      "outputs": []
    },
    {
      "cell_type": "code",
      "metadata": {
        "id": "IkqH8UqzfLyL",
        "colab_type": "code",
        "colab": {}
      },
      "source": [
        "MAX_VOCAB_SIZE = 20000\n",
        "tokenizer = Tokenizer(num_words=MAX_VOCAB_SIZE)\n",
        "tokenizer.fit_on_texts(df_train)\n",
        "sequences_train = tokenizer.texts_to_sequences(df_train)\n",
        "sequences_test = tokenizer.texts_to_sequences(df_test)"
      ],
      "execution_count": 25,
      "outputs": []
    },
    {
      "cell_type": "code",
      "metadata": {
        "id": "Tg1WDlo_fNdW",
        "colab_type": "code",
        "colab": {}
      },
      "source": [
        "V = len(tokenizer.word_index) + 1 "
      ],
      "execution_count": 26,
      "outputs": []
    },
    {
      "cell_type": "code",
      "metadata": {
        "id": "CPFcrMTGfQ4q",
        "colab_type": "code",
        "colab": {}
      },
      "source": [
        "data_train = pad_sequences(sequences_train)"
      ],
      "execution_count": 27,
      "outputs": []
    },
    {
      "cell_type": "code",
      "metadata": {
        "id": "EZkJL6qafT2X",
        "colab_type": "code",
        "colab": {}
      },
      "source": [
        "T = data_train.shape[1]"
      ],
      "execution_count": 28,
      "outputs": []
    },
    {
      "cell_type": "code",
      "metadata": {
        "id": "tDH5ac3LfVw7",
        "colab_type": "code",
        "colab": {}
      },
      "source": [
        "data_test = pad_sequences(sequences_test, maxlen=T)"
      ],
      "execution_count": 29,
      "outputs": []
    },
    {
      "cell_type": "code",
      "metadata": {
        "id": "leRa09tSfqP2",
        "colab_type": "code",
        "colab": {}
      },
      "source": [
        "embedding_matrix = np.zeros((V , 300))\n",
        "for word,ind in tokenizer.word_index.items():\n",
        "  try:\n",
        "    embedding_matrix[ind,:] = word2vec.word_vec(word).reshape(300)\n",
        "  except:\n",
        "    pass"
      ],
      "execution_count": 30,
      "outputs": []
    },
    {
      "cell_type": "code",
      "metadata": {
        "id": "sgroOhDjfXhV",
        "colab_type": "code",
        "colab": {}
      },
      "source": [
        "M = 15\n",
        "\n",
        "\n",
        "\n",
        "i = Input(shape=(T,))\n",
        "x = Embedding(V, 300, weights=[embedding_matrix], trainable=False)(i)\n",
        "\n",
        "# Now we have N x T x D\n",
        "\n",
        "x = LSTM(M, return_sequences=True)(x)\n",
        "x = GlobalMaxPooling1D()(x)\n",
        "x = Dense(1, activation='sigmoid')(x)\n",
        "\n",
        "model = Model(i, x)"
      ],
      "execution_count": 41,
      "outputs": []
    },
    {
      "cell_type": "code",
      "metadata": {
        "id": "tnt5zjfDfr89",
        "colab_type": "code",
        "colab": {}
      },
      "source": [
        "model.compile(\n",
        "    optimizer='adam',\n",
        "    loss = 'binary_crossentropy',\n",
        "    metrics = ['accuracy']\n",
        ")"
      ],
      "execution_count": 42,
      "outputs": []
    },
    {
      "cell_type": "code",
      "metadata": {
        "id": "qikKNjc4fyNR",
        "colab_type": "code",
        "colab": {
          "base_uri": "https://localhost:8080/",
          "height": 689
        },
        "outputId": "fb97a1c1-9e57-4fdf-de09-29cbde930aa2"
      },
      "source": [
        "r = model.fit(\n",
        "   data_train,\n",
        "  Ytrain,\n",
        "  epochs=20,\n",
        "  validation_data=(data_test, Ytest)\n",
        ")"
      ],
      "execution_count": 43,
      "outputs": [
        {
          "output_type": "stream",
          "text": [
            "Epoch 1/20\n",
            "117/117 [==============================] - 2s 16ms/step - loss: 0.3524 - accuracy: 0.8795 - val_loss: 0.1865 - val_accuracy: 0.9489\n",
            "Epoch 2/20\n",
            "117/117 [==============================] - 1s 12ms/step - loss: 0.1419 - accuracy: 0.9646 - val_loss: 0.1304 - val_accuracy: 0.9641\n",
            "Epoch 3/20\n",
            "117/117 [==============================] - 1s 12ms/step - loss: 0.1034 - accuracy: 0.9778 - val_loss: 0.1057 - val_accuracy: 0.9734\n",
            "Epoch 4/20\n",
            "117/117 [==============================] - 1s 12ms/step - loss: 0.0820 - accuracy: 0.9821 - val_loss: 0.0855 - val_accuracy: 0.9799\n",
            "Epoch 5/20\n",
            "117/117 [==============================] - 2s 13ms/step - loss: 0.0714 - accuracy: 0.9845 - val_loss: 0.0790 - val_accuracy: 0.9810\n",
            "Epoch 6/20\n",
            "117/117 [==============================] - 2s 13ms/step - loss: 0.0602 - accuracy: 0.9874 - val_loss: 0.0725 - val_accuracy: 0.9815\n",
            "Epoch 7/20\n",
            "117/117 [==============================] - 1s 13ms/step - loss: 0.0530 - accuracy: 0.9885 - val_loss: 0.0718 - val_accuracy: 0.9782\n",
            "Epoch 8/20\n",
            "117/117 [==============================] - 1s 13ms/step - loss: 0.0544 - accuracy: 0.9858 - val_loss: 0.1158 - val_accuracy: 0.9625\n",
            "Epoch 9/20\n",
            "117/117 [==============================] - 1s 12ms/step - loss: 0.0448 - accuracy: 0.9896 - val_loss: 0.0601 - val_accuracy: 0.9826\n",
            "Epoch 10/20\n",
            "117/117 [==============================] - 1s 12ms/step - loss: 0.0392 - accuracy: 0.9928 - val_loss: 0.0738 - val_accuracy: 0.9815\n",
            "Epoch 11/20\n",
            "117/117 [==============================] - 1s 13ms/step - loss: 0.0361 - accuracy: 0.9933 - val_loss: 0.0730 - val_accuracy: 0.9815\n",
            "Epoch 12/20\n",
            "117/117 [==============================] - 1s 13ms/step - loss: 0.0507 - accuracy: 0.9885 - val_loss: 0.0753 - val_accuracy: 0.9788\n",
            "Epoch 13/20\n",
            "117/117 [==============================] - 1s 13ms/step - loss: 0.0371 - accuracy: 0.9920 - val_loss: 0.0641 - val_accuracy: 0.9848\n",
            "Epoch 14/20\n",
            "117/117 [==============================] - 1s 13ms/step - loss: 0.0299 - accuracy: 0.9944 - val_loss: 0.0649 - val_accuracy: 0.9848\n",
            "Epoch 15/20\n",
            "117/117 [==============================] - 2s 13ms/step - loss: 0.0262 - accuracy: 0.9949 - val_loss: 0.0665 - val_accuracy: 0.9831\n",
            "Epoch 16/20\n",
            "117/117 [==============================] - 2s 13ms/step - loss: 0.0240 - accuracy: 0.9952 - val_loss: 0.0591 - val_accuracy: 0.9859\n",
            "Epoch 17/20\n",
            "117/117 [==============================] - 1s 13ms/step - loss: 0.0221 - accuracy: 0.9962 - val_loss: 0.0640 - val_accuracy: 0.9853\n",
            "Epoch 18/20\n",
            "117/117 [==============================] - 1s 12ms/step - loss: 0.0208 - accuracy: 0.9960 - val_loss: 0.0575 - val_accuracy: 0.9853\n",
            "Epoch 19/20\n",
            "117/117 [==============================] - 2s 13ms/step - loss: 0.0199 - accuracy: 0.9965 - val_loss: 0.0590 - val_accuracy: 0.9848\n",
            "Epoch 20/20\n",
            "117/117 [==============================] - 1s 13ms/step - loss: 0.0269 - accuracy: 0.9922 - val_loss: 0.0589 - val_accuracy: 0.9848\n"
          ],
          "name": "stdout"
        }
      ]
    },
    {
      "cell_type": "code",
      "metadata": {
        "id": "vuMZ3ENLfzoV",
        "colab_type": "code",
        "colab": {
          "base_uri": "https://localhost:8080/",
          "height": 282
        },
        "outputId": "94336f02-f496-433c-dd74-28967f1a0191"
      },
      "source": [
        "plt.plot(r.history['loss'], label='loss')\n",
        "plt.plot(r.history['val_loss'], label='val_loss')\n",
        "plt.legend()"
      ],
      "execution_count": 44,
      "outputs": [
        {
          "output_type": "execute_result",
          "data": {
            "text/plain": [
              "<matplotlib.legend.Legend at 0x7fdfe02d15f8>"
            ]
          },
          "metadata": {
            "tags": []
          },
          "execution_count": 44
        },
        {
          "output_type": "display_data",
          "data": {
            "image/png": "[encoded data removed]",
            "text/plain": [
              "<Figure size 432x288 with 1 Axes>"
            ]
          },
          "metadata": {
            "tags": [],
            "needs_background": "light"
          }
        }
      ]
    },
    {
      "cell_type": "code",
      "metadata": {
        "id": "5seeiBMzf7ND",
        "colab_type": "code",
        "colab": {
          "base_uri": "https://localhost:8080/",
          "height": 282
        },
        "outputId": "db2349c9-4303-4491-9518-23979f941964"
      },
      "source": [
        "plt.plot(r.history['accuracy'], label='acc')\n",
        "plt.plot(r.history['val_accuracy'], label='val_acc')\n",
        "plt.legend()"
      ],
      "execution_count": 45,
      "outputs": [
        {
          "output_type": "execute_result",
          "data": {
            "text/plain": [
              "<matplotlib.legend.Legend at 0x7fdfe0172b38>"
            ]
          },
          "metadata": {
            "tags": []
          },
          "execution_count": 45
        },
        {
          "output_type": "display_data",
          "data": {
            "image/png": "[encoded data removed]",
            "text/plain": [
              "<Figure size 432x288 with 1 Axes>"
            ]
          },
          "metadata": {
            "tags": [],
            "needs_background": "light"
          }
        }
      ]
    },
    {
      "cell_type": "code",
      "metadata": {
        "id": "FUcrrnSef8nl",
        "colab_type": "code",
        "colab": {
          "base_uri": "https://localhost:8080/",
          "height": 319
        },
        "outputId": "b24e8e39-012d-413b-c2d6-0482daa5a3c7"
      },
      "source": [
        "model.summary()"
      ],
      "execution_count": 46,
      "outputs": [
        {
          "output_type": "stream",
          "text": [
            "Model: \"functional_3\"\n",
            "_________________________________________________________________\n",
            "Layer (type)                 Output Shape              Param #   \n",
            "=================================================================\n",
            "input_3 (InputLayer)         [(None, 189)]             0         \n",
            "_________________________________________________________________\n",
            "embedding_1 (Embedding)      (None, 189, 300)          2185800   \n",
            "_________________________________________________________________\n",
            "lstm_1 (LSTM)                (None, 189, 15)           18960     \n",
            "_________________________________________________________________\n",
            "global_max_pooling1d_1 (Glob (None, 15)                0         \n",
            "_________________________________________________________________\n",
            "dense_1 (Dense)              (None, 1)                 16        \n",
            "=================================================================\n",
            "Total params: 2,204,776\n",
            "Trainable params: 18,976\n",
            "Non-trainable params: 2,185,800\n",
            "_________________________________________________________________\n"
          ],
          "name": "stdout"
        }
      ]
    },
    {
      "cell_type": "code",
      "metadata": {
        "id": "Rjk-rg0ngBc3",
        "colab_type": "code",
        "colab": {
          "base_uri": "https://localhost:8080/",
          "height": 34
        },
        "outputId": "b82483e6-72bb-4b1f-a210-c4d006cf8d40"
      },
      "source": [
        "V"
      ],
      "execution_count": 47,
      "outputs": [
        {
          "output_type": "execute_result",
          "data": {
            "text/plain": [
              "7286"
            ]
          },
          "metadata": {
            "tags": []
          },
          "execution_count": 47
        }
      ]
    },
    {
      "cell_type": "code",
      "metadata": {
        "id": "oZI8Fgjzg_Hz",
        "colab_type": "code",
        "colab": {}
      },
      "source": [
        ""
      ],
      "execution_count": null,
      "outputs": []
    }
  ]
}