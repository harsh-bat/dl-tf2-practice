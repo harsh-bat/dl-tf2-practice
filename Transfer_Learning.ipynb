{
  "nbformat": 4,
  "nbformat_minor": 0,
  "metadata": {
    "colab": {
      "name": "Transfer Learning.ipynb",
      "provenance": [],
      "collapsed_sections": [],
      "authorship_tag": "ABX9TyO1QswQ4fMtcmDZfXkCzlBJ",
      "include_colab_link": true
    },
    "kernelspec": {
      "name": "python3",
      "display_name": "Python 3"
    },
    "accelerator": "GPU"
  },
  "cells": [
    {
      "cell_type": "markdown",
      "metadata": {
        "id": "view-in-github",
        "colab_type": "text"
      },
      "source": [
        "<a href=\"https://colab.research.google.com/github/harsh-bat/tensorFlow2Learn/blob/master/Transfer_Learning.ipynb\" target=\"_parent\"><img src=\"https://colab.research.google.com/assets/colab-badge.svg\" alt=\"Open In Colab\"/></a>"
      ]
    },
    {
      "cell_type": "code",
      "metadata": {
        "id": "lyfleiZTQoaZ",
        "colab_type": "code",
        "colab": {}
      },
      "source": [
        "import tensorflow as tf\n",
        "from tensorflow.keras.layers import Input, Dense, Flatten\n",
        "from tensorflow.keras.applications.vgg16 import VGG16 as PretrainedModel, preprocess_input\n",
        "from tensorflow.keras.models import Model\n",
        "from tensorflow.keras.optimizers import SGD, Adam\n",
        "from tensorflow.keras.preprocessing import image\n",
        "from tensorflow.keras.preprocessing.image import ImageDataGenerator\n",
        "\n",
        "from glob import glob\n",
        "import sys, os\n",
        "\n",
        "\n",
        "import numpy as np\n",
        "import pandas as pd\n",
        "import matplotlib.pyplot as plt"
      ],
      "execution_count": 1,
      "outputs": []
    },
    {
      "cell_type": "code",
      "metadata": {
        "id": "ADwXvDuEQ0Iz",
        "colab_type": "code",
        "colab": {
          "base_uri": "https://localhost:8080/",
          "height": 202
        },
        "outputId": "f32a652f-d6b4-4b04-a2e1-1cb4925eddef"
      },
      "source": [
        "# Getting that data and moving stuff. Same as last script\n",
        "!wget -nc https://lazyprogrammer.me/course_files/Food-5K.zip\n",
        "!unzip -qq -o Food-5K.zip\n",
        "!mv Food-5K/* .\n",
        "!mkdir data\n",
        "!mkdir data/train\n",
        "!mkdir data/test\n",
        "!mkdir data/train/nonfood\n",
        "!mkdir data/train/food\n",
        "!mkdir data/test/nonfood\n",
        "!mkdir data/test/food\n",
        "!mv training/0*.jpg data/train/nonfood\n",
        "!mv training/1*.jpg data/train/food\n",
        "!mv validation/0*.jpg data/test/nonfood\n",
        "!mv validation/1*.jpg data/test/food\n",
        "train_path = 'data/train'\n",
        "valid_path = 'data/test'\n",
        "IMAGE_SIZE = [200, 200]\n",
        "image_files = glob(train_path + '/*/*.jpg')\n",
        "valid_image_files = glob(valid_path + '/*/*.jpg')\n",
        "folders = glob(train_path + '/*')"
      ],
      "execution_count": 2,
      "outputs": [
        {
          "output_type": "stream",
          "text": [
            "--2020-09-15 10:17:49--  https://lazyprogrammer.me/course_files/Food-5K.zip\n",
            "Resolving lazyprogrammer.me (lazyprogrammer.me)... 104.31.81.48, 172.67.213.166, 104.31.80.48, ...\n",
            "Connecting to lazyprogrammer.me (lazyprogrammer.me)|104.31.81.48|:443... connected.\n",
            "HTTP request sent, awaiting response... 200 OK\n",
            "Length: 447001986 (426M) [application/zip]\n",
            "Saving to: ‘Food-5K.zip’\n",
            "\n",
            "Food-5K.zip         100%[===================>] 426.29M  8.81MB/s    in 53s     \n",
            "\n",
            "2020-09-15 10:18:43 (8.08 MB/s) - ‘Food-5K.zip’ saved [447001986/447001986]\n",
            "\n"
          ],
          "name": "stdout"
        }
      ]
    },
    {
      "cell_type": "code",
      "metadata": {
        "id": "UIoLKKH9RUBB",
        "colab_type": "code",
        "colab": {
          "base_uri": "https://localhost:8080/",
          "height": 50
        },
        "outputId": "6d888446-7494-49d4-e9e2-91730fc6a633"
      },
      "source": [
        "ptm = PretrainedModel(\n",
        "    input_shape = IMAGE_SIZE + [3],\n",
        "    include_top=False,\n",
        "    weights = 'imagenet',\n",
        ")\n",
        "ptm.trainable = False"
      ],
      "execution_count": 3,
      "outputs": [
        {
          "output_type": "stream",
          "text": [
            "Downloading data from https://storage.googleapis.com/tensorflow/keras-applications/vgg16/vgg16_weights_tf_dim_ordering_tf_kernels_notop.h5\n",
            "58892288/58889256 [==============================] - 2s 0us/step\n"
          ],
          "name": "stdout"
        }
      ]
    },
    {
      "cell_type": "code",
      "metadata": {
        "id": "6jkci4gCRZck",
        "colab_type": "code",
        "colab": {}
      },
      "source": [
        "x = Flatten()(ptm.output)\n",
        "model = Model(inputs=ptm.input, outputs=x)"
      ],
      "execution_count": 4,
      "outputs": []
    },
    {
      "cell_type": "code",
      "metadata": {
        "id": "5Gapa_43SHup",
        "colab_type": "code",
        "colab": {
          "base_uri": "https://localhost:8080/",
          "height": 823
        },
        "outputId": "9f1e80ea-1bea-430a-cef8-ffdd1afc1fb2"
      },
      "source": [
        "model.summary()"
      ],
      "execution_count": 5,
      "outputs": [
        {
          "output_type": "stream",
          "text": [
            "Model: \"functional_1\"\n",
            "_________________________________________________________________\n",
            "Layer (type)                 Output Shape              Param #   \n",
            "=================================================================\n",
            "input_1 (InputLayer)         [(None, 200, 200, 3)]     0         \n",
            "_________________________________________________________________\n",
            "block1_conv1 (Conv2D)        (None, 200, 200, 64)      1792      \n",
            "_________________________________________________________________\n",
            "block1_conv2 (Conv2D)        (None, 200, 200, 64)      36928     \n",
            "_________________________________________________________________\n",
            "block1_pool (MaxPooling2D)   (None, 100, 100, 64)      0         \n",
            "_________________________________________________________________\n",
            "block2_conv1 (Conv2D)        (None, 100, 100, 128)     73856     \n",
            "_________________________________________________________________\n",
            "block2_conv2 (Conv2D)        (None, 100, 100, 128)     147584    \n",
            "_________________________________________________________________\n",
            "block2_pool (MaxPooling2D)   (None, 50, 50, 128)       0         \n",
            "_________________________________________________________________\n",
            "block3_conv1 (Conv2D)        (None, 50, 50, 256)       295168    \n",
            "_________________________________________________________________\n",
            "block3_conv2 (Conv2D)        (None, 50, 50, 256)       590080    \n",
            "_________________________________________________________________\n",
            "block3_conv3 (Conv2D)        (None, 50, 50, 256)       590080    \n",
            "_________________________________________________________________\n",
            "block3_pool (MaxPooling2D)   (None, 25, 25, 256)       0         \n",
            "_________________________________________________________________\n",
            "block4_conv1 (Conv2D)        (None, 25, 25, 512)       1180160   \n",
            "_________________________________________________________________\n",
            "block4_conv2 (Conv2D)        (None, 25, 25, 512)       2359808   \n",
            "_________________________________________________________________\n",
            "block4_conv3 (Conv2D)        (None, 25, 25, 512)       2359808   \n",
            "_________________________________________________________________\n",
            "block4_pool (MaxPooling2D)   (None, 12, 12, 512)       0         \n",
            "_________________________________________________________________\n",
            "block5_conv1 (Conv2D)        (None, 12, 12, 512)       2359808   \n",
            "_________________________________________________________________\n",
            "block5_conv2 (Conv2D)        (None, 12, 12, 512)       2359808   \n",
            "_________________________________________________________________\n",
            "block5_conv3 (Conv2D)        (None, 12, 12, 512)       2359808   \n",
            "_________________________________________________________________\n",
            "block5_pool (MaxPooling2D)   (None, 6, 6, 512)         0         \n",
            "_________________________________________________________________\n",
            "flatten (Flatten)            (None, 18432)             0         \n",
            "=================================================================\n",
            "Total params: 14,714,688\n",
            "Trainable params: 0\n",
            "Non-trainable params: 14,714,688\n",
            "_________________________________________________________________\n"
          ],
          "name": "stdout"
        }
      ]
    },
    {
      "cell_type": "code",
      "metadata": {
        "id": "Bzk5j1VOSJeR",
        "colab_type": "code",
        "colab": {
          "base_uri": "https://localhost:8080/",
          "height": 50
        },
        "outputId": "77bf6cd8-954e-4f3d-b74b-0d1a0a263d6b"
      },
      "source": [
        "gen = ImageDataGenerator(preprocessing_function=preprocess_input)\n",
        "\n",
        "batch_size = 128\n",
        "\n",
        "\n",
        "train_generator = gen.flow_from_directory(\n",
        "  train_path,\n",
        "  target_size=IMAGE_SIZE,\n",
        "  batch_size=batch_size,\n",
        "  class_mode='binary',\n",
        ")\n",
        "\n",
        "valid_generator = gen.flow_from_directory(\n",
        "  valid_path,\n",
        "  target_size=IMAGE_SIZE,\n",
        "  batch_size=batch_size,\n",
        "  class_mode='binary',\n",
        ")"
      ],
      "execution_count": 6,
      "outputs": [
        {
          "output_type": "stream",
          "text": [
            "Found 3000 images belonging to 2 classes.\n",
            "Found 1000 images belonging to 2 classes.\n"
          ],
          "name": "stdout"
        }
      ]
    },
    {
      "cell_type": "code",
      "metadata": {
        "id": "Ls_GAPeSUhux",
        "colab_type": "code",
        "colab": {}
      },
      "source": [
        "Ntrain = len(image_files)\n",
        "Nvalid = len(valid_image_files)\n",
        "\n",
        "# Random image sent to get th shape\n",
        "feat = model.predict(np.random.random([1] + IMAGE_SIZE + [3]))\n",
        "D = feat.shape[1]\n",
        "\n",
        "X_train = np.zeros((Ntrain, D))\n",
        "Y_train = np.zeros(Ntrain)\n",
        "X_valid = np.zeros((Nvalid, D))\n",
        "Y_valid = np.zeros(Nvalid)"
      ],
      "execution_count": 7,
      "outputs": []
    },
    {
      "cell_type": "code",
      "metadata": {
        "id": "qxTl8bVZUsDf",
        "colab_type": "code",
        "colab": {
          "base_uri": "https://localhost:8080/",
          "height": 454
        },
        "outputId": "1b5abf5c-4862-40e7-ffc4-673a1052c565"
      },
      "source": [
        "i = 0\n",
        "for x, y in train_generator:\n",
        "  # get features\n",
        "  features = model.predict(x)\n",
        "  \n",
        "  # size of the batch (may not always be batch_size)\n",
        "  sz = len(y)\n",
        "  \n",
        "  # assign to X_train and Ytrain\n",
        "  X_train[i:i + sz] = features\n",
        "  Y_train[i:i + sz] = y\n",
        "  \n",
        "  # increment i\n",
        "  i += sz\n",
        "  print(i)\n",
        "\n",
        "  if i >= Ntrain:\n",
        "    print('breaking now')\n",
        "    break\n",
        "print(i)"
      ],
      "execution_count": 8,
      "outputs": [
        {
          "output_type": "stream",
          "text": [
            "128\n",
            "256\n",
            "384\n",
            "512\n",
            "640\n",
            "768\n",
            "896\n",
            "1024\n",
            "1152\n",
            "1280\n",
            "1408\n",
            "1536\n",
            "1664\n",
            "1792\n",
            "1920\n",
            "2048\n",
            "2176\n",
            "2304\n",
            "2432\n",
            "2560\n",
            "2688\n",
            "2816\n",
            "2944\n",
            "3000\n",
            "breaking now\n",
            "3000\n"
          ],
          "name": "stdout"
        }
      ]
    },
    {
      "cell_type": "code",
      "metadata": {
        "id": "h0KLGo9-U4nW",
        "colab_type": "code",
        "colab": {
          "base_uri": "https://localhost:8080/",
          "height": 50
        },
        "outputId": "3dcf290c-fadc-4e03-b1a0-ff04127e1d3a"
      },
      "source": [
        "i = 0\n",
        "for x, y in valid_generator:\n",
        "  features = model.predict(x)\n",
        "  \n",
        "  # size of the batch (may not always be batch_size)\n",
        "  sz = len(y)\n",
        "  \n",
        "  # assign to X_train and Ytrain\n",
        "  X_valid[i:i + sz] = features\n",
        "  Y_valid[i:i + sz] = y\n",
        "  \n",
        "  # increment i\n",
        "  i += sz\n",
        "\n",
        "  if i >= Nvalid:\n",
        "    print('breaking now')\n",
        "    break\n",
        "print(i)"
      ],
      "execution_count": 9,
      "outputs": [
        {
          "output_type": "stream",
          "text": [
            "breaking now\n",
            "1000\n"
          ],
          "name": "stdout"
        }
      ]
    },
    {
      "cell_type": "code",
      "metadata": {
        "id": "B8jWlgCrVRuj",
        "colab_type": "code",
        "colab": {
          "base_uri": "https://localhost:8080/",
          "height": 34
        },
        "outputId": "c0877f45-d2a4-4a58-f195-35df9819e563"
      },
      "source": [
        "X_train.max(), X_train.min()"
      ],
      "execution_count": 10,
      "outputs": [
        {
          "output_type": "execute_result",
          "data": {
            "text/plain": [
              "(650.8261108398438, 0.0)"
            ]
          },
          "metadata": {
            "tags": []
          },
          "execution_count": 10
        }
      ]
    },
    {
      "cell_type": "code",
      "metadata": {
        "id": "ZQ8UVVEZVUKz",
        "colab_type": "code",
        "colab": {}
      },
      "source": [
        "from sklearn.preprocessing import StandardScaler\n",
        "\n",
        "scaler = StandardScaler()\n",
        "\n",
        "X_train2 = scaler.fit_transform(X_train)\n",
        "X_valid2 = scaler.transform(X_valid)"
      ],
      "execution_count": 11,
      "outputs": []
    },
    {
      "cell_type": "code",
      "metadata": {
        "id": "BxHJBf-FVYuf",
        "colab_type": "code",
        "colab": {}
      },
      "source": [
        "i = Input(shape=(D,))\n",
        "x = Dense(1, activation='sigmoid')(i)\n",
        "linearmodel = Model(i, x)"
      ],
      "execution_count": 17,
      "outputs": []
    },
    {
      "cell_type": "code",
      "metadata": {
        "id": "ajsITKoHVeLx",
        "colab_type": "code",
        "colab": {}
      },
      "source": [
        "linearmodel.compile(\n",
        "    loss='binary_crossentropy',\n",
        "    optimizer='adam',\n",
        "    metrics=['accuracy'])"
      ],
      "execution_count": 18,
      "outputs": []
    },
    {
      "cell_type": "code",
      "metadata": {
        "id": "odHPNhfyVgyU",
        "colab_type": "code",
        "colab": {
          "base_uri": "https://localhost:8080/",
          "height": 689
        },
        "outputId": "e896808b-19d6-40ea-8ddc-482a3ce9fff9"
      },
      "source": [
        "r = linearmodel.fit(\n",
        "    X_train, Y_train,\n",
        "    batch_size=128,\n",
        "    epochs=20,\n",
        "    validation_data=(X_valid, Y_valid),\n",
        ")"
      ],
      "execution_count": 19,
      "outputs": [
        {
          "output_type": "stream",
          "text": [
            "Epoch 1/20\n",
            "24/24 [==============================] - 0s 16ms/step - loss: 1.0008 - accuracy: 0.9337 - val_loss: 0.2529 - val_accuracy: 0.9790\n",
            "Epoch 2/20\n",
            "24/24 [==============================] - 0s 8ms/step - loss: 0.0811 - accuracy: 0.9930 - val_loss: 0.2830 - val_accuracy: 0.9790\n",
            "Epoch 3/20\n",
            "24/24 [==============================] - 0s 8ms/step - loss: 0.0257 - accuracy: 0.9963 - val_loss: 0.3372 - val_accuracy: 0.9740\n",
            "Epoch 4/20\n",
            "24/24 [==============================] - 0s 8ms/step - loss: 0.0024 - accuracy: 0.9997 - val_loss: 0.2760 - val_accuracy: 0.9780\n",
            "Epoch 5/20\n",
            "24/24 [==============================] - 0s 9ms/step - loss: 8.3600e-04 - accuracy: 0.9997 - val_loss: 0.2875 - val_accuracy: 0.9760\n",
            "Epoch 6/20\n",
            "24/24 [==============================] - 0s 9ms/step - loss: 4.5154e-05 - accuracy: 1.0000 - val_loss: 0.3039 - val_accuracy: 0.9780\n",
            "Epoch 7/20\n",
            "24/24 [==============================] - 0s 8ms/step - loss: 3.4327e-06 - accuracy: 1.0000 - val_loss: 0.3024 - val_accuracy: 0.9780\n",
            "Epoch 8/20\n",
            "24/24 [==============================] - 0s 8ms/step - loss: 2.2236e-06 - accuracy: 1.0000 - val_loss: 0.3019 - val_accuracy: 0.9780\n",
            "Epoch 9/20\n",
            "24/24 [==============================] - 0s 8ms/step - loss: 1.8577e-06 - accuracy: 1.0000 - val_loss: 0.3014 - val_accuracy: 0.9780\n",
            "Epoch 10/20\n",
            "24/24 [==============================] - 0s 9ms/step - loss: 1.4832e-06 - accuracy: 1.0000 - val_loss: 0.3011 - val_accuracy: 0.9780\n",
            "Epoch 11/20\n",
            "24/24 [==============================] - 0s 9ms/step - loss: 1.3373e-06 - accuracy: 1.0000 - val_loss: 0.3008 - val_accuracy: 0.9780\n",
            "Epoch 12/20\n",
            "24/24 [==============================] - 0s 9ms/step - loss: 1.1476e-06 - accuracy: 1.0000 - val_loss: 0.3005 - val_accuracy: 0.9780\n",
            "Epoch 13/20\n",
            "24/24 [==============================] - 0s 9ms/step - loss: 1.0480e-06 - accuracy: 1.0000 - val_loss: 0.3002 - val_accuracy: 0.9780\n",
            "Epoch 14/20\n",
            "24/24 [==============================] - 0s 8ms/step - loss: 9.3701e-07 - accuracy: 1.0000 - val_loss: 0.3000 - val_accuracy: 0.9780\n",
            "Epoch 15/20\n",
            "24/24 [==============================] - 0s 9ms/step - loss: 8.4806e-07 - accuracy: 1.0000 - val_loss: 0.2997 - val_accuracy: 0.9780\n",
            "Epoch 16/20\n",
            "24/24 [==============================] - 0s 9ms/step - loss: 7.8074e-07 - accuracy: 1.0000 - val_loss: 0.2995 - val_accuracy: 0.9780\n",
            "Epoch 17/20\n",
            "24/24 [==============================] - 0s 9ms/step - loss: 7.2331e-07 - accuracy: 1.0000 - val_loss: 0.2992 - val_accuracy: 0.9780\n",
            "Epoch 18/20\n",
            "24/24 [==============================] - 0s 8ms/step - loss: 6.8196e-07 - accuracy: 1.0000 - val_loss: 0.2990 - val_accuracy: 0.9780\n",
            "Epoch 19/20\n",
            "24/24 [==============================] - 0s 9ms/step - loss: 6.3658e-07 - accuracy: 1.0000 - val_loss: 0.2988 - val_accuracy: 0.9780\n",
            "Epoch 20/20\n",
            "24/24 [==============================] - 0s 8ms/step - loss: 6.0054e-07 - accuracy: 1.0000 - val_loss: 0.2986 - val_accuracy: 0.9780\n"
          ],
          "name": "stdout"
        }
      ]
    },
    {
      "cell_type": "code",
      "metadata": {
        "id": "NxFmegbDVjeU",
        "colab_type": "code",
        "colab": {
          "base_uri": "https://localhost:8080/",
          "height": 265
        },
        "outputId": "427adcd1-f89c-4419-9bbd-f5447cc6b70c"
      },
      "source": [
        "plt.plot(r.history['loss'], label='train loss')\n",
        "plt.plot(r.history['val_loss'], label='val loss')\n",
        "plt.legend()\n",
        "plt.show()"
      ],
      "execution_count": 20,
      "outputs": [
        {
          "output_type": "display_data",
          "data": {
            "image/png": "[encoded data removed]",
            "text/plain": [
              "<Figure size 432x288 with 1 Axes>"
            ]
          },
          "metadata": {
            "tags": [],
            "needs_background": "light"
          }
        }
      ]
    },
    {
      "cell_type": "code",
      "metadata": {
        "id": "C6IYSbUzVmsL",
        "colab_type": "code",
        "colab": {
          "base_uri": "https://localhost:8080/",
          "height": 265
        },
        "outputId": "05f1cabc-6a1d-4f07-b49c-368553323ec4"
      },
      "source": [
        "plt.plot(r.history['accuracy'], label='train acc')\n",
        "plt.plot(r.history['val_accuracy'], label='val acc')\n",
        "plt.legend()\n",
        "plt.show()"
      ],
      "execution_count": 21,
      "outputs": [
        {
          "output_type": "display_data",
          "data": {
            "image/png": "[encoded data removed]",
            "text/plain": [
              "<Figure size 432x288 with 1 Axes>"
            ]
          },
          "metadata": {
            "tags": [],
            "needs_background": "light"
          }
        }
      ]
    },
    {
      "cell_type": "code",
      "metadata": {
        "id": "5mfLTt_FVox2",
        "colab_type": "code",
        "colab": {}
      },
      "source": [
        ""
      ],
      "execution_count": null,
      "outputs": []
    }
  ]
}